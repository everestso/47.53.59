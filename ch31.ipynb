{
  "nbformat": 4,
  "nbformat_minor": 0,
  "metadata": {
    "colab": {
      "name": "ch31.ipynb",
      "version": "0.3.2",
      "provenance": [],
      "collapsed_sections": [],
      "include_colab_link": true
    },
    "kernelspec": {
      "name": "python3",
      "display_name": "Python 3"
    }
  },
  "cells": [
    {
      "cell_type": "markdown",
      "metadata": {
        "id": "view-in-github",
        "colab_type": "text"
      },
      "source": [
        "<a href=\"https://colab.research.google.com/github/everestso/61.67.71.73/blob/master/ch31.ipynb\" target=\"_parent\"><img src=\"https://colab.research.google.com/assets/colab-badge.svg\" alt=\"Open In Colab\"/></a>"
      ]
    },
    {
      "cell_type": "code",
      "metadata": {
        "id": "uK5A0Tg7QGa3",
        "colab_type": "code",
        "colab": {}
      },
      "source": [
        "### Extend Euclid\n",
        "def EE(a, b):\n",
        "  if b == 0:\n",
        "    return (a, 1, 0)\n",
        "  else:\n",
        "    (dPrime, xPrime, yPrime) = EE(b, a % b)\n",
        "    (d, x, y) = (dPrime, yPrime, xPrime - (a//b*yPrime))\n",
        "    return (d, x, y)\n",
        "  \n",
        "  \n"
      ],
      "execution_count": 0,
      "outputs": []
    },
    {
      "cell_type": "code",
      "metadata": {
        "id": "ZpV3Vml7SHnL",
        "colab_type": "code",
        "outputId": "5d5b41f7-8451-4331-912a-f3a2ec284865",
        "colab": {
          "base_uri": "https://localhost:8080/",
          "height": 68
        }
      },
      "source": [
        "a = 12; b=15\n",
        "print (a, b, EE( a, b))\n",
        "a= 125; b=300\n",
        "o = EE( a, b)\n",
        "print (a, b, o)\n",
        "print (a*o[1]+b*o[2])\n"
      ],
      "execution_count": 28,
      "outputs": [
        {
          "output_type": "stream",
          "text": [
            "12 15 (3, -1, 1)\n",
            "125 300 (25, 5, -2)\n",
            "25\n"
          ],
          "name": "stdout"
        }
      ]
    },
    {
      "cell_type": "code",
      "metadata": {
        "id": "ehdEWfj1S6cC",
        "colab_type": "code",
        "outputId": "4a96ef7d-81b2-46c4-db11-2922dbe5925a",
        "colab": {
          "base_uri": "https://localhost:8080/",
          "height": 34
        }
      },
      "source": [
        "def MLE(a, b, n):\n",
        "  out = []\n",
        "  (d, xPrime, yPrime) = EE(a, n)\n",
        "  if ( b % d == 0 ):\n",
        "    x0 = (xPrime*b//d) % n\n",
        "    for i in range(d): \n",
        "      out += [(x0 + i*(n//d)) % n ]\n",
        "  return out\n",
        "    \n",
        "print (MLE(14,30,100))\n",
        "\n"
      ],
      "execution_count": 29,
      "outputs": [
        {
          "output_type": "stream",
          "text": [
            "[95, 45]\n"
          ],
          "name": "stdout"
        }
      ]
    },
    {
      "cell_type": "code",
      "metadata": {
        "id": "vcBWXXQJVPr2",
        "colab_type": "code",
        "outputId": "e1ce465b-f4c6-418c-f2a7-ea8401ff291e",
        "colab": {
          "base_uri": "https://localhost:8080/",
          "height": 68
        }
      },
      "source": [
        "p=11;  q=29; e=3\n",
        "\n",
        "n = p * q\n",
        "phiN = (p-1)*(q-1)\n",
        "d = MLE(e, 1, phiN)[0]\n",
        "print (n, phiN, d)\n",
        "\n",
        "message = 318\n",
        "c = message**e%n\n",
        "print (c)\n",
        "decrypted = c**d%n\n",
        "print (decrypted)"
      ],
      "execution_count": 30,
      "outputs": [
        {
          "output_type": "stream",
          "text": [
            "319 280 187\n",
            "318\n",
            "318\n"
          ],
          "name": "stdout"
        }
      ]
    },
    {
      "cell_type": "code",
      "metadata": {
        "id": "ZGweY_VpXbF3",
        "colab_type": "code",
        "outputId": "2eb14434-190c-4ac4-ea3f-3084404ba1cb",
        "colab": {
          "base_uri": "https://localhost:8080/",
          "height": 85
        }
      },
      "source": [
        "p=3;  q=5; e=3\n",
        "\n",
        "n = p * q\n",
        "phiN = (p-1)*(q-1)\n",
        "d = MLE(e, 1, phiN)[0]\n",
        "print (n, phiN, d)\n",
        "print (e,d,phiN,e*d % phiN)\n",
        "message = 3\n",
        "c = message**e%n\n",
        "print (c)\n",
        "decrypted = c**d%n\n",
        "print (decrypted)"
      ],
      "execution_count": 31,
      "outputs": [
        {
          "output_type": "stream",
          "text": [
            "15 8 3\n",
            "3 3 8 1\n",
            "12\n",
            "3\n"
          ],
          "name": "stdout"
        }
      ]
    },
    {
      "cell_type": "code",
      "metadata": {
        "id": "o5huzto5aAwI",
        "colab_type": "code",
        "outputId": "881bea64-6be3-4ef2-8b8a-c65b3a74ed12",
        "colab": {
          "base_uri": "https://localhost:8080/",
          "height": 51
        }
      },
      "source": [
        "p=13;  q=17; e=5\n",
        "\n",
        "n = p * q\n",
        "phiN = (p-1)*(q-1)\n",
        "d = MLE(e, 1, phiN)[0]\n",
        "print (n, phiN, d)\n",
        "print (e,d,phiN,e*d % phiN)\n",
        "\n",
        "PUBLIC = (e,n)\n",
        "PRIVATE = (d,n)"
      ],
      "execution_count": 32,
      "outputs": [
        {
          "output_type": "stream",
          "text": [
            "221 192 77\n",
            "5 77 192 1\n"
          ],
          "name": "stdout"
        }
      ]
    },
    {
      "cell_type": "code",
      "metadata": {
        "id": "LVHldOj6bJkA",
        "colab_type": "code",
        "outputId": "f0e8e8f3-2880-4387-f673-0c9961dc68eb",
        "colab": {
          "base_uri": "https://localhost:8080/",
          "height": 68
        }
      },
      "source": [
        "message = ord('D')\n",
        "c = message**e%n\n",
        "decrypted = c**d%n\n",
        "print (\"MESSAGE: \", message)\n",
        "print (\"ENCRYPTED: \", c)\n",
        "print (\"DECRYPTED: \", decrypted)"
      ],
      "execution_count": 33,
      "outputs": [
        {
          "output_type": "stream",
          "text": [
            "MESSAGE:  68\n",
            "ENCRYPTED:  204\n",
            "DECRYPTED:  68\n"
          ],
          "name": "stdout"
        }
      ]
    },
    {
      "cell_type": "code",
      "metadata": {
        "id": "5HGjK2Uni8Lb",
        "colab_type": "code",
        "outputId": "ec132133-cd28-40cc-a6c9-1e800f921f1f",
        "colab": {
          "base_uri": "https://localhost:8080/",
          "height": 51
        }
      },
      "source": [
        "def ME(a, b, n):\n",
        "  c = 0\n",
        "  d = 1\n",
        "  bVector = bin(b)[2:]\n",
        "  for i in range(len(bVector)):\n",
        "    c *= 2\n",
        "    d = (d*d) % n\n",
        "    if (bVector[i]=='1'):\n",
        "      c += 1\n",
        "      d = (d * a) % n\n",
        "  return d\n",
        "\n",
        "def ME2(a, b, n):\n",
        "  c = 0\n",
        "  d = 1\n",
        "  bVector = bin(b)[:1:-1]\n",
        "  k = len(bVector)-1\n",
        "  print (bVector, bin(b))\n",
        "  for i in range(k,-1,-1):\n",
        "    c *= 2\n",
        "    d = (d*d) % n\n",
        "    if (bVector[i]=='1'):\n",
        "      c += 1\n",
        "      d = (d * a) % n\n",
        "  return d\n",
        "\n",
        "a=111; b=113; n=97\n",
        "a=2; b=521; n=5217\n",
        "print (a**b%n, ME(a, b, n), ME2(a, b, n))\n"
      ],
      "execution_count": 34,
      "outputs": [
        {
          "output_type": "stream",
          "text": [
            "1001000001 0b1000001001\n",
            "2312 2312 2312\n"
          ],
          "name": "stdout"
        }
      ]
    },
    {
      "cell_type": "code",
      "metadata": {
        "id": "YjH3O6MvgebI",
        "colab_type": "code",
        "outputId": "61f3b471-440b-43ca-dd22-70ecd4cdcc3a",
        "colab": {
          "base_uri": "https://localhost:8080/",
          "height": 51
        }
      },
      "source": [
        "p, q, e = (7, 13, 5)\n",
        "p, q, e = (13, 31, 7)\n",
        "\n",
        "n = p * q\n",
        "phiN = (p-1)*(q-1)\n",
        "d = MLE(e, 1, phiN)[0]\n",
        "print (n, phiN, d)\n",
        "print (e,d,phiN,e*d % phiN)\n",
        "\n",
        "PUBLIC = (e,n)\n",
        "PRIVATE = (d,n)"
      ],
      "execution_count": 35,
      "outputs": [
        {
          "output_type": "stream",
          "text": [
            "403 360 103\n",
            "7 103 360 1\n"
          ],
          "name": "stdout"
        }
      ]
    },
    {
      "cell_type": "code",
      "metadata": {
        "id": "VwjrRIElgXFX",
        "colab_type": "code",
        "outputId": "99d34ad5-a41b-4419-b23c-2269d988415c",
        "colab": {
          "base_uri": "https://localhost:8080/",
          "height": 68
        }
      },
      "source": [
        "message = ord('Q')-ord('A') + 1\n",
        "c = message**e%n\n",
        "decrypted = c**d%n\n",
        "print (\"MESSAGE: \", message)\n",
        "print (\"ENCRYPTED: \", c)\n",
        "print (\"DECRYPTED: \", decrypted)"
      ],
      "execution_count": 36,
      "outputs": [
        {
          "output_type": "stream",
          "text": [
            "MESSAGE:  17\n",
            "ENCRYPTED:  43\n",
            "DECRYPTED:  17\n"
          ],
          "name": "stdout"
        }
      ]
    },
    {
      "cell_type": "code",
      "metadata": {
        "id": "ji_HaW0FISbf",
        "colab_type": "code",
        "colab": {}
      },
      "source": [
        "# GCD\n",
        "\n",
        "GCD = lambda a, b: GCD(b, a%b) if b else a\n",
        "Z = lambda n: sorted({i%n for i in range(10000)})\n",
        "Za = lambda a,n: sorted({i*a%n for i in range(1000)})\n",
        "\n",
        "Zx = lambda n: sorted ({i%n for i in range(10000) if GCD(i,n)==1})\n",
        "Zxa = lambda a,n: sorted ({a**i%n for i in range(10000) if GCD(a**i,n)==1})"
      ],
      "execution_count": 0,
      "outputs": []
    },
    {
      "cell_type": "code",
      "metadata": {
        "id": "4AdUfMlJKHPb",
        "colab_type": "code",
        "outputId": "39c5177a-3598-4dcc-f19b-d9e9bf09308c",
        "colab": {
          "base_uri": "https://localhost:8080/",
          "height": 102
        }
      },
      "source": [
        "print(Z(10))\n",
        "\n",
        "print (Za(5,10))\n",
        "\n",
        "print (len(Zx(1024)))\n",
        "print (Zxa(127,1024))\n",
        "print (Zx(15))"
      ],
      "execution_count": 38,
      "outputs": [
        {
          "output_type": "stream",
          "text": [
            "[0, 1, 2, 3, 4, 5, 6, 7, 8, 9]\n",
            "[0, 5]\n",
            "512\n",
            "[1, 127, 257, 383, 513, 639, 769, 895]\n",
            "[1, 2, 4, 7, 8, 11, 13, 14]\n"
          ],
          "name": "stdout"
        }
      ]
    },
    {
      "cell_type": "code",
      "metadata": {
        "id": "TRTYrgzKBHXe",
        "colab_type": "code",
        "outputId": "aa263bba-8f14-4ccb-f345-bbeabf388989",
        "colab": {
          "base_uri": "https://localhost:8080/",
          "height": 119
        }
      },
      "source": [
        "#\n",
        "# Chinese Remainder Theorem\n",
        "\n",
        "import numpy as np\n",
        "A = [2, 3, 2]\n",
        "N = [3, 5, 7]\n",
        "\n",
        "M = [np.prod(N)//N[i] for i in range(len(A))]\n",
        "Minverse = [MLE(M[i], 1, N[i])[0] for i in range(len(A))]\n",
        "\n",
        "print (\"M: \", M)\n",
        "print (\"Minverse: \", Minverse)\n",
        "\n",
        "C = [M[i]*(Minverse[i] % N[i]) for i in range(len(A))]\n",
        "print (\"C: \", C)\n",
        "\n",
        "AC = [A[i]*C[i] for i in range(len(A))]\n",
        "\n",
        "answer = sum(AC) % np.prod(N)\n",
        "print (\"AiCi: \", AC)\n",
        "print (\"Sum AiCi mod n: \", answer)\n",
        "\n",
        "output = [answer % N[i] for i in range(len(A))]\n",
        "\n",
        "print (\"Answer mod Ni: \", output)"
      ],
      "execution_count": 39,
      "outputs": [
        {
          "output_type": "stream",
          "text": [
            "M:  [35, 21, 15]\n",
            "Minverse:  [2, 1, 1]\n",
            "C:  [70, 21, 15]\n",
            "AiCi:  [140, 63, 30]\n",
            "Sum AiCi mod n:  23\n",
            "Answer mod Ni:  [2, 3, 2]\n"
          ],
          "name": "stdout"
        }
      ]
    },
    {
      "cell_type": "code",
      "metadata": {
        "id": "DZ24rmmgKLG0",
        "colab_type": "code",
        "outputId": "649b8079-d3f1-4485-8108-f64ef7f7545e",
        "colab": {
          "base_uri": "https://localhost:8080/",
          "height": 119
        }
      },
      "source": [
        "A1 = [1, 2, 2, 2, 2, 2, 2, 2]\n",
        "A2 = [1, 1, 1, 3, 3, 3, 3, 3]\n",
        "A2b = [5, 5, 9]\n",
        "A = A2b\n",
        "N1 = [2, 3, 5, 7, 11, 13, 17, 19]\n",
        "N2b = [47, 53, 59]\n",
        "N = N2b\n",
        "\n",
        "M = [np.prod(N)//N[i] for i in range(len(A))]\n",
        "Minverse = [MLE(M[i], 1, N[i])[0] for i in range(len(A))]\n",
        "\n",
        "print (\"M: \", M)\n",
        "print (\"Minverse: \", Minverse)\n",
        "\n",
        "C = [M[i]*(Minverse[i] % N[i]) for i in range(len(A))]\n",
        "print (\"C: \", C)\n",
        "\n",
        "AC = [A[i]*C[i] for i in range(len(A))]\n",
        "\n",
        "answer = sum(AC) % np.prod(N)\n",
        "print (\"AiCi: \", AC)\n",
        "print (\"Sum AiCi mod n: \", answer)\n",
        "\n",
        "output = [answer % N[i] for i in range(len(A))]\n",
        "\n",
        "print (\"Answer mod Ni: \", output)\n",
        "\n"
      ],
      "execution_count": 40,
      "outputs": [
        {
          "output_type": "stream",
          "text": [
            "M:  [3127, 2773, 2491]\n",
            "Minverse:  [32, 25, 50]\n",
            "C:  [100064, 69325, 124550]\n",
            "AiCi:  [500320, 346625, 1120950]\n",
            "Sum AiCi mod n:  57298\n",
            "Answer mod Ni:  [5, 5, 9]\n"
          ],
          "name": "stdout"
        }
      ]
    },
    {
      "cell_type": "code",
      "metadata": {
        "id": "qkRq1_G5ExAg",
        "colab_type": "code",
        "outputId": "5fe07cac-d5dc-4eea-8f7f-f1c5551e6e2d",
        "colab": {
          "base_uri": "https://localhost:8080/",
          "height": 1000
        }
      },
      "source": [
        "def ChineseRemainder(A, N):\n",
        "  M = [np.prod(N)//N[i] for i in range(len(A))]\n",
        "  Minverse = [MLE(M[i], 1, N[i])[0] for i in range(len(A))]\n",
        "\n",
        "  print (\"M: \", M)\n",
        "  print (\"Minverse: \", Minverse)\n",
        "\n",
        "  C = [M[i]*(Minverse[i] % N[i]) for i in range(len(A))]\n",
        "  print (\"C: \", C)\n",
        "\n",
        "  AC = [A[i]*C[i] for i in range(len(A))]\n",
        "\n",
        "  answer = sum(AC) % np.prod(N)\n",
        "  return answer\n",
        "\n",
        "N = [47, 53, 59]\n",
        "As = [ (4, 2, 3), (5, 5, 9), (7, 77, 777), (10, 9, 14), (12, 9, 21), \n",
        "      (2, 1, 14), (13, 9, 14), (19, 20, 23) ]\n",
        "\n",
        "Answers = [(a,ChineseRemainder(a, N)) for a in As]\n",
        "print (\"\\nANSWERS\")\n",
        "print (N, Answers,\"\\n\")\n",
        "\n",
        "N = [3, 5, 7]\n",
        "As = [ (2, 3, 2), (3, 2, 3), (3, 1, 1) ]\n",
        "\n",
        "Answers = [(a,ChineseRemainder(a, N)) for a in As]\n",
        "print (\"\\nANSWERS\")\n",
        "print (N, Answers,\"\\n\")\n",
        "\n",
        "N = [61, 67, 71, 73]\n",
        "As = [ (18, 21, 2, 25), (16, 1, 18, 11), (8, 6, 2, 3) ]\n",
        "\n",
        "Answers = [(a,ChineseRemainder(a, N)) for a in As]\n",
        "print (\"\\nANSWERS\")\n",
        "print (N, Answers,\"\\n\")\n",
        "\n",
        "N = [41, 43]\n",
        "As = [ (12, 9) ]\n",
        "\n",
        "Answers = [(a,ChineseRemainder(a, N)) for a in As]\n",
        "print (\"\\nANSWERS\")\n",
        "print (N, Answers,\"\\n\")\n",
        "\n",
        "N = [71, 73, 79, 83, 89, 97]\n",
        "As = [ (23, 9, 12, 19, 15, 14) ]\n",
        "\n",
        "Answers = [(a,ChineseRemainder(a, N)) for a in As]\n",
        "print (\"\\nANSWERS\")\n",
        "print (N, Answers,\"\\n\")\n",
        "\n",
        "N= [29, 31, 37, 41, 43]\n",
        "As = [(25, 1, 19, 9, 14), (14, 9, 3, 11, 19)]\n",
        "Answers = [(a,ChineseRemainder(a, N)) for a in As]\n",
        "print (\"\\nANSWERS\")\n",
        "print (N, Answers,\"\\n\")"
      ],
      "execution_count": 41,
      "outputs": [
        {
          "output_type": "stream",
          "text": [
            "M:  [3127, 2773, 2491]\n",
            "Minverse:  [32, 25, 50]\n",
            "C:  [100064, 69325, 124550]\n",
            "M:  [3127, 2773, 2491]\n",
            "Minverse:  [32, 25, 50]\n",
            "C:  [100064, 69325, 124550]\n",
            "M:  [3127, 2773, 2491]\n",
            "Minverse:  [32, 25, 50]\n",
            "C:  [100064, 69325, 124550]\n",
            "M:  [3127, 2773, 2491]\n",
            "Minverse:  [32, 25, 50]\n",
            "C:  [100064, 69325, 124550]\n",
            "M:  [3127, 2773, 2491]\n",
            "Minverse:  [32, 25, 50]\n",
            "C:  [100064, 69325, 124550]\n",
            "M:  [3127, 2773, 2491]\n",
            "Minverse:  [32, 25, 50]\n",
            "C:  [100064, 69325, 124550]\n",
            "M:  [3127, 2773, 2491]\n",
            "Minverse:  [32, 25, 50]\n",
            "C:  [100064, 69325, 124550]\n",
            "M:  [3127, 2773, 2491]\n",
            "Minverse:  [32, 25, 50]\n",
            "C:  [100064, 69325, 124550]\n",
            "\n",
            "ANSWERS\n",
            "[47, 53, 59] [((4, 2, 3), 30742), ((5, 5, 9), 57298), ((7, 77, 777), 82492), ((10, 9, 14), 134947), ((12, 9, 21), 31173), ((2, 1, 14), 102556), ((13, 9, 14), 141201), ((19, 20, 23), 126637)] \n",
            "\n",
            "M:  [35, 21, 15]\n",
            "Minverse:  [2, 1, 1]\n",
            "C:  [70, 21, 15]\n",
            "M:  [35, 21, 15]\n",
            "Minverse:  [2, 1, 1]\n",
            "C:  [70, 21, 15]\n",
            "M:  [35, 21, 15]\n",
            "Minverse:  [2, 1, 1]\n",
            "C:  [70, 21, 15]\n",
            "\n",
            "ANSWERS\n",
            "[3, 5, 7] [((2, 3, 2), 23), ((3, 2, 3), 87), ((3, 1, 1), 36)] \n",
            "\n",
            "M:  [347261, 316163, 298351, 290177]\n",
            "Minverse:  [5, 20, 8, 37]\n",
            "C:  [1736305, 6323260, 2386808, 10736549]\n",
            "M:  [347261, 316163, 298351, 290177]\n",
            "Minverse:  [5, 20, 8, 37]\n",
            "C:  [1736305, 6323260, 2386808, 10736549]\n",
            "M:  [347261, 316163, 298351, 290177]\n",
            "Minverse:  [5, 20, 8, 37]\n",
            "C:  [1736305, 6323260, 2386808, 10736549]\n",
            "\n",
            "ANSWERS\n",
            "[61, 67, 71, 73] [((18, 21, 2, 25), 13570871), ((16, 1, 18, 11), 4522434), ((8, 6, 2, 3), 4081579)] \n",
            "\n",
            "M:  [43, 41]\n",
            "Minverse:  [21, 21]\n",
            "C:  [903, 861]\n",
            "\n",
            "ANSWERS\n",
            "[41, 43] [((12, 9), 955)] \n",
            "\n",
            "M:  [4132280413, 4019067251, 3713821637, 3534842281, 3296538307, 3024658859]\n",
            "Minverse:  [26, 30, 47, 60, 31, 54]\n",
            "C:  [107439290738, 120572017530, 174549616939, 212090536860, 102192687517, 163331578386]\n",
            "\n",
            "ANSWERS\n",
            "[71, 73, 79, 83, 89, 97] [((23, 9, 12, 19, 15, 14), 4072029653)] \n",
            "\n",
            "M:  [2022161, 1891699, 1584937, 1430309, 1363783]\n",
            "Minverse:  [16, 11, 15, 12, 17]\n",
            "C:  [32354576, 20808689, 23774055, 17163708, 23184311]\n",
            "M:  [2022161, 1891699, 1584937, 1430309, 1363783]\n",
            "Minverse:  [16, 11, 15, 12, 17]\n",
            "C:  [32354576, 20808689, 23774055, 17163708, 23184311]\n",
            "\n",
            "ANSWERS\n",
            "[29, 31, 37, 41, 43] [((25, 1, 19, 9, 14), 1153790), ((14, 9, 3, 11, 19), 50728409)] \n",
            "\n"
          ],
          "name": "stdout"
        }
      ]
    },
    {
      "cell_type": "code",
      "metadata": {
        "id": "BNqm1JOLEjUJ",
        "colab_type": "code",
        "outputId": "02848224-0d87-4656-fa02-cd709cfe40e8",
        "colab": {
          "base_uri": "https://localhost:8080/",
          "height": 51
        }
      },
      "source": [
        "### Witness\n",
        "\n",
        "def Witness(a, n):\n",
        "  t = [i for i in range(int(np.log2(n-1)),-1,-1) if ((n-1)%(2**i))==0][0]\n",
        "  u = (n-1)//(2**t)\n",
        "  ## print (n-1,u,t, u*2**t)\n",
        "  x1 = ME(a, u, n)\n",
        "  ## print (x1)\n",
        "  for i in range(t):\n",
        "    x2 = (x1**2) % n\n",
        "    ## print (x1, x2)\n",
        "    if x2 == 1 and x1 != 1 and x1 != n-1:\n",
        "      return True\n",
        "    x1 = x2\n",
        "    ## print (x1)\n",
        "  if x1 != 1:\n",
        "    return True  \n",
        "  return False\n",
        "\n",
        "n = int(np.random.randint(1000,10000))\n",
        "print (n,list(range(int(np.log2(n-1)),-1,-1) ))\n",
        "\n",
        "print (Witness( 5, n ))"
      ],
      "execution_count": 42,
      "outputs": [
        {
          "output_type": "stream",
          "text": [
            "9108 [13, 12, 11, 10, 9, 8, 7, 6, 5, 4, 3, 2, 1, 0]\n",
            "True\n"
          ],
          "name": "stdout"
        }
      ]
    },
    {
      "cell_type": "code",
      "metadata": {
        "id": "ztLfbttXEoYa",
        "colab_type": "code",
        "outputId": "9ad736c2-7433-4ad4-8355-81487d6d5bb8",
        "colab": {
          "base_uri": "https://localhost:8080/",
          "height": 34
        }
      },
      "source": [
        "def MillerRabin(n, s):\n",
        "  for j in range(s):\n",
        "    a = np.random.randint(1,n-1)\n",
        "    if (Witness(a,n)==True):\n",
        "      ###print (n, \"COMPOSITE:\", a)\n",
        "      return False\n",
        "  ###print (n, \"PRIME\")\n",
        "  return True\n",
        "\n",
        "for i in range(1000):\n",
        "  x = np.random.randint(1000000,10000000)\n",
        "  if x%2==0:\n",
        "    continue\n",
        "  if (MillerRabin(x, 3)==True):\n",
        "    print(x,\"PRIME\")\n",
        "    break"
      ],
      "execution_count": 43,
      "outputs": [
        {
          "output_type": "stream",
          "text": [
            "3540067 PRIME\n"
          ],
          "name": "stdout"
        }
      ]
    },
    {
      "cell_type": "code",
      "metadata": {
        "id": "jfwenHr5HG1i",
        "colab_type": "code",
        "outputId": "df31347f-c94f-4c93-e6e1-beb93ad3cab2",
        "colab": {
          "base_uri": "https://localhost:8080/",
          "height": 85
        }
      },
      "source": [
        "def GetKeys(p, q, e):\n",
        "  n = p * q\n",
        "  phiN = (p-1)*(q-1)\n",
        "  d = MLE(e, 1, phiN)[0]\n",
        "  print (n, phiN, d)\n",
        "  print (e,d,phiN,e*d % phiN)\n",
        "\n",
        "  PUBLIC = (e,n)\n",
        "  PRIVATE = (d,n)\n",
        "  return (PUBLIC, PRIVATE)\n",
        "\n",
        "def FindPrime(bits):\n",
        "  for i in range(10000):\n",
        "    x = int( np.random.random() * ((2**(bits-1))-1) + (2**(bits-1)) )\n",
        "    if x%2==0:\n",
        "      continue\n",
        "    if (MillerRabin(x, 3)==True):\n",
        "      print(x,\"PRIME\")\n",
        "      return x\n",
        "  \n",
        "p = FindPrime(50)\n",
        "q = FindPrime(50)\n",
        "print (p,q)\n",
        "print (len(bin(p))-2, len(bin(q))-2)"
      ],
      "execution_count": 44,
      "outputs": [
        {
          "output_type": "stream",
          "text": [
            "595161836778023 PRIME\n",
            "921026981687473 PRIME\n",
            "595161836778023 921026981687473\n",
            "50 50\n"
          ],
          "name": "stdout"
        }
      ]
    },
    {
      "cell_type": "code",
      "metadata": {
        "id": "GhSeTj5DLA-w",
        "colab_type": "code",
        "outputId": "65368e9f-3bbe-4ab2-c650-ef50b9e22f83",
        "colab": {
          "base_uri": "https://localhost:8080/",
          "height": 88
        }
      },
      "source": [
        "p1 = 2038144922166511\n",
        "q1 = 3032058867739061\n",
        "phiN = (p-1)*(q-1)\n",
        "eS = [i for i in range(3, 100) if GCD(i,phiN)==1]\n",
        "e1 = 101\n",
        "e = eS[0]\n",
        "keys = GetKeys(p, q, e)\n",
        "print (keys)"
      ],
      "execution_count": 45,
      "outputs": [
        {
          "output_type": "stream",
          "text": [
            "548160110143234984253860805879 548160110143233468065042340384 109632022028646693613008468077\n",
            "5 109632022028646693613008468077 548160110143233468065042340384 1\n",
            "((5, 548160110143234984253860805879), (109632022028646693613008468077, 548160110143234984253860805879))\n"
          ],
          "name": "stdout"
        }
      ]
    },
    {
      "cell_type": "code",
      "metadata": {
        "id": "cQkR-5rwLX_v",
        "colab_type": "code",
        "outputId": "ea1c5236-1ac5-497a-b36d-1d900721d115",
        "colab": {
          "base_uri": "https://localhost:8080/",
          "height": 68
        }
      },
      "source": [
        "message = 12345678901234567890\n",
        "c = ME(message,keys[0][0], keys[0][1])\n",
        "decrypted = ME(c,keys[1][0], keys[1][1])\n",
        "print (\"MESSAGE: \", message)\n",
        "print (\"ENCRYPTED: \", c)\n",
        "print (\"DECRYPTED: \", decrypted)"
      ],
      "execution_count": 46,
      "outputs": [
        {
          "output_type": "stream",
          "text": [
            "MESSAGE:  12345678901234567890\n",
            "ENCRYPTED:  204672652190091610550118462781\n",
            "DECRYPTED:  12345678901234567890\n"
          ],
          "name": "stdout"
        }
      ]
    },
    {
      "cell_type": "code",
      "metadata": {
        "id": "_IWFZqmiBX55",
        "colab_type": "code",
        "outputId": "c44dc32f-2a37-4529-a194-6fe45512f9d0",
        "colab": {
          "base_uri": "https://localhost:8080/",
          "height": 190
        }
      },
      "source": [
        "# Block Encryption Example\n",
        "blockSize = 64\n",
        "strSize = 8\n",
        "x=\"David Ruby\"\n",
        "#x=\"ABCDEFGHIJKLMNOPQRSTUVWXYZ\"\n",
        "\n",
        "x = x+\" \"*(strSize-len(x)%strSize)  #Pad string to match Block Size\n",
        "\n",
        "y=[ \"{0:{fill}8b}\".format(ord(c), fill='0') for c in x]\n",
        "m = \"\".join(y)\n",
        "\n",
        "#mPad =m + \"0\"*(blockSize-len(m)%blockSize)\n",
        "mPad = m\n",
        "\n",
        "#mPad is full message in binary\n",
        "\n",
        "mPadList = [mPad[i:i+blockSize] for i in range(0,len(mPad),blockSize)]\n",
        "print (m, '\\n', len(m))\n",
        "print (mPad, '\\n', len(mPad))\n",
        "MessageList = [int(a,2) for a in mPadList ]\n",
        "print (MessageList)\n",
        "\n",
        "#MessageList is now a list of integers derived from blocks\n",
        "\n",
        "EncryptedList = [ME(message,keys[0][0], keys[0][1]) for message in MessageList]\n",
        "print (EncryptedList)\n",
        "\n",
        "DecryptedList = [ME(c,keys[1][0], keys[1][1]) for c in EncryptedList]\n",
        "print (DecryptedList)\n",
        "\n",
        "f = \"{0:{fill}\"+str(blockSize)+\"b}\"\n",
        "y=[ f.format(c, fill='0') for c in DecryptedList]\n",
        "m = \"\".join(y)\n",
        "print (m)\n",
        "\n",
        "# Convert each bits to a single character\n",
        "print (\"\".join( [chr(int(m[i:i+8],2)) for i in range(0,len(m),8)] ) )\n"
      ],
      "execution_count": 47,
      "outputs": [
        {
          "output_type": "stream",
          "text": [
            "01000100011000010111011001101001011001000010000001010010011101010110001001111001001000000010000000100000001000000010000000100000 \n",
            " 128\n",
            "01000100011000010111011001101001011001000010000001010010011101010110001001111001001000000010000000100000001000000010000000100000 \n",
            " 128\n",
            "[4927349662343516789, 7095738010248945696]\n",
            "[370814040772919843331243352783, 459554705159447429091696276847]\n",
            "[4927349662343516789, 7095738010248945696]\n",
            "01000100011000010111011001101001011001000010000001010010011101010110001001111001001000000010000000100000001000000010000000100000\n",
            "David Ruby      \n"
          ],
          "name": "stdout"
        }
      ]
    },
    {
      "cell_type": "code",
      "metadata": {
        "id": "moi8NwtlOpfa",
        "colab_type": "code",
        "outputId": "14be5d5f-d19f-417e-921f-a1617fff3c47",
        "colab": {
          "base_uri": "https://localhost:8080/",
          "height": 105
        }
      },
      "source": [
        "def Encrypt(message, key, blockSize):\n",
        "  encryptedBlockSize = len(bin(key[1]))\n",
        "  strSize = blockSize // 8 # 8 bits per character\n",
        "  message = message if len(message)%strSize==0 else message +\" \"*(strSize-len(message)%strSize)  #Pad string to match Block Size\n",
        "  messageBinaryList=[ \"{0:{fill}8b}\".format(ord(c), fill='0') for c in message]  # One long binary string\n",
        "  messageBinary = \"\".join(messageBinaryList)\n",
        "  messageBlockBinaryList = [messageBinary[i:i+blockSize] for i in range(0,len(messageBinary),blockSize)]  # List of Block size Binary Strings\n",
        "  messageIntList = [int(a,2) for a in messageBlockBinaryList ]  # Integer list of blocks\n",
        "\n",
        "  encryptedIntegerList = [ME(message,key[0], key[1]) for message in messageIntList]\n",
        "  f = \"{0:{fill}\"+str(encryptedBlockSize)+\"b}\" \n",
        "  encryptedBinaryList=[ f.format(c, fill='0') for c in encryptedIntegerList]\n",
        "  pList = [(cv, len(cv)) for cv in encryptedBinaryList]\n",
        "  e = \"\".join(encryptedBinaryList)\n",
        "  return e\n",
        "\n",
        "def Decrypt(message, key, blockSize):\n",
        "  encryptedBlockSize = len(bin(key[1]))\n",
        "  messageBinaryList = [message[i:i+encryptedBlockSize] for i in range(0,len(message),encryptedBlockSize)]\n",
        "  MessageIntList = [int(a,2) for a in messageBinaryList ]  \n",
        "\n",
        "  DecryptedList = [ME(c,key[0], key[1]) for c in MessageIntList]\n",
        "\n",
        "  f = \"{0:{fill}\"+str(blockSize)+\"b}\"\n",
        "  y=[ f.format(c, fill='0') for c in DecryptedList]\n",
        "  m = \"\".join(y)\n",
        "\n",
        "  # Convert each bits to a single character\n",
        "  originalMessage =  \"\".join( [chr(int(m[i:i+8],2)) for i in range(0,len(m),8)] ) \n",
        "  return originalMessage\n",
        "\n",
        "\n",
        "myMessage = \"ABCDEFGHIJKLMNOPQRSTUVWXYZ\"\n",
        "cip1 = Encrypt(myMessage, keys[0], blockSize) \n",
        "print (cip1, len(cip1))\n",
        "\n",
        "out1 = Decrypt(cip1, keys[1], blockSize )\n",
        "\n",
        "print (out1)\n",
        "\n",
        "myMessage = \"David Ruby\"\n",
        "cip2 = Encrypt(myMessage, keys[0], blockSize) \n",
        "print (cip2, len(cip2))\n",
        "\n",
        "out2 = Decrypt(cip2, keys[1], blockSize )\n",
        "\n",
        "print (out2)\n"
      ],
      "execution_count": 48,
      "outputs": [
        {
          "output_type": "stream",
          "text": [
            "00010100011001100011110111001011110001011000000101111010010010011100011000000011101010010011100011010000101110000001010110110101011111101010011110011010001010011011010110001110000010101111110011110000000011010000000000000001101101000111101100001010010001111001010100110011010100101111110100101111110000100011101111001100011111100011001000111001001010010001001100111111110000100000010111010110011110011111 404\n",
            "ABCDEFGHIJKLMNOPQRSTUVWXYZ      \n",
            "0010010101110001010100010111101110101101101001101011100000000111011111011000001010101101000101100111100101110011001110011010111110000101010111110110001100000001010101010011011000011101110111010101101111 202\n",
            "David Ruby      \n"
          ],
          "name": "stdout"
        }
      ]
    },
    {
      "cell_type": "code",
      "metadata": {
        "id": "0A66am9Q9l6s",
        "colab_type": "code",
        "outputId": "af2b8a10-a8c5-49b6-ece5-c4bbdfe33819",
        "colab": {
          "base_uri": "https://localhost:8080/",
          "height": 442
        }
      },
      "source": [
        "def PrintEncrypted(m):\n",
        "  lineLength = 30\n",
        "  messageBlockBinaryList = [m[i:i+lineLength] for i in range(0,len(m),lineLength)]\n",
        "  for b in messageBlockBinaryList:\n",
        "    print (b)\n",
        "    \n",
        "PrintEncrypted(cip1)\n",
        "print(Decrypt(cip1, keys[1], blockSize ), '\\n')\n",
        "\n",
        "PrintEncrypted(cip2)\n",
        "print(Decrypt(cip2, keys[1], blockSize ), '\\n')"
      ],
      "execution_count": 49,
      "outputs": [
        {
          "output_type": "stream",
          "text": [
            "000101000110011000111101110010\n",
            "111100010110000001011110100100\n",
            "100111000110000000111010100100\n",
            "111000110100001011100000010101\n",
            "101101010111111010100111100110\n",
            "100010100110110101100011100000\n",
            "101011111100111100000000110100\n",
            "000000000000011011010001111011\n",
            "000010100100011110010101001100\n",
            "110101001011111101001011111100\n",
            "001000111011110011000111111000\n",
            "110010001110010010100100010011\n",
            "001111111100001000000101110101\n",
            "10011110011111\n",
            "ABCDEFGHIJKLMNOPQRSTUVWXYZ       \n",
            "\n",
            "001001010111000101010001011110\n",
            "111010110110100110101110000000\n",
            "011101111101100000101010110100\n",
            "010110011110010111001100111001\n",
            "101011111000010101011111011000\n",
            "110000000101010101001101100001\n",
            "1101110111010101101111\n",
            "David Ruby       \n",
            "\n"
          ],
          "name": "stdout"
        }
      ]
    },
    {
      "cell_type": "code",
      "metadata": {
        "id": "KKe9p8etamIv",
        "colab_type": "code",
        "outputId": "04235177-5933-42d5-d0f4-e30a808b5c25",
        "colab": {
          "base_uri": "https://localhost:8080/",
          "height": 85
        }
      },
      "source": [
        "p = FindPrime(8)\n",
        "q = FindPrime(8)\n",
        "print (p, q, len(bin(p))-2, len(bin(q))-2)\n",
        "phiN = (p-1)*(q-1)\n",
        "eS = [i for i in range(3, 20) if GCD(i,phiN)==1]\n",
        "print (eS)\n",
        "e = eS[0]"
      ],
      "execution_count": 50,
      "outputs": [
        {
          "output_type": "stream",
          "text": [
            "191 PRIME\n",
            "173 PRIME\n",
            "191 173 8 8\n",
            "[3, 7, 9, 11, 13, 17]\n"
          ],
          "name": "stdout"
        }
      ]
    },
    {
      "cell_type": "code",
      "metadata": {
        "id": "SJDKavcVazVS",
        "colab_type": "code",
        "outputId": "9df8e773-0f11-4a02-9d4d-463a4541f5b8",
        "colab": {
          "base_uri": "https://localhost:8080/",
          "height": 340
        }
      },
      "source": [
        "rawKey1=(5, 673, 547)\n",
        "rawKey2=(7, 569, 271)\n",
        "rawKey2b=(7, 271, 569)\n",
        "rawKey3=(7, 151, 269)\n",
        "e, p, q = rawKey2b\n",
        "\n",
        "blockSize = 8\n",
        "keys = GetKeys(p, q, e)\n",
        "print (keys)\n",
        "\n",
        "cip3 = Encrypt(\"DR\", keys[0], blockSize)\n",
        "PrintEncrypted(cip3)\n",
        "out = Decrypt(cip3, keys[1], blockSize )\n",
        "print (int(cip3,2))\n",
        "print(out, len(out),'\\n')\n",
        "\n",
        "cip4 = Encrypt(\"BIO\", keys[0], blockSize)\n",
        "PrintEncrypted(cip4)\n",
        "out = Decrypt(cip4, keys[1], blockSize )\n",
        "print (int(cip4,2))\n",
        "print(out, len(out),'\\n')\n",
        "\n",
        "cip5 = Encrypt(\"JC\", keys[0], blockSize)\n",
        "PrintEncrypted(cip5)\n",
        "out = Decrypt(cip5, keys[1], blockSize )\n",
        "print (int(cip5,2))\n",
        "print(out, len(out),'\\n')\n",
        "\n",
        "xout=386398478110\n",
        "bxout = \"000101100111110111001001001101111100011110\"\n",
        "print(int(bxout, 2))"
      ],
      "execution_count": 51,
      "outputs": [
        {
          "output_type": "stream",
          "text": [
            "154199 153360 109543\n",
            "7 109543 153360 1\n",
            "((7, 154199), (109543, 154199))\n",
            "000000001101100010000001101001\n",
            "1001110001\n",
            "3632375409\n",
            "DR 2 \n",
            "\n",
            "000100011110001011100000111000\n",
            "100001000000010000010010101111\n",
            "80552481557382319\n",
            "BIO 3 \n",
            "\n",
            "000000010111011111000001011011\n",
            "1001101011\n",
            "6304132715\n",
            "JC 2 \n",
            "\n",
            "386398478110\n"
          ],
          "name": "stdout"
        }
      ]
    },
    {
      "cell_type": "code",
      "metadata": {
        "id": "-vhuJik7W4_w",
        "colab_type": "code",
        "outputId": "c50f9227-e377-4ae1-b6c6-02fadf026ff4",
        "colab": {
          "base_uri": "https://localhost:8080/",
          "height": 479
        }
      },
      "source": [
        "blockSize = 8\n",
        "\n",
        "p = 11\n",
        "q = 13\n",
        "print (p, q, len(bin(p))-2, len(bin(q))-2)\n",
        "phiN = (p-1)*(q-1)\n",
        "eS = [i for i in range(3, phiN-1) if GCD(i,phiN)==1 and MillerRabin(i, 3)==True]\n",
        "print (eS)\n",
        "e = eS[0]\n",
        "\n",
        "keys = GetKeys(p, q, e)\n",
        "print (keys)\n",
        "\n",
        "cip = Encrypt(\"JC\", keys[0], blockSize)\n",
        "PrintEncrypted(cip)\n",
        "out = Decrypt(cip, keys[1], blockSize )\n",
        "print (int(cip,2))\n",
        "print(out, len(out),'\\n')\n",
        "\n",
        "cip = Encrypt(\"DR\", keys[0], blockSize)\n",
        "PrintEncrypted(cip)\n",
        "out = Decrypt(cip, keys[1], blockSize )\n",
        "print (int(cip,2))\n",
        "print(out, len(out),'\\n')\n",
        "\n",
        "cip = Encrypt(\"BIO\", keys[0], blockSize)\n",
        "PrintEncrypted(cip)\n",
        "out = Decrypt(cip, keys[1], blockSize )\n",
        "print (int(cip,2))\n",
        "print(out, len(out), '\\n')\n",
        "\n",
        "cip = Encrypt(\"RUBY\", keys[0], blockSize)\n",
        "PrintEncrypted(cip)\n",
        "out = Decrypt(cip, keys[1], blockSize )\n",
        "print (int(cip,2))\n",
        "print(out, len(out),'\\n')\n",
        "\n",
        "cip = Encrypt( \"TSW\", keys[0], blockSize )\n",
        "PrintEncrypted(cip)\n",
        "out = Decrypt(cip, keys[1], blockSize)\n",
        "print (int(cip, 2))\n",
        "print(out, len(out), '\\n')"
      ],
      "execution_count": 52,
      "outputs": [
        {
          "output_type": "stream",
          "text": [
            "11 13 4 4\n",
            "[7, 11, 13, 17, 19, 23, 29, 31, 37, 41, 43, 47, 53, 59, 61, 67, 71, 73, 79, 83, 89, 97, 101, 103, 107, 109, 113]\n",
            "143 120 103\n",
            "7 103 120 1\n",
            "((7, 143), (103, 143))\n",
            "00001000110001011001\n",
            "35929\n",
            "JC 2 \n",
            "\n",
            "00000111010001000101\n",
            "29765\n",
            "DR 2 \n",
            "\n",
            "000100001000010100110000101000\n",
            "69291048\n",
            "BIO 3 \n",
            "\n",
            "000100010100011110110001000010\n",
            "0001000011\n",
            "74217228355\n",
            "RUBY 4 \n",
            "\n",
            "000100100000000010000001010111\n",
            "75505751\n",
            "TSW 3 \n",
            "\n"
          ],
          "name": "stdout"
        }
      ]
    }
  ]
}