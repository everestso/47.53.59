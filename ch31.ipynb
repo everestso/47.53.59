{
  "nbformat": 4,
  "nbformat_minor": 0,
  "metadata": {
    "colab": {
      "name": "ch31.ipynb",
      "version": "0.3.2",
      "provenance": [],
      "collapsed_sections": [],
      "include_colab_link": true
    },
    "kernelspec": {
      "name": "python3",
      "display_name": "Python 3"
    }
  },
  "cells": [
    {
      "cell_type": "markdown",
      "metadata": {
        "id": "view-in-github",
        "colab_type": "text"
      },
      "source": [
        "<a href=\"https://colab.research.google.com/github/everestso/61.67.71.73/blob/master/ch31.ipynb\" target=\"_parent\"><img src=\"https://colab.research.google.com/assets/colab-badge.svg\" alt=\"Open In Colab\"/></a>"
      ]
    },
    {
      "cell_type": "code",
      "metadata": {
        "id": "uK5A0Tg7QGa3",
        "colab_type": "code",
        "colab": {}
      },
      "source": [
        "### Extend Euclid\n",
        "def EE(a, b):\n",
        "  if b == 0:\n",
        "    return (a, 1, 0)\n",
        "  else:\n",
        "    (dPrime, xPrime, yPrime) = EE(b, a % b)\n",
        "    (d, x, y) = (dPrime, yPrime, xPrime - (a//b*yPrime))\n",
        "    return (d, x, y)\n",
        "  \n",
        "  \n"
      ],
      "execution_count": 0,
      "outputs": []
    },
    {
      "cell_type": "code",
      "metadata": {
        "id": "ZpV3Vml7SHnL",
        "colab_type": "code",
        "outputId": "f41cfa22-d4c6-48ee-819e-62ae7dc88865",
        "colab": {
          "base_uri": "https://localhost:8080/",
          "height": 67
        }
      },
      "source": [
        "a = 12; b=15\n",
        "print (a, b, EE( a, b))\n",
        "a= 125; b=300\n",
        "o = EE( a, b)\n",
        "print (a, b, o)\n",
        "print (a*o[1]+b*o[2])\n"
      ],
      "execution_count": 2,
      "outputs": [
        {
          "output_type": "stream",
          "text": [
            "12 15 (3, -1, 1)\n",
            "125 300 (25, 5, -2)\n",
            "25\n"
          ],
          "name": "stdout"
        }
      ]
    },
    {
      "cell_type": "code",
      "metadata": {
        "id": "ehdEWfj1S6cC",
        "colab_type": "code",
        "outputId": "214fc293-bb06-498f-c3ef-f30790a2a8ad",
        "colab": {
          "base_uri": "https://localhost:8080/",
          "height": 34
        }
      },
      "source": [
        "def MLE(a, b, n):\n",
        "  out = []\n",
        "  (d, xPrime, yPrime) = EE(a, n)\n",
        "  if ( b % d == 0 ):\n",
        "    x0 = (xPrime*b//d) % n\n",
        "    for i in range(d): \n",
        "      out += [(x0 + i*(n//d)) % n ]\n",
        "  return out\n",
        "    \n",
        "print (MLE(14,30,100))\n",
        "\n"
      ],
      "execution_count": 3,
      "outputs": [
        {
          "output_type": "stream",
          "text": [
            "[95, 45]\n"
          ],
          "name": "stdout"
        }
      ]
    },
    {
      "cell_type": "code",
      "metadata": {
        "id": "vcBWXXQJVPr2",
        "colab_type": "code",
        "outputId": "adbbb6a2-6fe1-43ac-e02c-060697234dd7",
        "colab": {
          "base_uri": "https://localhost:8080/",
          "height": 67
        }
      },
      "source": [
        "p=11;  q=29; e=3\n",
        "\n",
        "n = p * q\n",
        "phiN = (p-1)*(q-1)\n",
        "d = MLE(e, 1, phiN)[0]\n",
        "print (n, phiN, d)\n",
        "\n",
        "message = 318\n",
        "c = message**e%n\n",
        "print (c)\n",
        "decrypted = c**d%n\n",
        "print (decrypted)"
      ],
      "execution_count": 4,
      "outputs": [
        {
          "output_type": "stream",
          "text": [
            "319 280 187\n",
            "318\n",
            "318\n"
          ],
          "name": "stdout"
        }
      ]
    },
    {
      "cell_type": "code",
      "metadata": {
        "id": "ZGweY_VpXbF3",
        "colab_type": "code",
        "outputId": "7f963d8c-8519-4853-a071-2ebc5c23a213",
        "colab": {
          "base_uri": "https://localhost:8080/",
          "height": 84
        }
      },
      "source": [
        "p=3;  q=5; e=3\n",
        "\n",
        "n = p * q\n",
        "phiN = (p-1)*(q-1)\n",
        "d = MLE(e, 1, phiN)[0]\n",
        "print (n, phiN, d)\n",
        "print (e,d,phiN,e*d % phiN)\n",
        "message = 3\n",
        "c = message**e%n\n",
        "print (c)\n",
        "decrypted = c**d%n\n",
        "print (decrypted)"
      ],
      "execution_count": 5,
      "outputs": [
        {
          "output_type": "stream",
          "text": [
            "15 8 3\n",
            "3 3 8 1\n",
            "12\n",
            "3\n"
          ],
          "name": "stdout"
        }
      ]
    },
    {
      "cell_type": "code",
      "metadata": {
        "id": "o5huzto5aAwI",
        "colab_type": "code",
        "outputId": "84eb22f5-a2eb-4031-942f-beb7ea0e78fd",
        "colab": {
          "base_uri": "https://localhost:8080/",
          "height": 50
        }
      },
      "source": [
        "p=13;  q=17; e=5\n",
        "\n",
        "n = p * q\n",
        "phiN = (p-1)*(q-1)\n",
        "d = MLE(e, 1, phiN)[0]\n",
        "print (n, phiN, d)\n",
        "print (e,d,phiN,e*d % phiN)\n",
        "\n",
        "PUBLIC = (e,n)\n",
        "PRIVATE = (d,n)"
      ],
      "execution_count": 6,
      "outputs": [
        {
          "output_type": "stream",
          "text": [
            "221 192 77\n",
            "5 77 192 1\n"
          ],
          "name": "stdout"
        }
      ]
    },
    {
      "cell_type": "code",
      "metadata": {
        "id": "LVHldOj6bJkA",
        "colab_type": "code",
        "outputId": "b1ee50ad-91ed-455e-ab73-4a8e5b726437",
        "colab": {
          "base_uri": "https://localhost:8080/",
          "height": 67
        }
      },
      "source": [
        "message = ord('D')\n",
        "c = message**e%n\n",
        "decrypted = c**d%n\n",
        "print (\"MESSAGE: \", message)\n",
        "print (\"ENCRYPTED: \", c)\n",
        "print (\"DECRYPTED: \", decrypted)"
      ],
      "execution_count": 7,
      "outputs": [
        {
          "output_type": "stream",
          "text": [
            "MESSAGE:  68\n",
            "ENCRYPTED:  204\n",
            "DECRYPTED:  68\n"
          ],
          "name": "stdout"
        }
      ]
    },
    {
      "cell_type": "code",
      "metadata": {
        "id": "5HGjK2Uni8Lb",
        "colab_type": "code",
        "outputId": "1145aec4-2954-4af6-d275-2ea6a856cd4d",
        "colab": {
          "base_uri": "https://localhost:8080/",
          "height": 50
        }
      },
      "source": [
        "def ME(a, b, n):\n",
        "  c = 0\n",
        "  d = 1\n",
        "  bVector = bin(b)[2:]\n",
        "  for i in range(len(bVector)):\n",
        "    c *= 2\n",
        "    d = (d*d) % n\n",
        "    if (bVector[i]=='1'):\n",
        "      c += 1\n",
        "      d = (d * a) % n\n",
        "  return d\n",
        "\n",
        "def ME2(a, b, n):\n",
        "  c = 0\n",
        "  d = 1\n",
        "  bVector = bin(b)[:1:-1]\n",
        "  k = len(bVector)-1\n",
        "  print (bVector, bin(b))\n",
        "  for i in range(k,-1,-1):\n",
        "    c *= 2\n",
        "    d = (d*d) % n\n",
        "    if (bVector[i]=='1'):\n",
        "      c += 1\n",
        "      d = (d * a) % n\n",
        "  return d\n",
        "\n",
        "a=111; b=113; n=97\n",
        "a=2; b=521; n=5217\n",
        "print (a**b%n, ME(a, b, n), ME2(a, b, n))\n"
      ],
      "execution_count": 8,
      "outputs": [
        {
          "output_type": "stream",
          "text": [
            "1001000001 0b1000001001\n",
            "2312 2312 2312\n"
          ],
          "name": "stdout"
        }
      ]
    },
    {
      "cell_type": "code",
      "metadata": {
        "id": "YjH3O6MvgebI",
        "colab_type": "code",
        "outputId": "4f49fbff-5cc0-429e-b23a-d08a3a16d1a0",
        "colab": {
          "base_uri": "https://localhost:8080/",
          "height": 50
        }
      },
      "source": [
        "p, q, e = (7, 13, 5)\n",
        "p, q, e = (13, 31, 7)\n",
        "\n",
        "n = p * q\n",
        "phiN = (p-1)*(q-1)\n",
        "d = MLE(e, 1, phiN)[0]\n",
        "print (n, phiN, d)\n",
        "print (e,d,phiN,e*d % phiN)\n",
        "\n",
        "PUBLIC = (e,n)\n",
        "PRIVATE = (d,n)"
      ],
      "execution_count": 9,
      "outputs": [
        {
          "output_type": "stream",
          "text": [
            "403 360 103\n",
            "7 103 360 1\n"
          ],
          "name": "stdout"
        }
      ]
    },
    {
      "cell_type": "code",
      "metadata": {
        "id": "VwjrRIElgXFX",
        "colab_type": "code",
        "outputId": "4c1d0567-b797-4aec-c4d2-10c2ada8ed8d",
        "colab": {
          "base_uri": "https://localhost:8080/",
          "height": 67
        }
      },
      "source": [
        "message = ord('Q')-ord('A') + 1\n",
        "c = message**e%n\n",
        "decrypted = c**d%n\n",
        "print (\"MESSAGE: \", message)\n",
        "print (\"ENCRYPTED: \", c)\n",
        "print (\"DECRYPTED: \", decrypted)"
      ],
      "execution_count": 10,
      "outputs": [
        {
          "output_type": "stream",
          "text": [
            "MESSAGE:  17\n",
            "ENCRYPTED:  43\n",
            "DECRYPTED:  17\n"
          ],
          "name": "stdout"
        }
      ]
    },
    {
      "cell_type": "code",
      "metadata": {
        "id": "ji_HaW0FISbf",
        "colab_type": "code",
        "colab": {}
      },
      "source": [
        "# GCD\n",
        "\n",
        "GCD = lambda a, b: GCD(b, a%b) if b else a\n",
        "Z = lambda n: sorted({i%n for i in range(10000)})\n",
        "Za = lambda a,n: sorted({i*a%n for i in range(1000)})\n",
        "\n",
        "Zx = lambda n: sorted ({i%n for i in range(10000) if GCD(i,n)==1})\n",
        "Zxa = lambda a,n: sorted ({a**i%n for i in range(10000) if GCD(a**i,n)==1})"
      ],
      "execution_count": 0,
      "outputs": []
    },
    {
      "cell_type": "code",
      "metadata": {
        "id": "4AdUfMlJKHPb",
        "colab_type": "code",
        "outputId": "b0cb2f2e-3fda-4d46-d17d-51013132f5cf",
        "colab": {
          "base_uri": "https://localhost:8080/",
          "height": 101
        }
      },
      "source": [
        "print(Z(10))\n",
        "\n",
        "print (Za(5,10))\n",
        "\n",
        "print (len(Zx(1024)))\n",
        "print (Zxa(127,1024))\n",
        "print (Zx(15))"
      ],
      "execution_count": 12,
      "outputs": [
        {
          "output_type": "stream",
          "text": [
            "[0, 1, 2, 3, 4, 5, 6, 7, 8, 9]\n",
            "[0, 5]\n",
            "512\n",
            "[1, 127, 257, 383, 513, 639, 769, 895]\n",
            "[1, 2, 4, 7, 8, 11, 13, 14]\n"
          ],
          "name": "stdout"
        }
      ]
    },
    {
      "cell_type": "code",
      "metadata": {
        "id": "TRTYrgzKBHXe",
        "colab_type": "code",
        "outputId": "2bd820f9-faee-4885-b573-8f4025b27829",
        "colab": {
          "base_uri": "https://localhost:8080/",
          "height": 118
        }
      },
      "source": [
        "#\n",
        "# Chinese Remainder Theorem\n",
        "\n",
        "import numpy as np\n",
        "A = [2, 3, 2]\n",
        "N = [3, 5, 7]\n",
        "\n",
        "M = [np.prod(N)//N[i] for i in range(len(A))]\n",
        "Minverse = [MLE(M[i], 1, N[i])[0] for i in range(len(A))]\n",
        "\n",
        "print (\"M: \", M)\n",
        "print (\"Minverse: \", Minverse)\n",
        "\n",
        "C = [M[i]*(Minverse[i] % N[i]) for i in range(len(A))]\n",
        "print (\"C: \", C)\n",
        "\n",
        "AC = [A[i]*C[i] for i in range(len(A))]\n",
        "\n",
        "answer = sum(AC) % np.prod(N)\n",
        "print (\"AiCi: \", AC)\n",
        "print (\"Sum AiCi mod n: \", answer)\n",
        "\n",
        "output = [answer % N[i] for i in range(len(A))]\n",
        "\n",
        "print (\"Answer mod Ni: \", output)"
      ],
      "execution_count": 13,
      "outputs": [
        {
          "output_type": "stream",
          "text": [
            "M:  [35, 21, 15]\n",
            "Minverse:  [2, 1, 1]\n",
            "C:  [70, 21, 15]\n",
            "AiCi:  [140, 63, 30]\n",
            "Sum AiCi mod n:  23\n",
            "Answer mod Ni:  [2, 3, 2]\n"
          ],
          "name": "stdout"
        }
      ]
    },
    {
      "cell_type": "code",
      "metadata": {
        "id": "DZ24rmmgKLG0",
        "colab_type": "code",
        "outputId": "18816fbb-1c60-45a1-ebe9-216f98f89d38",
        "colab": {
          "base_uri": "https://localhost:8080/",
          "height": 118
        }
      },
      "source": [
        "A1 = [1, 2, 2, 2, 2, 2, 2, 2]\n",
        "A2 = [1, 1, 1, 3, 3, 3, 3, 3]\n",
        "A2b = [5, 5, 9]\n",
        "A = A2b\n",
        "N1 = [2, 3, 5, 7, 11, 13, 17, 19]\n",
        "N2b = [47, 53, 59]\n",
        "N = N2b\n",
        "\n",
        "M = [np.prod(N)//N[i] for i in range(len(A))]\n",
        "Minverse = [MLE(M[i], 1, N[i])[0] for i in range(len(A))]\n",
        "\n",
        "print (\"M: \", M)\n",
        "print (\"Minverse: \", Minverse)\n",
        "\n",
        "C = [M[i]*(Minverse[i] % N[i]) for i in range(len(A))]\n",
        "print (\"C: \", C)\n",
        "\n",
        "AC = [A[i]*C[i] for i in range(len(A))]\n",
        "\n",
        "answer = sum(AC) % np.prod(N)\n",
        "print (\"AiCi: \", AC)\n",
        "print (\"Sum AiCi mod n: \", answer)\n",
        "\n",
        "output = [answer % N[i] for i in range(len(A))]\n",
        "\n",
        "print (\"Answer mod Ni: \", output)\n",
        "\n"
      ],
      "execution_count": 14,
      "outputs": [
        {
          "output_type": "stream",
          "text": [
            "M:  [3127, 2773, 2491]\n",
            "Minverse:  [32, 25, 50]\n",
            "C:  [100064, 69325, 124550]\n",
            "AiCi:  [500320, 346625, 1120950]\n",
            "Sum AiCi mod n:  57298\n",
            "Answer mod Ni:  [5, 5, 9]\n"
          ],
          "name": "stdout"
        }
      ]
    },
    {
      "cell_type": "code",
      "metadata": {
        "id": "qkRq1_G5ExAg",
        "colab_type": "code",
        "outputId": "a2a7f661-7134-4088-bd99-3acf075ca960",
        "colab": {
          "base_uri": "https://localhost:8080/",
          "height": 1000
        }
      },
      "source": [
        "def ChineseRemainder(A, N):\n",
        "  M = [np.prod(N)//N[i] for i in range(len(A))]\n",
        "  Minverse = [MLE(M[i], 1, N[i])[0] for i in range(len(A))]\n",
        "\n",
        "  print (\"M: \", M)\n",
        "  print (\"Minverse: \", Minverse)\n",
        "\n",
        "  C = [M[i]*(Minverse[i] % N[i]) for i in range(len(A))]\n",
        "  print (\"C: \", C)\n",
        "\n",
        "  AC = [A[i]*C[i] for i in range(len(A))]\n",
        "\n",
        "  answer = sum(AC) % np.prod(N)\n",
        "  return answer\n",
        "\n",
        "N = [47, 53, 59]\n",
        "As = [ (4, 2, 3), (5, 5, 9), (7, 77, 777), (10, 9, 14), (12, 9, 21), (2, 1, 14), (13, 9, 14) ]\n",
        "\n",
        "Answers = [(a,ChineseRemainder(a, N)) for a in As]\n",
        "print (\"\\nANSWERS\")\n",
        "print (N, Answers,\"\\n\")\n",
        "\n",
        "N = [3, 5, 7]\n",
        "As = [ (2, 3, 2), (3, 2, 3), (3, 1, 1) ]\n",
        "\n",
        "Answers = [(a,ChineseRemainder(a, N)) for a in As]\n",
        "print (\"\\nANSWERS\")\n",
        "print (N, Answers,\"\\n\")\n",
        "\n",
        "N = [61, 67, 71, 73]\n",
        "As = [ (18, 21, 2, 25), (16, 1, 18, 11), (8, 6, 2, 3) ]\n",
        "\n",
        "Answers = [(a,ChineseRemainder(a, N)) for a in As]\n",
        "print (\"\\nANSWERS\")\n",
        "print (N, Answers,\"\\n\")\n",
        "\n",
        "N = [41, 43]\n",
        "As = [ (12, 9) ]\n",
        "\n",
        "Answers = [(a,ChineseRemainder(a, N)) for a in As]\n",
        "print (\"\\nANSWERS\")\n",
        "print (N, Answers,\"\\n\")\n",
        "\n",
        "N = [71, 73, 79, 83, 89, 97]\n",
        "As = [ (23, 9, 12, 19, 15, 14) ]\n",
        "\n",
        "Answers = [(a,ChineseRemainder(a, N)) for a in As]\n",
        "print (\"\\nANSWERS\")\n",
        "print (N, Answers,\"\\n\")\n"
      ],
      "execution_count": 15,
      "outputs": [
        {
          "output_type": "stream",
          "text": [
            "M:  [3127, 2773, 2491]\n",
            "Minverse:  [32, 25, 50]\n",
            "C:  [100064, 69325, 124550]\n",
            "M:  [3127, 2773, 2491]\n",
            "Minverse:  [32, 25, 50]\n",
            "C:  [100064, 69325, 124550]\n",
            "M:  [3127, 2773, 2491]\n",
            "Minverse:  [32, 25, 50]\n",
            "C:  [100064, 69325, 124550]\n",
            "M:  [3127, 2773, 2491]\n",
            "Minverse:  [32, 25, 50]\n",
            "C:  [100064, 69325, 124550]\n",
            "M:  [3127, 2773, 2491]\n",
            "Minverse:  [32, 25, 50]\n",
            "C:  [100064, 69325, 124550]\n",
            "M:  [3127, 2773, 2491]\n",
            "Minverse:  [32, 25, 50]\n",
            "C:  [100064, 69325, 124550]\n",
            "M:  [3127, 2773, 2491]\n",
            "Minverse:  [32, 25, 50]\n",
            "C:  [100064, 69325, 124550]\n",
            "\n",
            "ANSWERS\n",
            "[47, 53, 59] [((4, 2, 3), 30742), ((5, 5, 9), 57298), ((7, 77, 777), 82492), ((10, 9, 14), 134947), ((12, 9, 21), 31173), ((2, 1, 14), 102556), ((13, 9, 14), 141201)] \n",
            "\n",
            "M:  [35, 21, 15]\n",
            "Minverse:  [2, 1, 1]\n",
            "C:  [70, 21, 15]\n",
            "M:  [35, 21, 15]\n",
            "Minverse:  [2, 1, 1]\n",
            "C:  [70, 21, 15]\n",
            "M:  [35, 21, 15]\n",
            "Minverse:  [2, 1, 1]\n",
            "C:  [70, 21, 15]\n",
            "\n",
            "ANSWERS\n",
            "[3, 5, 7] [((2, 3, 2), 23), ((3, 2, 3), 87), ((3, 1, 1), 36)] \n",
            "\n",
            "M:  [347261, 316163, 298351, 290177]\n",
            "Minverse:  [5, 20, 8, 37]\n",
            "C:  [1736305, 6323260, 2386808, 10736549]\n",
            "M:  [347261, 316163, 298351, 290177]\n",
            "Minverse:  [5, 20, 8, 37]\n",
            "C:  [1736305, 6323260, 2386808, 10736549]\n",
            "M:  [347261, 316163, 298351, 290177]\n",
            "Minverse:  [5, 20, 8, 37]\n",
            "C:  [1736305, 6323260, 2386808, 10736549]\n",
            "\n",
            "ANSWERS\n",
            "[61, 67, 71, 73] [((18, 21, 2, 25), 13570871), ((16, 1, 18, 11), 4522434), ((8, 6, 2, 3), 4081579)] \n",
            "\n",
            "M:  [43, 41]\n",
            "Minverse:  [21, 21]\n",
            "C:  [903, 861]\n",
            "\n",
            "ANSWERS\n",
            "[41, 43] [((12, 9), 955)] \n",
            "\n",
            "M:  [4132280413, 4019067251, 3713821637, 3534842281, 3296538307, 3024658859]\n",
            "Minverse:  [26, 30, 47, 60, 31, 54]\n",
            "C:  [107439290738, 120572017530, 174549616939, 212090536860, 102192687517, 163331578386]\n",
            "\n",
            "ANSWERS\n",
            "[71, 73, 79, 83, 89, 97] [((23, 9, 12, 19, 15, 14), 4072029653)] \n",
            "\n"
          ],
          "name": "stdout"
        }
      ]
    },
    {
      "cell_type": "code",
      "metadata": {
        "id": "BNqm1JOLEjUJ",
        "colab_type": "code",
        "outputId": "0c8a664c-7713-4032-b650-ee49410c3207",
        "colab": {
          "base_uri": "https://localhost:8080/",
          "height": 50
        }
      },
      "source": [
        "### Witness\n",
        "\n",
        "def Witness(a, n):\n",
        "  t = [i for i in range(int(np.log2(n-1)),-1,-1) if ((n-1)%(2**i))==0][0]\n",
        "  u = (n-1)//(2**t)\n",
        "  ## print (n-1,u,t, u*2**t)\n",
        "  x1 = ME(a, u, n)\n",
        "  ## print (x1)\n",
        "  for i in range(t):\n",
        "    x2 = (x1**2) % n\n",
        "    ## print (x1, x2)\n",
        "    if x2 == 1 and x1 != 1 and x1 != n-1:\n",
        "      return True\n",
        "    x1 = x2\n",
        "    ## print (x1)\n",
        "  if x1 != 1:\n",
        "    return True  \n",
        "  return False\n",
        "\n",
        "n = int(np.random.randint(1000,10000))\n",
        "print (n,list(range(int(np.log2(n-1)),-1,-1) ))\n",
        "\n",
        "print (Witness( 5, n ))"
      ],
      "execution_count": 16,
      "outputs": [
        {
          "output_type": "stream",
          "text": [
            "8547 [13, 12, 11, 10, 9, 8, 7, 6, 5, 4, 3, 2, 1, 0]\n",
            "True\n"
          ],
          "name": "stdout"
        }
      ]
    },
    {
      "cell_type": "code",
      "metadata": {
        "id": "ztLfbttXEoYa",
        "colab_type": "code",
        "outputId": "2cb03dbb-3f06-49da-f019-0c444a23a28b",
        "colab": {
          "base_uri": "https://localhost:8080/",
          "height": 67
        }
      },
      "source": [
        "def MillerRabin(n, s):\n",
        "  for j in range(s):\n",
        "    a = np.random.randint(1,n-1)\n",
        "    if (Witness(a,n)==True):\n",
        "      print (n, \"COMPOSITE:\", a)\n",
        "      return False\n",
        "  print (n, \"PRIME\")\n",
        "  return True\n",
        "\n",
        "for i in range(1000):\n",
        "  x = np.random.randint(1000000,10000000)\n",
        "  if x%2==0:\n",
        "    continue\n",
        "  if (MillerRabin(x, 3)==True):\n",
        "    print(x,\"PRIME\")\n",
        "    break"
      ],
      "execution_count": 17,
      "outputs": [
        {
          "output_type": "stream",
          "text": [
            "7809305 COMPOSITE: 445830\n",
            "9004691 PRIME\n",
            "9004691 PRIME\n"
          ],
          "name": "stdout"
        }
      ]
    },
    {
      "cell_type": "code",
      "metadata": {
        "id": "jfwenHr5HG1i",
        "colab_type": "code",
        "outputId": "feff0fa9-0b63-4523-ebfb-d7583aa03d54",
        "colab": {
          "base_uri": "https://localhost:8080/",
          "height": 403
        }
      },
      "source": [
        "def GetKeys(p, q, e):\n",
        "  n = p * q\n",
        "  phiN = (p-1)*(q-1)\n",
        "  d = MLE(e, 1, phiN)[0]\n",
        "  print (n, phiN, d)\n",
        "  print (e,d,phiN,e*d % phiN)\n",
        "\n",
        "  PUBLIC = (e,n)\n",
        "  PRIVATE = (d,n)\n",
        "  return (PUBLIC, PRIVATE)\n",
        "\n",
        "def FindPrime(bits):\n",
        "  for i in range(10000):\n",
        "    x = int(np.random.random()*2**(bits+1)+2**(bits))\n",
        "    if x%2==0:\n",
        "      continue\n",
        "    if (MillerRabin(x, 3)==True):\n",
        "      print(x,\"PRIME\")\n",
        "      return x\n",
        "  \n",
        "p = FindPrime(50)\n",
        "q = FindPrime(50)\n",
        "print (p,q)"
      ],
      "execution_count": 18,
      "outputs": [
        {
          "output_type": "stream",
          "text": [
            "1842918060482395 COMPOSITE: 412173859143673\n",
            "2261954625712359 COMPOSITE: 2002336390376155\n",
            "2835375687972519 COMPOSITE: 349012359628738\n",
            "2668460702356337 COMPOSITE: 1510235985281584\n",
            "1268871685380775 COMPOSITE: 487404583921319\n",
            "1666961384726393 COMPOSITE: 67073557720338\n",
            "1199016481980985 COMPOSITE: 1136986798122889\n",
            "1643818016185963 PRIME\n",
            "1643818016185963 PRIME\n",
            "2270780794305837 COMPOSITE: 2017452096458624\n",
            "2953733296916039 COMPOSITE: 149697129763551\n",
            "1751729156938425 COMPOSITE: 748685078025\n",
            "1722505237214057 COMPOSITE: 796749388520524\n",
            "3010176154992495 COMPOSITE: 682918104383954\n",
            "2133953540998233 COMPOSITE: 745274186110457\n",
            "3158759953887243 COMPOSITE: 2940410130755128\n",
            "1782377416258787 COMPOSITE: 721141647836401\n",
            "2442160744579745 COMPOSITE: 403746317044203\n",
            "3262124877979147 COMPOSITE: 2764663663772274\n",
            "1679331238766303 COMPOSITE: 491764355257955\n",
            "3331831059014119 PRIME\n",
            "3331831059014119 PRIME\n",
            "1643818016185963 3331831059014119\n"
          ],
          "name": "stdout"
        }
      ]
    },
    {
      "cell_type": "code",
      "metadata": {
        "id": "GhSeTj5DLA-w",
        "colab_type": "code",
        "outputId": "81670b64-cb33-48cb-893c-6fe9d86dba5c",
        "colab": {
          "base_uri": "https://localhost:8080/",
          "height": 67
        }
      },
      "source": [
        "p1 = 2038144922166511\n",
        "q1 = 3032058867739061\n",
        "phiN = (p-1)*(q-1)\n",
        "eS = [i for i in range(3, 100) if GCD(i,phiN)==1]\n",
        "e1 = 101\n",
        "e = eS[0]\n",
        "keys = GetKeys(p, q, e)\n",
        "print (keys)"
      ],
      "execution_count": 19,
      "outputs": [
        {
          "output_type": "stream",
          "text": [
            "5476923921695365309795346611597 5476923921695360334146271411516 4381539137356288267317017129213\n",
            "5 4381539137356288267317017129213 5476923921695360334146271411516 1\n",
            "((5, 5476923921695365309795346611597), (4381539137356288267317017129213, 5476923921695365309795346611597))\n"
          ],
          "name": "stdout"
        }
      ]
    },
    {
      "cell_type": "code",
      "metadata": {
        "id": "cQkR-5rwLX_v",
        "colab_type": "code",
        "outputId": "52adb15f-706c-4bec-e165-893816411b7e",
        "colab": {
          "base_uri": "https://localhost:8080/",
          "height": 67
        }
      },
      "source": [
        "message = 12345678901234567890\n",
        "c = ME(message,keys[0][0], keys[0][1])\n",
        "decrypted = ME(c,keys[1][0], keys[1][1])\n",
        "print (\"MESSAGE: \", message)\n",
        "print (\"ENCRYPTED: \", c)\n",
        "print (\"DECRYPTED: \", decrypted)"
      ],
      "execution_count": 20,
      "outputs": [
        {
          "output_type": "stream",
          "text": [
            "MESSAGE:  12345678901234567890\n",
            "ENCRYPTED:  1690174664248833570770493708224\n",
            "DECRYPTED:  12345678901234567890\n"
          ],
          "name": "stdout"
        }
      ]
    },
    {
      "cell_type": "code",
      "metadata": {
        "id": "_IWFZqmiBX55",
        "colab_type": "code",
        "outputId": "97419156-f88d-4b4b-896b-7d7ec3ae2e62",
        "colab": {
          "base_uri": "https://localhost:8080/",
          "height": 168
        }
      },
      "source": [
        "# Block Encryption Example\n",
        "blockSize = 64\n",
        "strSize = 8\n",
        "x=\"David Ruby\"\n",
        "#x=\"ABCDEFGHIJKLMNOPQRSTUVWXYZ\"\n",
        "\n",
        "x = x+\" \"*(strSize-len(x)%strSize)  #Pad string to match Block Size\n",
        "\n",
        "y=[ \"{0:{fill}8b}\".format(ord(c), fill='0') for c in x]\n",
        "m = \"\".join(y)\n",
        "\n",
        "#mPad =m + \"0\"*(blockSize-len(m)%blockSize)\n",
        "mPad = m\n",
        "\n",
        "#mPad is full message in binary\n",
        "\n",
        "mPadList = [mPad[i:i+blockSize] for i in range(0,len(mPad),blockSize)]\n",
        "print (m, '\\n', len(m))\n",
        "print (mPad, '\\n', len(mPad))\n",
        "MessageList = [int(a,2) for a in mPadList ]\n",
        "print (MessageList)\n",
        "\n",
        "#MessageList is now a list of integers derived from blocks\n",
        "\n",
        "EncryptedList = [ME(message,keys[0][0], keys[0][1]) for message in MessageList]\n",
        "print (EncryptedList)\n",
        "\n",
        "DecryptedList = [ME(c,keys[1][0], keys[1][1]) for c in EncryptedList]\n",
        "print (DecryptedList)\n",
        "\n",
        "f = \"{0:{fill}\"+str(blockSize)+\"b}\"\n",
        "y=[ f.format(c, fill='0') for c in DecryptedList]\n",
        "m = \"\".join(y)\n",
        "print (m)\n",
        "\n",
        "# Convert each bits to a single character\n",
        "print (\"\".join( [chr(int(m[i:i+8],2)) for i in range(0,len(m),8)] ) )\n"
      ],
      "execution_count": 21,
      "outputs": [
        {
          "output_type": "stream",
          "text": [
            "01000100011000010111011001101001011001000010000001010010011101010110001001111001001000000010000000100000001000000010000000100000 \n",
            " 128\n",
            "01000100011000010111011001101001011001000010000001010010011101010110001001111001001000000010000000100000001000000010000000100000 \n",
            " 128\n",
            "[4927349662343516789, 7095738010248945696]\n",
            "[5447484762231354754546775862400, 4431544035782176913930982145578]\n",
            "[4927349662343516789, 7095738010248945696]\n",
            "01000100011000010111011001101001011001000010000001010010011101010110001001111001001000000010000000100000001000000010000000100000\n",
            "David Ruby      \n"
          ],
          "name": "stdout"
        }
      ]
    },
    {
      "cell_type": "code",
      "metadata": {
        "id": "moi8NwtlOpfa",
        "colab_type": "code",
        "outputId": "a737d952-c18c-48ac-bfd9-d9fb5aa317c7",
        "colab": {
          "base_uri": "https://localhost:8080/",
          "height": 104
        }
      },
      "source": [
        "def Encrypt(message, key, blockSize):\n",
        "  encryptedBlockSize = len(bin(key[1]))\n",
        "  strSize = blockSize // 8 # 8 bits per character\n",
        "  message = message if len(message)%strSize==0 else message +\" \"*(strSize-len(message)%strSize)  #Pad string to match Block Size\n",
        "  messageBinaryList=[ \"{0:{fill}8b}\".format(ord(c), fill='0') for c in message]  # One long binary string\n",
        "  messageBinary = \"\".join(messageBinaryList)\n",
        "  messageBlockBinaryList = [messageBinary[i:i+blockSize] for i in range(0,len(messageBinary),blockSize)]  # List of Block size Binary Strings\n",
        "  messageIntList = [int(a,2) for a in messageBlockBinaryList ]  # Integer list of blocks\n",
        "\n",
        "  encryptedIntegerList = [ME(message,key[0], key[1]) for message in messageIntList]\n",
        "  f = \"{0:{fill}\"+str(encryptedBlockSize)+\"b}\" \n",
        "  encryptedBinaryList=[ f.format(c, fill='0') for c in encryptedIntegerList]\n",
        "  pList = [(cv, len(cv)) for cv in encryptedBinaryList]\n",
        "  e = \"\".join(encryptedBinaryList)\n",
        "  return e\n",
        "\n",
        "def Decrypt(message, key, blockSize):\n",
        "  encryptedBlockSize = len(bin(key[1]))\n",
        "  messageBinaryList = [message[i:i+encryptedBlockSize] for i in range(0,len(message),encryptedBlockSize)]\n",
        "  MessageIntList = [int(a,2) for a in messageBinaryList ]  \n",
        "\n",
        "  DecryptedList = [ME(c,key[0], key[1]) for c in MessageIntList]\n",
        "\n",
        "  f = \"{0:{fill}\"+str(blockSize)+\"b}\"\n",
        "  y=[ f.format(c, fill='0') for c in DecryptedList]\n",
        "  m = \"\".join(y)\n",
        "\n",
        "  # Convert each bits to a single character\n",
        "  originalMessage =  \"\".join( [chr(int(m[i:i+8],2)) for i in range(0,len(m),8)] ) \n",
        "  return originalMessage\n",
        "\n",
        "\n",
        "myMessage = \"ABCDEFGHIJKLMNOPQRSTUVWXYZ\"\n",
        "cip1 = Encrypt(myMessage, keys[0], blockSize) \n",
        "print (cip1, len(cip1))\n",
        "\n",
        "out1 = Decrypt(cip1, keys[1], blockSize )\n",
        "\n",
        "print (out1)\n",
        "\n",
        "myMessage = \"David Ruby\"\n",
        "cip2 = Encrypt(myMessage, keys[0], blockSize) \n",
        "print (cip2, len(cip2))\n",
        "\n",
        "out2 = Decrypt(cip2, keys[1], blockSize )\n",
        "\n",
        "print (out2)\n"
      ],
      "execution_count": 22,
      "outputs": [
        {
          "output_type": "stream",
          "text": [
            "000110100100010000101000000001110100101011000010110100100110011100010001011000000000110111011010110001100001000010111001001010000100111111011001010011100000011000111111001110000010110011010001000010100110100000000000111000110000101000110001110010001110001101100011101111000010001011011101011100011001000011100101010000010001100010101010011110110011111110001110011110010101010100100010001100010101101011010110111010100111 420\n",
            "ABCDEFGHIJKLMNOPQRSTUVWXYZ      \n",
            "001000100110000011100010111001000010100011010010101010100011100111010011011100110100000111010110010000000000110111111011110001011101001111011000010000001011000100011110000100100011100111010110100011111000101010 210\n",
            "David Ruby      \n"
          ],
          "name": "stdout"
        }
      ]
    },
    {
      "cell_type": "code",
      "metadata": {
        "id": "0A66am9Q9l6s",
        "colab_type": "code",
        "outputId": "57d36f8b-284e-49d6-b565-c0b3c587262e",
        "colab": {
          "base_uri": "https://localhost:8080/",
          "height": 437
        }
      },
      "source": [
        "def PrintEncrypted(m):\n",
        "  lineLength = 30\n",
        "  messageBlockBinaryList = [m[i:i+lineLength] for i in range(0,len(m),lineLength)]\n",
        "  for b in messageBlockBinaryList:\n",
        "    print (b)\n",
        "    \n",
        "PrintEncrypted(cip1)\n",
        "print(Decrypt(cip1, keys[1], blockSize ), '\\n')\n",
        "\n",
        "PrintEncrypted(cip2)\n",
        "print(Decrypt(cip2, keys[1], blockSize ), '\\n')"
      ],
      "execution_count": 23,
      "outputs": [
        {
          "output_type": "stream",
          "text": [
            "000110100100010000101000000001\n",
            "110100101011000010110100100110\n",
            "011100010001011000000000110111\n",
            "011010110001100001000010111001\n",
            "001010000100111111011001010011\n",
            "100000011000111111001110000010\n",
            "110011010001000010100110100000\n",
            "000000111000110000101000110001\n",
            "110010001110001101100011101111\n",
            "000010001011011101011100011001\n",
            "000011100101010000010001100010\n",
            "101010011110110011111110001110\n",
            "011110010101010100100010001100\n",
            "010101101011010110111010100111\n",
            "ABCDEFGHIJKLMNOPQRSTUVWXYZ       \n",
            "\n",
            "001000100110000011100010111001\n",
            "000010100011010010101010100011\n",
            "100111010011011100110100000111\n",
            "010110010000000000110111111011\n",
            "110001011101001111011000010000\n",
            "001011000100011110000100100011\n",
            "100111010110100011111000101010\n",
            "David Ruby       \n",
            "\n"
          ],
          "name": "stdout"
        }
      ]
    },
    {
      "cell_type": "code",
      "metadata": {
        "id": "KKe9p8etamIv",
        "colab_type": "code",
        "outputId": "eb66cea8-ed8d-42c4-db3a-b7e8892bce49",
        "colab": {
          "base_uri": "https://localhost:8080/",
          "height": 185
        }
      },
      "source": [
        "p = FindPrime(8)\n",
        "q = FindPrime(8)\n",
        "print (p, q)\n",
        "phiN = (p-1)*(q-1)\n",
        "eS = [i for i in range(3, 20) if GCD(i,phiN)==1]\n",
        "print (eS)\n",
        "e = eS[0]"
      ],
      "execution_count": 24,
      "outputs": [
        {
          "output_type": "stream",
          "text": [
            "361 COMPOSITE: 53\n",
            "539 COMPOSITE: 356\n",
            "721 COMPOSITE: 162\n",
            "519 COMPOSITE: 275\n",
            "569 PRIME\n",
            "569 PRIME\n",
            "271 PRIME\n",
            "271 PRIME\n",
            "569 271\n",
            "[7, 11, 13, 17, 19]\n"
          ],
          "name": "stdout"
        }
      ]
    },
    {
      "cell_type": "code",
      "metadata": {
        "id": "SJDKavcVazVS",
        "colab_type": "code",
        "outputId": "ddd5840c-8f23-4913-ce9d-b6c50dca8baa",
        "colab": {
          "base_uri": "https://localhost:8080/",
          "height": 269
        }
      },
      "source": [
        "p=673\n",
        "q=547\n",
        "e=5\n",
        "blockSize = 8\n",
        "keys = GetKeys(p, q, e)\n",
        "print (keys)\n",
        "\n",
        "cip3 = Encrypt(\"DR\", keys[0], blockSize)\n",
        "PrintEncrypted(cip3)\n",
        "out = Decrypt(cip3, keys[1], blockSize )\n",
        "print (int(cip3,2))\n",
        "print(out, len(out),'\\n')\n",
        "\n",
        "cip4 = Encrypt(\"BIO\", keys[0], blockSize)\n",
        "PrintEncrypted(cip4)\n",
        "out = Decrypt(cip4, keys[1], blockSize )\n",
        "print (int(cip4,2))\n",
        "print(out, len(out),'\\n')\n",
        "\n",
        "xout=386398478110\n",
        "bxout = \"000101100111110111001001001101111100011110\"\n",
        "print(int(bxout, 2))"
      ],
      "execution_count": 25,
      "outputs": [
        {
          "output_type": "stream",
          "text": [
            "368131 366912 146765\n",
            "5 146765 366912 1\n",
            "((5, 368131), (146765, 368131))\n",
            "000101100111110111001001001101\n",
            "111100011110\n",
            "386398478110\n",
            "DR 2 \n",
            "\n",
            "001001101111001000101000011110\n",
            "101111101100000110101000110011\n",
            "101\n",
            "1403175013233938845\n",
            "BIO 3 \n",
            "\n",
            "386398478110\n"
          ],
          "name": "stdout"
        }
      ]
    }
  ]
}