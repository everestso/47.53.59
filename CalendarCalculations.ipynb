{
  "nbformat": 4,
  "nbformat_minor": 0,
  "metadata": {
    "colab": {
      "name": "CalendarCalculations.ipynb",
      "provenance": [],
      "authorship_tag": "ABX9TyNOAR9V4kG94PSAIatSIKXU",
      "include_colab_link": true
    },
    "kernelspec": {
      "name": "python3",
      "display_name": "Python 3"
    },
    "language_info": {
      "name": "python"
    }
  },
  "cells": [
    {
      "cell_type": "markdown",
      "metadata": {
        "id": "view-in-github",
        "colab_type": "text"
      },
      "source": [
        "<a href=\"https://colab.research.google.com/github/everestso/47.53.59/blob/master/CalendarCalculations.ipynb\" target=\"_parent\"><img src=\"https://colab.research.google.com/assets/colab-badge.svg\" alt=\"Open In Colab\"/></a>"
      ]
    },
    {
      "cell_type": "markdown",
      "metadata": {
        "id": "WI7mzxPekEfI"
      },
      "source": [
        "## Calendar Calculations"
      ]
    },
    {
      "cell_type": "code",
      "metadata": {
        "colab": {
          "base_uri": "https://localhost:8080/"
        },
        "id": "nGfry3LZfH_5",
        "outputId": "7a1800ef-3366-49a0-d296-f729adee7ea1"
      },
      "source": [
        "def DaysFromDate(dateVector):\n",
        "  k_in   = dateVector[4]\n",
        "  uinal  = dateVector[3]\n",
        "  tun    = dateVector[2]\n",
        "  katun  = dateVector[1]\n",
        "  baktun = dateVector[0]\n",
        "  days = k_in + uinal*20 + tun*360 + katun*7200 + baktun * 144000\n",
        "  return days\n",
        "\n",
        "def DaysInYear(y):\n",
        "  if y%4==0 and y%100!=0:\n",
        "    return 366\n",
        "  elif y%400==0:\n",
        "    return 366\n",
        "  else:\n",
        "    return 365\n",
        "\n",
        "d= (12,17,9,2,5)\n",
        "print (DaysFromDate(d))\n",
        "print (DaysInYear(1900))\n",
        "print (DaysInYear(2000))\n",
        "print (DaysInYear(2020))\n",
        "print (DaysInYear(2001))\n",
        "\n",
        "x = sum([DaysInYear(i) for i in range(1962, 1965)])\n",
        "print (x)\n",
        "print (list(range(1963, 1972)))\n",
        "\n",
        "print(DaysFromDate(d) + sum([DaysInYear(i) for i in range(1962, 1965)]) )\n",
        "print ([(i, DaysInYear(i)) for i in range(1962, 1965, 1)])\n"
      ],
      "execution_count": 17,
      "outputs": [
        {
          "output_type": "stream",
          "text": [
            "1853685\n",
            "365\n",
            "366\n",
            "366\n",
            "365\n",
            "1096\n",
            "[1963, 1964, 1965, 1966, 1967, 1968, 1969, 1970, 1971]\n",
            "1854781\n",
            "[(1962, 365), (1963, 365), (1964, 366)]\n"
          ],
          "name": "stdout"
        }
      ]
    }
  ]
}