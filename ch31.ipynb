{
  "nbformat": 4,
  "nbformat_minor": 0,
  "metadata": {
    "colab": {
      "name": "ch31.ipynb",
      "version": "0.3.2",
      "provenance": [],
      "collapsed_sections": [],
      "include_colab_link": true
    },
    "kernelspec": {
      "name": "python3",
      "display_name": "Python 3"
    }
  },
  "cells": [
    {
      "cell_type": "markdown",
      "metadata": {
        "id": "view-in-github",
        "colab_type": "text"
      },
      "source": [
        "<a href=\"https://colab.research.google.com/github/everestso/61.67.71.73/blob/master/ch31.ipynb\" target=\"_parent\"><img src=\"https://colab.research.google.com/assets/colab-badge.svg\" alt=\"Open In Colab\"/></a>"
      ]
    },
    {
      "cell_type": "code",
      "metadata": {
        "id": "uK5A0Tg7QGa3",
        "colab_type": "code",
        "colab": {}
      },
      "source": [
        "### Extend Euclid\n",
        "def EE(a, b):\n",
        "  if b == 0:\n",
        "    return (a, 1, 0)\n",
        "  else:\n",
        "    (dPrime, xPrime, yPrime) = EE(b, a % b)\n",
        "    (d, x, y) = (dPrime, yPrime, xPrime - (a//b*yPrime))\n",
        "    return (d, x, y)\n",
        "  \n",
        "  \n"
      ],
      "execution_count": 0,
      "outputs": []
    },
    {
      "cell_type": "code",
      "metadata": {
        "id": "ZpV3Vml7SHnL",
        "colab_type": "code",
        "outputId": "37cc674f-5afc-4aff-fbf0-f0ca2491a4b0",
        "colab": {
          "base_uri": "https://localhost:8080/",
          "height": 67
        }
      },
      "source": [
        "a = 12; b=15\n",
        "print (a, b, EE( a, b))\n",
        "a= 125; b=300\n",
        "o = EE( a, b)\n",
        "print (a, b, o)\n",
        "print (a*o[1]+b*o[2])\n"
      ],
      "execution_count": 2,
      "outputs": [
        {
          "output_type": "stream",
          "text": [
            "12 15 (3, -1, 1)\n",
            "125 300 (25, 5, -2)\n",
            "25\n"
          ],
          "name": "stdout"
        }
      ]
    },
    {
      "cell_type": "code",
      "metadata": {
        "id": "ehdEWfj1S6cC",
        "colab_type": "code",
        "outputId": "eb2ea197-7695-446b-9e59-0928040a6a89",
        "colab": {
          "base_uri": "https://localhost:8080/",
          "height": 34
        }
      },
      "source": [
        "def MLE(a, b, n):\n",
        "  out = []\n",
        "  (d, xPrime, yPrime) = EE(a, n)\n",
        "  if ( b % d == 0 ):\n",
        "    x0 = (xPrime*b//d) % n\n",
        "    for i in range(d): \n",
        "      out += [(x0 + i*(n//d)) % n ]\n",
        "  return out\n",
        "    \n",
        "print (MLE(14,30,100))\n",
        "\n"
      ],
      "execution_count": 3,
      "outputs": [
        {
          "output_type": "stream",
          "text": [
            "[95, 45]\n"
          ],
          "name": "stdout"
        }
      ]
    },
    {
      "cell_type": "code",
      "metadata": {
        "id": "vcBWXXQJVPr2",
        "colab_type": "code",
        "outputId": "28c17f42-9696-4bc6-e75b-ca547234bfb4",
        "colab": {
          "base_uri": "https://localhost:8080/",
          "height": 67
        }
      },
      "source": [
        "p=11;  q=29; e=3\n",
        "\n",
        "n = p * q\n",
        "phiN = (p-1)*(q-1)\n",
        "d = MLE(e, 1, phiN)[0]\n",
        "print (n, phiN, d)\n",
        "\n",
        "message = 318\n",
        "c = message**e%n\n",
        "print (c)\n",
        "decrypted = c**d%n\n",
        "print (decrypted)"
      ],
      "execution_count": 4,
      "outputs": [
        {
          "output_type": "stream",
          "text": [
            "319 280 187\n",
            "318\n",
            "318\n"
          ],
          "name": "stdout"
        }
      ]
    },
    {
      "cell_type": "code",
      "metadata": {
        "id": "ZGweY_VpXbF3",
        "colab_type": "code",
        "outputId": "342cde98-135b-44d2-d7d3-ee7574235bd6",
        "colab": {
          "base_uri": "https://localhost:8080/",
          "height": 84
        }
      },
      "source": [
        "p=3;  q=5; e=3\n",
        "\n",
        "n = p * q\n",
        "phiN = (p-1)*(q-1)\n",
        "d = MLE(e, 1, phiN)[0]\n",
        "print (n, phiN, d)\n",
        "print (e,d,phiN,e*d % phiN)\n",
        "message = 3\n",
        "c = message**e%n\n",
        "print (c)\n",
        "decrypted = c**d%n\n",
        "print (decrypted)"
      ],
      "execution_count": 5,
      "outputs": [
        {
          "output_type": "stream",
          "text": [
            "15 8 3\n",
            "3 3 8 1\n",
            "12\n",
            "3\n"
          ],
          "name": "stdout"
        }
      ]
    },
    {
      "cell_type": "code",
      "metadata": {
        "id": "o5huzto5aAwI",
        "colab_type": "code",
        "outputId": "5de40e7b-5b48-44d8-89ae-98a817b58bef",
        "colab": {
          "base_uri": "https://localhost:8080/",
          "height": 50
        }
      },
      "source": [
        "p=13;  q=17; e=5\n",
        "\n",
        "n = p * q\n",
        "phiN = (p-1)*(q-1)\n",
        "d = MLE(e, 1, phiN)[0]\n",
        "print (n, phiN, d)\n",
        "print (e,d,phiN,e*d % phiN)\n",
        "\n",
        "PUBLIC = (e,n)\n",
        "PRIVATE = (d,n)"
      ],
      "execution_count": 6,
      "outputs": [
        {
          "output_type": "stream",
          "text": [
            "221 192 77\n",
            "5 77 192 1\n"
          ],
          "name": "stdout"
        }
      ]
    },
    {
      "cell_type": "code",
      "metadata": {
        "id": "LVHldOj6bJkA",
        "colab_type": "code",
        "outputId": "4747b28e-e3d3-4545-8e48-fc8d7a78f678",
        "colab": {
          "base_uri": "https://localhost:8080/",
          "height": 67
        }
      },
      "source": [
        "message = ord('D')\n",
        "c = message**e%n\n",
        "decrypted = c**d%n\n",
        "print (\"MESSAGE: \", message)\n",
        "print (\"ENCRYPTED: \", c)\n",
        "print (\"DECRYPTED: \", decrypted)"
      ],
      "execution_count": 7,
      "outputs": [
        {
          "output_type": "stream",
          "text": [
            "MESSAGE:  68\n",
            "ENCRYPTED:  204\n",
            "DECRYPTED:  68\n"
          ],
          "name": "stdout"
        }
      ]
    },
    {
      "cell_type": "code",
      "metadata": {
        "id": "5HGjK2Uni8Lb",
        "colab_type": "code",
        "outputId": "cd27aae1-3120-4a44-f65d-b405c3476f4b",
        "colab": {
          "base_uri": "https://localhost:8080/",
          "height": 50
        }
      },
      "source": [
        "def ME(a, b, n):\n",
        "  c = 0\n",
        "  d = 1\n",
        "  bVector = bin(b)\n",
        "  for i in range(len(bVector)):\n",
        "    c *= 2\n",
        "    d = (d*d) % n\n",
        "    if (bVector[i]=='1'):\n",
        "      c += 1\n",
        "      d = (d * a) % n\n",
        "  return d\n",
        "\n",
        "def ME2(a, b, n):\n",
        "  c = 0\n",
        "  d = 1\n",
        "  bVector = bin(b)[:1:-1]\n",
        "  k = len(bVector)-1\n",
        "  print (bVector, bin(b))\n",
        "  for i in range(k,-1,-1):\n",
        "    c *= 2\n",
        "    d = (d*d) % n\n",
        "    if (bVector[i]=='1'):\n",
        "      c += 1\n",
        "      d = (d * a) % n\n",
        "  return d\n",
        "\n",
        "a=111; b=113; n=97\n",
        "a=2; b=521; n=5217\n",
        "print (a**b%n, ME(a, b, n), ME2(a, b, n))\n"
      ],
      "execution_count": 8,
      "outputs": [
        {
          "output_type": "stream",
          "text": [
            "1001000001 0b1000001001\n",
            "2312 2312 2312\n"
          ],
          "name": "stdout"
        }
      ]
    },
    {
      "cell_type": "code",
      "metadata": {
        "id": "YjH3O6MvgebI",
        "colab_type": "code",
        "outputId": "3b5fa2ec-ef10-4beb-f83b-96763823925b",
        "colab": {
          "base_uri": "https://localhost:8080/",
          "height": 50
        }
      },
      "source": [
        "p, q, e = (7, 13, 5)\n",
        "p, q, e = (13, 31, 7)\n",
        "\n",
        "n = p * q\n",
        "phiN = (p-1)*(q-1)\n",
        "d = MLE(e, 1, phiN)[0]\n",
        "print (n, phiN, d)\n",
        "print (e,d,phiN,e*d % phiN)\n",
        "\n",
        "PUBLIC = (e,n)\n",
        "PRIVATE = (d,n)"
      ],
      "execution_count": 9,
      "outputs": [
        {
          "output_type": "stream",
          "text": [
            "403 360 103\n",
            "7 103 360 1\n"
          ],
          "name": "stdout"
        }
      ]
    },
    {
      "cell_type": "code",
      "metadata": {
        "id": "VwjrRIElgXFX",
        "colab_type": "code",
        "outputId": "668bac28-c43b-445c-cc47-af6036a98268",
        "colab": {
          "base_uri": "https://localhost:8080/",
          "height": 67
        }
      },
      "source": [
        "message = ord('Q')-ord('A') + 1\n",
        "c = message**e%n\n",
        "decrypted = c**d%n\n",
        "print (\"MESSAGE: \", message)\n",
        "print (\"ENCRYPTED: \", c)\n",
        "print (\"DECRYPTED: \", decrypted)"
      ],
      "execution_count": 10,
      "outputs": [
        {
          "output_type": "stream",
          "text": [
            "MESSAGE:  17\n",
            "ENCRYPTED:  43\n",
            "DECRYPTED:  17\n"
          ],
          "name": "stdout"
        }
      ]
    },
    {
      "cell_type": "code",
      "metadata": {
        "id": "ji_HaW0FISbf",
        "colab_type": "code",
        "colab": {}
      },
      "source": [
        "# GCD\n",
        "\n",
        "GCD = lambda a, b: GCD(b, a%b) if b else a\n",
        "Z = lambda n: sorted({i%n for i in range(10000)})\n",
        "Za = lambda a,n: sorted({i*a%n for i in range(1000)})\n",
        "\n",
        "Zx = lambda n: sorted ({i%n for i in range(10000) if GCD(i,n)==1})\n",
        "Zxa = lambda a,n: sorted ({a**i%n for i in range(10000) if GCD(a**i,n)==1})"
      ],
      "execution_count": 0,
      "outputs": []
    },
    {
      "cell_type": "code",
      "metadata": {
        "id": "4AdUfMlJKHPb",
        "colab_type": "code",
        "outputId": "b2eeb1eb-4e4b-486c-80c2-d33cc26194ce",
        "colab": {
          "base_uri": "https://localhost:8080/",
          "height": 101
        }
      },
      "source": [
        "print(Z(10))\n",
        "\n",
        "print (Za(5,10))\n",
        "\n",
        "print (len(Zx(1024)))\n",
        "print (Zxa(127,1024))\n",
        "print (Zx(15))"
      ],
      "execution_count": 12,
      "outputs": [
        {
          "output_type": "stream",
          "text": [
            "[0, 1, 2, 3, 4, 5, 6, 7, 8, 9]\n",
            "[0, 5]\n",
            "512\n",
            "[1, 127, 257, 383, 513, 639, 769, 895]\n",
            "[1, 2, 4, 7, 8, 11, 13, 14]\n"
          ],
          "name": "stdout"
        }
      ]
    },
    {
      "cell_type": "code",
      "metadata": {
        "id": "TRTYrgzKBHXe",
        "colab_type": "code",
        "outputId": "991ffe43-6191-4932-a59a-8b5c731674a1",
        "colab": {
          "base_uri": "https://localhost:8080/",
          "height": 118
        }
      },
      "source": [
        "#\n",
        "# Chinese Remainder Theorem\n",
        "\n",
        "import numpy as np\n",
        "A = [2, 3, 2]\n",
        "N = [3, 5, 7]\n",
        "\n",
        "M = [np.prod(N)//N[i] for i in range(len(A))]\n",
        "Minverse = [MLE(M[i], 1, N[i])[0] for i in range(len(A))]\n",
        "\n",
        "print (\"M: \", M)\n",
        "print (\"Minverse: \", Minverse)\n",
        "\n",
        "C = [M[i]*(Minverse[i] % N[i]) for i in range(len(A))]\n",
        "print (\"C: \", C)\n",
        "\n",
        "AC = [A[i]*C[i] for i in range(len(A))]\n",
        "\n",
        "answer = sum(AC) % np.prod(N)\n",
        "print (\"AiCi: \", AC)\n",
        "print (\"Sum AiCi mod n: \", answer)\n",
        "\n",
        "output = [answer % N[i] for i in range(len(A))]\n",
        "\n",
        "print (\"Answer mod Ni: \", output)"
      ],
      "execution_count": 13,
      "outputs": [
        {
          "output_type": "stream",
          "text": [
            "M:  [35, 21, 15]\n",
            "Minverse:  [2, 1, 1]\n",
            "C:  [70, 21, 15]\n",
            "AiCi:  [140, 63, 30]\n",
            "Sum AiCi mod n:  23\n",
            "Answer mod Ni:  [2, 3, 2]\n"
          ],
          "name": "stdout"
        }
      ]
    },
    {
      "cell_type": "code",
      "metadata": {
        "id": "DZ24rmmgKLG0",
        "colab_type": "code",
        "outputId": "3ec2ddb8-0504-476f-db6e-bb66dbf22213",
        "colab": {
          "base_uri": "https://localhost:8080/",
          "height": 118
        }
      },
      "source": [
        "A1 = [1, 2, 2, 2, 2, 2, 2, 2]\n",
        "A2 = [1, 1, 1, 3, 3, 3, 3, 3]\n",
        "A2b = [5, 5, 9]\n",
        "A = A2b\n",
        "N1 = [2, 3, 5, 7, 11, 13, 17, 19]\n",
        "N2b = [47, 53, 59]\n",
        "N = N2b\n",
        "\n",
        "M = [np.prod(N)//N[i] for i in range(len(A))]\n",
        "Minverse = [MLE(M[i], 1, N[i])[0] for i in range(len(A))]\n",
        "\n",
        "print (\"M: \", M)\n",
        "print (\"Minverse: \", Minverse)\n",
        "\n",
        "C = [M[i]*(Minverse[i] % N[i]) for i in range(len(A))]\n",
        "print (\"C: \", C)\n",
        "\n",
        "AC = [A[i]*C[i] for i in range(len(A))]\n",
        "\n",
        "answer = sum(AC) % np.prod(N)\n",
        "print (\"AiCi: \", AC)\n",
        "print (\"Sum AiCi mod n: \", answer)\n",
        "\n",
        "output = [answer % N[i] for i in range(len(A))]\n",
        "\n",
        "print (\"Answer mod Ni: \", output)\n",
        "\n"
      ],
      "execution_count": 14,
      "outputs": [
        {
          "output_type": "stream",
          "text": [
            "M:  [3127, 2773, 2491]\n",
            "Minverse:  [32, 25, 50]\n",
            "C:  [100064, 69325, 124550]\n",
            "AiCi:  [500320, 346625, 1120950]\n",
            "Sum AiCi mod n:  57298\n",
            "Answer mod Ni:  [5, 5, 9]\n"
          ],
          "name": "stdout"
        }
      ]
    },
    {
      "cell_type": "code",
      "metadata": {
        "id": "qkRq1_G5ExAg",
        "colab_type": "code",
        "outputId": "7b8adc31-363c-45ad-bf79-d893d9899801",
        "colab": {
          "base_uri": "https://localhost:8080/",
          "height": 773
        }
      },
      "source": [
        "def ChineseRemainder(A, N):\n",
        "  M = [np.prod(N)//N[i] for i in range(len(A))]\n",
        "  Minverse = [MLE(M[i], 1, N[i])[0] for i in range(len(A))]\n",
        "\n",
        "  print (\"M: \", M)\n",
        "  print (\"Minverse: \", Minverse)\n",
        "\n",
        "  C = [M[i]*(Minverse[i] % N[i]) for i in range(len(A))]\n",
        "  print (\"C: \", C)\n",
        "\n",
        "  AC = [A[i]*C[i] for i in range(len(A))]\n",
        "\n",
        "  answer = sum(AC) % np.prod(N)\n",
        "  return answer\n",
        "\n",
        "N = [47, 53, 59]\n",
        "As = [ (4, 2, 3), (5, 5, 9), (7, 77, 777), (10, 9, 14), (13, 9, 19) ]\n",
        "\n",
        "Answers = [(a,ChineseRemainder(a, N)) for a in As]\n",
        "print (\"\\nANSWERS\")\n",
        "print (N, Answers,\"\\n\")\n",
        "\n",
        "N = [3, 5, 7]\n",
        "As = [ (2, 3, 2), (3, 2, 3), (3, 1, 1) ]\n",
        "\n",
        "Answers = [(a,ChineseRemainder(a, N)) for a in As]\n",
        "print (\"\\nANSWERS\")\n",
        "print (N, Answers,\"\\n\")\n",
        "\n",
        "N = [61, 67, 71, 73]\n",
        "As = [ (18, 21, 2, 25), (16, 1, 18, 11), (8, 6, 2, 3) ]\n",
        "\n",
        "Answers = [(a,ChineseRemainder(a, N)) for a in As]\n",
        "print (\"\\nANSWERS\")\n",
        "print (N, Answers,\"\\n\")\n",
        "\n"
      ],
      "execution_count": 15,
      "outputs": [
        {
          "output_type": "stream",
          "text": [
            "M:  [3127, 2773, 2491]\n",
            "Minverse:  [32, 25, 50]\n",
            "C:  [100064, 69325, 124550]\n",
            "M:  [3127, 2773, 2491]\n",
            "Minverse:  [32, 25, 50]\n",
            "C:  [100064, 69325, 124550]\n",
            "M:  [3127, 2773, 2491]\n",
            "Minverse:  [32, 25, 50]\n",
            "C:  [100064, 69325, 124550]\n",
            "M:  [3127, 2773, 2491]\n",
            "Minverse:  [32, 25, 50]\n",
            "C:  [100064, 69325, 124550]\n",
            "M:  [3127, 2773, 2491]\n",
            "Minverse:  [32, 25, 50]\n",
            "C:  [100064, 69325, 124550]\n",
            "\n",
            "ANSWERS\n",
            "[47, 53, 59] [((4, 2, 3), 30742), ((5, 5, 9), 57298), ((7, 77, 777), 82492), ((10, 9, 14), 134947), ((13, 9, 19), 29106)] \n",
            "\n",
            "M:  [35, 21, 15]\n",
            "Minverse:  [2, 1, 1]\n",
            "C:  [70, 21, 15]\n",
            "M:  [35, 21, 15]\n",
            "Minverse:  [2, 1, 1]\n",
            "C:  [70, 21, 15]\n",
            "M:  [35, 21, 15]\n",
            "Minverse:  [2, 1, 1]\n",
            "C:  [70, 21, 15]\n",
            "\n",
            "ANSWERS\n",
            "[3, 5, 7] [((2, 3, 2), 23), ((3, 2, 3), 87), ((3, 1, 1), 36)] \n",
            "\n",
            "M:  [347261, 316163, 298351, 290177]\n",
            "Minverse:  [5, 20, 8, 37]\n",
            "C:  [1736305, 6323260, 2386808, 10736549]\n",
            "M:  [347261, 316163, 298351, 290177]\n",
            "Minverse:  [5, 20, 8, 37]\n",
            "C:  [1736305, 6323260, 2386808, 10736549]\n",
            "M:  [347261, 316163, 298351, 290177]\n",
            "Minverse:  [5, 20, 8, 37]\n",
            "C:  [1736305, 6323260, 2386808, 10736549]\n",
            "\n",
            "ANSWERS\n",
            "[61, 67, 71, 73] [((18, 21, 2, 25), 13570871), ((16, 1, 18, 11), 4522434), ((8, 6, 2, 3), 4081579)] \n",
            "\n"
          ],
          "name": "stdout"
        }
      ]
    },
    {
      "cell_type": "code",
      "metadata": {
        "id": "BNqm1JOLEjUJ",
        "colab_type": "code",
        "outputId": "ecb6b1c6-ea6e-4ad2-9d3f-61d217cbdc9d",
        "colab": {
          "base_uri": "https://localhost:8080/",
          "height": 50
        }
      },
      "source": [
        "### Witness\n",
        "\n",
        "def Witness(a, n):\n",
        "  t = [i for i in range(int(np.log2(n-1)),-1,-1) if ((n-1)%(2**i))==0][0]\n",
        "  u = (n-1)//(2**t)\n",
        "  ## print (n-1,u,t, u*2**t)\n",
        "  x1 = ME(a, u, n)\n",
        "  ## print (x1)\n",
        "  for i in range(t):\n",
        "    x2 = (x1**2) % n\n",
        "    ## print (x1, x2)\n",
        "    if x2 == 1 and x1 != 1 and x1 != n-1:\n",
        "      return True\n",
        "    x1 = x2\n",
        "    ## print (x1)\n",
        "  if x1 != 1:\n",
        "    return True  \n",
        "  return False\n",
        "\n",
        "n = int(np.random.randint(1000,10000))\n",
        "print (n,list(range(int(np.log2(n-1)),-1,-1) ))\n",
        "\n",
        "print (Witness( 5, n ))"
      ],
      "execution_count": 16,
      "outputs": [
        {
          "output_type": "stream",
          "text": [
            "4476 [12, 11, 10, 9, 8, 7, 6, 5, 4, 3, 2, 1, 0]\n",
            "True\n"
          ],
          "name": "stdout"
        }
      ]
    },
    {
      "cell_type": "code",
      "metadata": {
        "id": "ztLfbttXEoYa",
        "colab_type": "code",
        "outputId": "f6d664d8-6c52-4e4c-a06d-dd3e6e05f78d",
        "colab": {
          "base_uri": "https://localhost:8080/",
          "height": 302
        }
      },
      "source": [
        "def MillerRabin(n, s):\n",
        "  for j in range(s):\n",
        "    a = np.random.randint(1,n-1)\n",
        "    if (Witness(a,n)==True):\n",
        "      print (n, \"COMPOSITE:\", a)\n",
        "      return False\n",
        "  print (n, \"PRIME\")\n",
        "  return True\n",
        "\n",
        "for i in range(1000):\n",
        "  x = np.random.randint(1000000,10000000)\n",
        "  if x%2==0:\n",
        "    continue\n",
        "  if (MillerRabin(x, 3)==True):\n",
        "    print(x,\"PRIME\")\n",
        "    break"
      ],
      "execution_count": 17,
      "outputs": [
        {
          "output_type": "stream",
          "text": [
            "1952899 COMPOSITE: 215611\n",
            "5383089 COMPOSITE: 3066024\n",
            "7102143 COMPOSITE: 2848269\n",
            "8646493 COMPOSITE: 5213950\n",
            "6851041 COMPOSITE: 4297006\n",
            "4470681 COMPOSITE: 937194\n",
            "6149247 COMPOSITE: 781454\n",
            "4503469 COMPOSITE: 3727352\n",
            "6245165 COMPOSITE: 4559056\n",
            "1082651 COMPOSITE: 385050\n",
            "7122657 COMPOSITE: 4954346\n",
            "6006333 COMPOSITE: 1088676\n",
            "9163603 COMPOSITE: 3333493\n",
            "4204275 COMPOSITE: 3905603\n",
            "9824937 COMPOSITE: 1970210\n",
            "5525869 PRIME\n",
            "5525869 PRIME\n"
          ],
          "name": "stdout"
        }
      ]
    },
    {
      "cell_type": "code",
      "metadata": {
        "id": "jfwenHr5HG1i",
        "colab_type": "code",
        "outputId": "a11f40a6-be7c-43ce-8866-8a6826cb296e",
        "colab": {
          "base_uri": "https://localhost:8080/",
          "height": 319
        }
      },
      "source": [
        "def GetKeys(p, q, e):\n",
        "  n = p * q\n",
        "  phiN = (p-1)*(q-1)\n",
        "  d = MLE(e, 1, phiN)[0]\n",
        "  print (n, phiN, d)\n",
        "  print (e,d,phiN,e*d % phiN)\n",
        "\n",
        "  PUBLIC = (e,n)\n",
        "  PRIVATE = (d,n)\n",
        "  return (PUBLIC, PRIVATE)\n",
        "\n",
        "def FindPrime(bits):\n",
        "  for i in range(10000):\n",
        "    x = int(np.random.random()*2**(bits+1)+2**(bits))\n",
        "    if x%2==0:\n",
        "      continue\n",
        "    if (MillerRabin(x, 3)==True):\n",
        "      print(x,\"PRIME\")\n",
        "      return x\n",
        "  \n",
        "print (FindPrime(50))\n",
        "print (FindPrime(50))"
      ],
      "execution_count": 18,
      "outputs": [
        {
          "output_type": "stream",
          "text": [
            "2561308601632303 COMPOSITE: 2540228878242565\n",
            "3129976030000023 COMPOSITE: 744618186841948\n",
            "3328797549785143 COMPOSITE: 1963738981351332\n",
            "2416380110868909 COMPOSITE: 598626910140899\n",
            "2788107532776277 PRIME\n",
            "2788107532776277 PRIME\n",
            "2788107532776277\n",
            "3324843175713303 COMPOSITE: 2962128900419406\n",
            "1862197630059187 COMPOSITE: 1261600507674772\n",
            "1887299474120053 COMPOSITE: 1756765549391090\n",
            "2870934505172721 COMPOSITE: 372529596490124\n",
            "1560993972447867 COMPOSITE: 701258347241864\n",
            "1876262234079447 COMPOSITE: 475774924235196\n",
            "1738505669834643 COMPOSITE: 1161631280954631\n",
            "1755016347764555 COMPOSITE: 750447508887536\n",
            "1284000029425709 PRIME\n",
            "1284000029425709 PRIME\n",
            "1284000029425709\n"
          ],
          "name": "stdout"
        }
      ]
    },
    {
      "cell_type": "code",
      "metadata": {
        "id": "GhSeTj5DLA-w",
        "colab_type": "code",
        "outputId": "8d94749c-fb3f-406a-b401-0e78992effb1",
        "colab": {
          "base_uri": "https://localhost:8080/",
          "height": 67
        }
      },
      "source": [
        "p = 2038144922166511\n",
        "q = 3032058867739061\n",
        "phiN = (p-1)*(q-1)\n",
        "eS = [i for i in range(100, 125) if i%phiN!=0]\n",
        "e = 101\n",
        "keys = GetKeys(p, q, e)\n",
        "print (keys)"
      ],
      "execution_count": 19,
      "outputs": [
        {
          "output_type": "stream",
          "text": [
            "6179775384992307952324340786171 6179775384992302882120550880600 5812660015586819542588636966901\n",
            "101 5812660015586819542588636966901 6179775384992302882120550880600 1\n",
            "((101, 6179775384992307952324340786171), (5812660015586819542588636966901, 6179775384992307952324340786171))\n"
          ],
          "name": "stdout"
        }
      ]
    },
    {
      "cell_type": "code",
      "metadata": {
        "id": "cQkR-5rwLX_v",
        "colab_type": "code",
        "outputId": "4c008fd8-c957-4b1f-be7e-1b715f931356",
        "colab": {
          "base_uri": "https://localhost:8080/",
          "height": 67
        }
      },
      "source": [
        "message = 12345678901234567890\n",
        "c = ME(message,keys[0][0], keys[0][1])\n",
        "decrypted = ME(c,keys[1][0], keys[1][1])\n",
        "print (\"MESSAGE: \", message)\n",
        "print (\"ENCRYPTED: \", c)\n",
        "print (\"DECRYPTED: \", decrypted)"
      ],
      "execution_count": 20,
      "outputs": [
        {
          "output_type": "stream",
          "text": [
            "MESSAGE:  12345678901234567890\n",
            "ENCRYPTED:  3155770841016877806857025864561\n",
            "DECRYPTED:  12345678901234567890\n"
          ],
          "name": "stdout"
        }
      ]
    }
  ]
}