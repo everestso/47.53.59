{
  "nbformat": 4,
  "nbformat_minor": 0,
  "metadata": {
    "colab": {
      "name": " CalendarCalculations.ipynb",
      "provenance": [],
      "collapsed_sections": [],
      "include_colab_link": true
    },
    "kernelspec": {
      "name": "python3",
      "display_name": "Python 3"
    },
    "language_info": {
      "name": "python"
    }
  },
  "cells": [
    {
      "cell_type": "markdown",
      "metadata": {
        "id": "view-in-github",
        "colab_type": "text"
      },
      "source": [
        "<a href=\"https://colab.research.google.com/github/everestso/47.53.59/blob/master/CalendarCalculations.ipynb\" target=\"_parent\"><img src=\"https://colab.research.google.com/assets/colab-badge.svg\" alt=\"Open In Colab\"/></a>"
      ]
    },
    {
      "cell_type": "markdown",
      "metadata": {
        "id": "WI7mzxPekEfI"
      },
      "source": [
        "## Calendar Calculations"
      ]
    },
    {
      "cell_type": "code",
      "metadata": {
        "colab": {
          "base_uri": "https://localhost:8080/"
        },
        "id": "nGfry3LZfH_5",
        "outputId": "056ee47e-2722-4173-95e1-0c6498823c4d"
      },
      "source": [
        "def DaysFromDate(dateVector):\n",
        "  k_in   = dateVector[4]\n",
        "  uinal  = dateVector[3]\n",
        "  tun    = dateVector[2]\n",
        "  katun  = dateVector[1]\n",
        "  baktun = dateVector[0]\n",
        "  days = k_in + uinal*20 + tun*360 + katun*7200 + baktun * 144000\n",
        "  return days\n",
        "\n",
        "def LeapYear(year):\n",
        "  if year%4==0 and year%100!=0:\n",
        "    return True\n",
        "  elif year%400==0:\n",
        "    return True\n",
        "  else:\n",
        "    return False\n",
        "\n",
        "def DaysInYear(y):\n",
        "  if LeapYear(y):\n",
        "    return 366\n",
        "  else:\n",
        "    return 365\n",
        "\n",
        "def DaysInMonth(month, year):\n",
        "  days31 = {1,3,5,7,8,10,12}\n",
        "  days28 = {2}\n",
        "  if month in days31:\n",
        "    daysRet = 31\n",
        "  elif month in days28 and LeapYear(year):\n",
        "    daysRet = 29\n",
        "  elif month in days28 and not LeapYear(year):\n",
        "    daysRet = 28\n",
        "  else:\n",
        "    daysRet = 30\n",
        "  return daysRet\n",
        "\n",
        "def DaysInYearSoFar(date):\n",
        "  daysSoFar = [DaysInMonth(m, date[2]) for m in range(1,date[0])]\n",
        "  print (daysSoFar) \n",
        "  return sum(daysSoFar) + date[1]\n",
        "\n",
        "def DaysInYearRemaining(date):\n",
        "  daysRemaining = [DaysInMonth(m, date[2]) for m in range(date[0]+1,13)]\n",
        "  print (daysRemaining) \n",
        "  return sum(daysRemaining) + DaysInMonth(date[0], date[2]) - date[1]  \n",
        "  \n",
        "year=1964\n",
        "daysList = [DaysInMonth(m,year) for m in range(1,13,1) ]\n",
        "print (\"Days List: \", daysList, sum(daysList), DaysInYear(year))\n",
        "d= (12,17,9,2,5)\n",
        "print (DaysFromDate(d))\n",
        "print (DaysInYear(1900))\n",
        "print (DaysInYear(2000))\n",
        "print (DaysInYear(2020))\n",
        "print (DaysInYear(2001))\n",
        "\n",
        "x = sum([DaysInYear(i) for i in range(1962, 1965)])\n",
        "print (x)\n",
        "print (list(range(1963, 1972)))\n",
        "\n",
        "print(DaysFromDate(d) + sum([DaysInYear(i) for i in range(1962, 1965)]) )\n",
        "print ([(i, DaysInYear(i)) for i in range(1962, 1965, 1)])\n"
      ],
      "execution_count": 13,
      "outputs": [
        {
          "output_type": "stream",
          "text": [
            "Days List:  [31, 29, 31, 30, 31, 30, 31, 31, 30, 31, 30, 31] 366 366\n",
            "1853685\n",
            "365\n",
            "366\n",
            "366\n",
            "365\n",
            "1096\n",
            "[1963, 1964, 1965, 1966, 1967, 1968, 1969, 1970, 1971]\n",
            "1854781\n",
            "[(1962, 365), (1963, 365), (1964, 366)]\n"
          ],
          "name": "stdout"
        }
      ]
    },
    {
      "cell_type": "code",
      "metadata": {
        "id": "ZvrEGOKmXIdL",
        "colab": {
          "base_uri": "https://localhost:8080/"
        },
        "outputId": "d3853242-bde8-449b-c071-e26266bb9d7f"
      },
      "source": [
        "#Northern Hemisphere\n",
        "SummerSolstice2021 = (6, 20, 2021)\n",
        "SummerSolstice2020 = (6, 20, 2020)\n",
        "SummerSolstice2019 = (6, 21, 2019)\n",
        "\n",
        "WinterSolstice2020 = (12, 21, 2020)\n",
        "WinterSolstice2021 = (12, 21, 2021)\n",
        "\n",
        "print( DaysInYearSoFar(SummerSolstice2019))\n",
        "print( DaysInYearSoFar(SummerSolstice2020))\n",
        "print( DaysInYearSoFar(WinterSolstice2020))\n",
        "print( DaysInYearSoFar( (12, 31, 2020 ) ))\n",
        "\n"
      ],
      "execution_count": 7,
      "outputs": [
        {
          "output_type": "stream",
          "text": [
            "[31, 28, 31, 30, 31]\n",
            "172\n",
            "[31, 29, 31, 30, 31]\n",
            "172\n",
            "[31, 29, 31, 30, 31, 30, 31, 31, 30, 31, 30]\n",
            "356\n",
            "[31, 29, 31, 30, 31, 30, 31, 31, 30, 31, 30]\n",
            "366\n"
          ],
          "name": "stdout"
        }
      ]
    },
    {
      "cell_type": "code",
      "metadata": {
        "id": "nhOkyFC22Fyi",
        "outputId": "91d8e5ab-5a0e-4acf-ebda-99300abf6b4d",
        "colab": {
          "base_uri": "https://localhost:8080/"
        }
      },
      "source": [
        "# Days between Winter and Summer Solstice\n",
        "print (DaysInYearSoFar(WinterSolstice2020) - DaysInYearSoFar(SummerSolstice2020) )\n",
        "print (DaysInYearSoFar(WinterSolstice2021) - DaysInYearSoFar(SummerSolstice2021) )"
      ],
      "execution_count": 8,
      "outputs": [
        {
          "output_type": "stream",
          "text": [
            "[31, 29, 31, 30, 31, 30, 31, 31, 30, 31, 30]\n",
            "[31, 29, 31, 30, 31]\n",
            "184\n",
            "[31, 28, 31, 30, 31, 30, 31, 31, 30, 31, 30]\n",
            "[31, 28, 31, 30, 31]\n",
            "184\n"
          ],
          "name": "stdout"
        }
      ]
    },
    {
      "cell_type": "code",
      "metadata": {
        "id": "lozvcSUJ3rxk",
        "outputId": "6e2f0da0-9fde-486c-dbc7-09127214cb51",
        "colab": {
          "base_uri": "https://localhost:8080/"
        }
      },
      "source": [
        "print (DaysInYearRemaining((11,29,2020)))\n",
        "print (DaysInYearRemaining((3,24,2021)))\n",
        "print (DaysInYearSoFar((3,24,2021)))"
      ],
      "execution_count": 21,
      "outputs": [
        {
          "output_type": "stream",
          "text": [
            "[31]\n",
            "32\n",
            "[30, 31, 30, 31, 31, 30, 31, 30, 31]\n",
            "282\n",
            "[31, 28]\n",
            "83\n"
          ],
          "name": "stdout"
        }
      ]
    }
  ]
}