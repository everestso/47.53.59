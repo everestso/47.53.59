{
  "nbformat": 4,
  "nbformat_minor": 0,
  "metadata": {
    "colab": {
      "name": "Latex.ipynb",
      "version": "0.3.2",
      "provenance": [],
      "collapsed_sections": [],
      "include_colab_link": true
    },
    "kernelspec": {
      "name": "python3",
      "display_name": "Python 3"
    }
  },
  "cells": [
    {
      "cell_type": "markdown",
      "metadata": {
        "id": "view-in-github",
        "colab_type": "text"
      },
      "source": [
        "<a href=\"https://colab.research.google.com/github/everestso/47.53.59..15.16.17/blob/master/Latex.ipynb\" target=\"_parent\"><img src=\"https://colab.research.google.com/assets/colab-badge.svg\" alt=\"Open In Colab\"/></a>"
      ]
    },
    {
      "cell_type": "markdown",
      "metadata": {
        "id": "eVZok8zLZQOm",
        "colab_type": "text"
      },
      "source": [
        "## LaTex Example"
      ]
    },
    {
      "cell_type": "markdown",
      "metadata": {
        "id": "bjvEXHbuX4xi",
        "colab_type": "text"
      },
      "source": [
        "$$\\hat{f}(\\xi)= \\int_{-\\infty}^{\\infty}f(x) \\, \\exp \\left(-2i\\pi x \\xi \\right)dx          $$"
      ]
    },
    {
      "cell_type": "code",
      "metadata": {
        "id": "2wrCUpCNXqdd",
        "colab_type": "code",
        "colab": {}
      },
      "source": [
        ""
      ],
      "execution_count": 0,
      "outputs": []
    }
  ]
}