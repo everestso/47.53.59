{
  "nbformat": 4,
  "nbformat_minor": 0,
  "metadata": {
    "colab": {
      "name": "gcp.1.ipynb",
      "provenance": [],
      "include_colab_link": true
    },
    "kernelspec": {
      "name": "python3",
      "display_name": "Python 3"
    }
  },
  "cells": [
    {
      "cell_type": "markdown",
      "metadata": {
        "id": "view-in-github",
        "colab_type": "text"
      },
      "source": [
        "<a href=\"https://colab.research.google.com/github/everestso/47.53.59/blob/master/gcp_1.ipynb\" target=\"_parent\"><img src=\"https://colab.research.google.com/assets/colab-badge.svg\" alt=\"Open In Colab\"/></a>"
      ]
    },
    {
      "cell_type": "code",
      "metadata": {
        "id": "tz9gaUpwGrXl",
        "colab_type": "code",
        "outputId": "df7446ed-d705-4bb2-a1fe-3372dd3902f7",
        "colab": {
          "base_uri": "https://localhost:8080/",
          "height": 136
        }
      },
      "source": [
        "from google.colab import drive\n",
        "drive.mount('/content/gdrive')\n",
        "\n",
        "#ensure the file is accessible\n",
        "!ls /content/gdrive/'My Drive'/'csuf'/'projects'/'GCP'\n",
        "\n",
        "import os\n",
        "os.environ[\"GOOGLE_APPLICATION_CREDENTIALS\"]=\"/content/gdrive/My Drive/csuf/projects/GCP/c264s20-557a598add94.json\"\n",
        "\n",
        "#ensure the path is set correctly\n",
        "!echo $GOOGLE_APPLICATION_CREDENTIALS"
      ],
      "execution_count": 0,
      "outputs": [
        {
          "output_type": "stream",
          "text": [
            "Drive already mounted at /content/gdrive; to attempt to forcibly remount, call drive.mount(\"/content/gdrive\", force_remount=True).\n",
            "c264s20-557a598add94.json  GCP.BigData.ML.Wk1Links.gdoc\n",
            "GCP.BigData.ML.gdoc\t   GCP.CoreInfrastructure.gdoc\n",
            "GCP.BigData.ML.Lab2.gdoc   GCP.ML.Special.gdoc\n",
            "GCP.BigData.ML.Lab3.gdoc   GCP.Notes.gdoc\n",
            "GCP.BigData.ML.Lab4.gdoc   public_datasets_one_pager.pdf\n",
            "/content/gdrive/My Drive/csuf/projects/GCP/c264s20-557a598add94.json\n"
          ],
          "name": "stdout"
        }
      ]
    },
    {
      "cell_type": "code",
      "metadata": {
        "id": "g3aljc8-JOc9",
        "colab_type": "code",
        "colab": {}
      },
      "source": [
        "from google.cloud import bigquery\n",
        "client = bigquery.Client()"
      ],
      "execution_count": 0,
      "outputs": []
    },
    {
      "cell_type": "code",
      "metadata": {
        "id": "E3P7Bnp0bujx",
        "colab_type": "code",
        "colab": {}
      },
      "source": [
        "from tabulate import tabulate\n",
        "pdtabulate=lambda df:tabulate(df,headers='keys')\n",
        "dfprint = lambda df:print(pdtabulate(df))"
      ],
      "execution_count": 0,
      "outputs": []
    },
    {
      "cell_type": "code",
      "metadata": {
        "id": "LvpEwXsUaEEz",
        "colab_type": "code",
        "colab": {}
      },
      "source": [
        "sql = \"\"\"\n",
        "SELECT \n",
        "  item_description\n",
        "  ,ROUND(SUM(volume_sold_gallons),2) AS gallons_sold\n",
        "FROM `bigquery-public-data.iowa_liquor_sales.sales` \n",
        "WHERE item_description like \"%El Dorado%\"\n",
        "GROUP BY 1\n",
        "ORDER BY 2 DESC\n",
        "\"\"\"\n",
        "df = client.query(sql).to_dataframe()"
      ],
      "execution_count": 0,
      "outputs": []
    },
    {
      "cell_type": "code",
      "metadata": {
        "id": "jevBMkPtbdZk",
        "colab_type": "code",
        "outputId": "3b3fa2f9-e224-44b9-f329-0bcb3d519c6a",
        "colab": {
          "base_uri": "https://localhost:8080/",
          "height": 136
        }
      },
      "source": [
        "dfprint(df)"
      ],
      "execution_count": 0,
      "outputs": [
        {
          "output_type": "stream",
          "text": [
            "    item_description                             gallons_sold\n",
            "--  -----------------------------------------  --------------\n",
            " 0  El Dorado Special Reserve 12YR                      23.74\n",
            " 1  El Dorado 15 Year Old Special Reserve Rum           17.78\n",
            " 2  El Dorado Special Reserve Rum                       13.09\n",
            " 3  El Dorado 8YR                                        9.49\n",
            " 4  El Dorado 21YR Special Reserve Rum                   3.55\n"
          ],
          "name": "stdout"
        }
      ]
    },
    {
      "cell_type": "code",
      "metadata": {
        "id": "gbzcVYYNFAmB",
        "colab_type": "code",
        "colab": {}
      },
      "source": [
        "sql = \"\"\"\n",
        "SELECT \n",
        "  store_number\n",
        "  , city\n",
        "  , extract(year from date) as year\n",
        "  , sum( volume_sold_gallons )\n",
        "FROM `bigquery-public-data.iowa_liquor_sales.sales` \n",
        "where item_description like \"%El Dorado%\" \n",
        "group by 1, 2, 3\n",
        "order by 4\n",
        "\"\"\"\n",
        "df = client.query(sql).to_dataframe()"
      ],
      "execution_count": 0,
      "outputs": []
    },
    {
      "cell_type": "code",
      "metadata": {
        "id": "Sh__0hhGJ96U",
        "colab_type": "code",
        "outputId": "51a19afe-e369-4426-d43a-80bad3edde75",
        "colab": {
          "base_uri": "https://localhost:8080/",
          "height": 357
        }
      },
      "source": [
        "dfprint(df)"
      ],
      "execution_count": 0,
      "outputs": [
        {
          "output_type": "stream",
          "text": [
            "      store_number  city            year    f0_\n",
            "--  --------------  ------------  ------  -----\n",
            " 0            3820  Sioux City      2019   1.18\n",
            " 1            5251  Mason City      2019   1.18\n",
            " 2            2285  IOWA CITY       2013   1.19\n",
            " 3            3896  Iowa City       2016   1.19\n",
            " 4            4129  AMES            2016   1.19\n",
            " 5            3896  Iowa City       2018   1.19\n",
            " 6            4129  AMES            2012   2.38\n",
            " 7            3773  Cedar Rapids    2017   2.38\n",
            " 8            5463  Decorah         2018   3.55\n",
            " 9            5463  Decorah         2019   3.55\n",
            "10            4129  AMES            2013   3.57\n",
            "11            4129  Ames            2016   3.57\n",
            "12            4129  Ames            2018   4.76\n",
            "13            4129  Ames            2017   4.76\n",
            "14            4129  Ames            2019   7.11\n",
            "15            2190  Des Moines      2018   7.12\n",
            "16            2190  Des Moines      2017   7.14\n",
            "17            2190  Des Moines      2019  10.64\n"
          ],
          "name": "stdout"
        }
      ]
    },
    {
      "cell_type": "code",
      "metadata": {
        "id": "S4LKY8oeKBNQ",
        "colab_type": "code",
        "colab": {}
      },
      "source": [
        "sql = \"\"\"\n",
        "SELECT distinct\n",
        "  store_number\n",
        "  , store_name\n",
        "  , address\n",
        "  , city\n",
        "FROM `bigquery-public-data.iowa_liquor_sales.sales` \n",
        "#where extract(year from date) = 2019 and extract(month from date)=11\n",
        "where store_number in unnest([\n",
        "\"5251\", \"3820\",\n",
        "\"2285\", \"3896\",\n",
        "\"3773\", \"5463\",\n",
        "\"4129\", \"2190\"\n",
        "])\n",
        "\"\"\"\n",
        "df = client.query(sql).to_dataframe()"
      ],
      "execution_count": 0,
      "outputs": []
    },
    {
      "cell_type": "code",
      "metadata": {
        "id": "uwD7KD-XKYCV",
        "colab_type": "code",
        "outputId": "42557363-f03f-4b60-91a2-d89d76af1940",
        "colab": {
          "base_uri": "https://localhost:8080/",
          "height": 357
        }
      },
      "source": [
        "dfprint(df.sort_values(by=['store_number','address']))"
      ],
      "execution_count": 0,
      "outputs": [
        {
          "output_type": "stream",
          "text": [
            "      store_number  store_name                                   address               city\n",
            "--  --------------  -------------------------------------------  --------------------  ------------\n",
            " 2            2190  Central City Liquor, Inc.                    1460 2ND AVE          Des Moines\n",
            " 3            2190  Central City Liquor, Inc.                    1460 2ND AVE          DES MOINES\n",
            "15            2190  Central City Liquor, Inc.                    1460 2nd Ave          Des Moines\n",
            " 1            2285  John's Grocery                               401 EAST MARKET ST    IOWA CITY\n",
            " 5            2285  John's Grocery                               401 East Market St    Iowa City\n",
            " 0            3773  Benz Distributing                            501 7TH AVE SE        CEDAR RAPIDS\n",
            " 9            3773  Benz Distributing                            501 7th Ave SE        Cedar Rapids\n",
            " 4            3820  Charlie's Wine and Spirits,                  507 W 19th St         SIOUX CITY\n",
            "11            3820  Charlie's Wine and Spirits,                  507 W 19th St         Sioux City\n",
            " 6            3896  Smokin' Joe's #18 Tobacco and Liquor         1901 BROADWAY ST      IOWA CITY\n",
            "14            3896  Smokin' Joe's #18 Tobacco and Liquor         1901 Broadway St      Iowa City\n",
            "16            3896  Smokin' Joe's #18 Tobacco and Liquor Outlet  1901 Broadway St      Iowa City\n",
            " 7            4129  Cyclone Liquors                              626 LINCOLN WAY       AMES\n",
            "10            4129  Cyclone Liquors                              626 Lincoln Way       Ames\n",
            "13            5251  Northside Liquor                             1303 North Federal    Mason City\n",
            " 8            5251  Northside Liquor                             1303, North Federal   Mason City\n",
            "17            5251  Northside Liquor\n",
            "12            5463  Backwater Spirits and More                   116 W Water St Ste D  Decorah\n"
          ],
          "name": "stdout"
        }
      ]
    }
  ]
}