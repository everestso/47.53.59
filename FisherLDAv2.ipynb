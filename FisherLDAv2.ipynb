{
  "nbformat": 4,
  "nbformat_minor": 0,
  "metadata": {
    "colab": {
      "name": "FisherLDAv2.ipynb",
      "provenance": [],
      "collapsed_sections": [],
      "authorship_tag": "ABX9TyNdmwAhr4a/apbmUqK4mk13",
      "include_colab_link": true
    },
    "kernelspec": {
      "name": "python3",
      "display_name": "Python 3"
    },
    "language_info": {
      "name": "python"
    }
  },
  "cells": [
    {
      "cell_type": "markdown",
      "metadata": {
        "id": "view-in-github",
        "colab_type": "text"
      },
      "source": [
        "<a href=\"https://colab.research.google.com/github/everestso/47.53.59/blob/master/FisherLDAv2.ipynb\" target=\"_parent\"><img src=\"https://colab.research.google.com/assets/colab-badge.svg\" alt=\"Open In Colab\"/></a>"
      ]
    },
    {
      "cell_type": "markdown",
      "metadata": {
        "id": "RhCAWsQPFKII"
      },
      "source": [
        "https://sebastianraschka.com/Articles/2014_python_lda.html"
      ]
    },
    {
      "cell_type": "code",
      "metadata": {
        "colab": {
          "base_uri": "https://localhost:8080/",
          "height": 195
        },
        "id": "seixILgoEYQY",
        "outputId": "162db011-e684-4f56-97d8-f20c0fb1e6d1"
      },
      "source": [
        "import pandas as pd\n",
        "import matplotlib.pyplot as plt\n",
        "\n",
        "import pandas as pd\n",
        "\n",
        "df = pd.read_csv('https://archive.ics.uci.edu/ml/machine-learning-databases/iris/iris.data', header=None)\n",
        "df[4] = df[4].map({'Iris-setosa':0, 'Iris-versicolor':1, 'Iris-virginica':2})\n",
        "df.tail()"
      ],
      "execution_count": 1,
      "outputs": [
        {
          "output_type": "execute_result",
          "data": {
            "text/html": [
              "<div>\n",
              "<style scoped>\n",
              "    .dataframe tbody tr th:only-of-type {\n",
              "        vertical-align: middle;\n",
              "    }\n",
              "\n",
              "    .dataframe tbody tr th {\n",
              "        vertical-align: top;\n",
              "    }\n",
              "\n",
              "    .dataframe thead th {\n",
              "        text-align: right;\n",
              "    }\n",
              "</style>\n",
              "<table border=\"1\" class=\"dataframe\">\n",
              "  <thead>\n",
              "    <tr style=\"text-align: right;\">\n",
              "      <th></th>\n",
              "      <th>0</th>\n",
              "      <th>1</th>\n",
              "      <th>2</th>\n",
              "      <th>3</th>\n",
              "      <th>4</th>\n",
              "    </tr>\n",
              "  </thead>\n",
              "  <tbody>\n",
              "    <tr>\n",
              "      <th>145</th>\n",
              "      <td>6.7</td>\n",
              "      <td>3.0</td>\n",
              "      <td>5.2</td>\n",
              "      <td>2.3</td>\n",
              "      <td>2</td>\n",
              "    </tr>\n",
              "    <tr>\n",
              "      <th>146</th>\n",
              "      <td>6.3</td>\n",
              "      <td>2.5</td>\n",
              "      <td>5.0</td>\n",
              "      <td>1.9</td>\n",
              "      <td>2</td>\n",
              "    </tr>\n",
              "    <tr>\n",
              "      <th>147</th>\n",
              "      <td>6.5</td>\n",
              "      <td>3.0</td>\n",
              "      <td>5.2</td>\n",
              "      <td>2.0</td>\n",
              "      <td>2</td>\n",
              "    </tr>\n",
              "    <tr>\n",
              "      <th>148</th>\n",
              "      <td>6.2</td>\n",
              "      <td>3.4</td>\n",
              "      <td>5.4</td>\n",
              "      <td>2.3</td>\n",
              "      <td>2</td>\n",
              "    </tr>\n",
              "    <tr>\n",
              "      <th>149</th>\n",
              "      <td>5.9</td>\n",
              "      <td>3.0</td>\n",
              "      <td>5.1</td>\n",
              "      <td>1.8</td>\n",
              "      <td>2</td>\n",
              "    </tr>\n",
              "  </tbody>\n",
              "</table>\n",
              "</div>"
            ],
            "text/plain": [
              "       0    1    2    3  4\n",
              "145  6.7  3.0  5.2  2.3  2\n",
              "146  6.3  2.5  5.0  1.9  2\n",
              "147  6.5  3.0  5.2  2.0  2\n",
              "148  6.2  3.4  5.4  2.3  2\n",
              "149  5.9  3.0  5.1  1.8  2"
            ]
          },
          "metadata": {
            "tags": []
          },
          "execution_count": 1
        }
      ]
    },
    {
      "cell_type": "code",
      "metadata": {
        "id": "u5GPIdN7EhVA"
      },
      "source": [
        "y, X = df.iloc[:, 4].values, df.iloc[:, 0:4].values\n",
        "X_cent = X - X.mean(axis=0)\n",
        "X_std = X_cent / X.std(axis=0)"
      ],
      "execution_count": 3,
      "outputs": []
    },
    {
      "cell_type": "code",
      "metadata": {
        "id": "0dlGH6bYEsZS"
      },
      "source": [
        "import numpy as np\n",
        "\n",
        "def comp_mean_vectors(X, y):\n",
        "    class_labels = np.unique(y)\n",
        "    n_classes = class_labels.shape[0]\n",
        "    mean_vectors = []\n",
        "    for cl in class_labels:\n",
        "        mean_vectors.append(np.mean(X[y==cl], axis=0))\n",
        "    return mean_vectors\n",
        "\n",
        "def scatter_within(X, y):\n",
        "    class_labels = np.unique(y)\n",
        "    n_classes = class_labels.shape[0]\n",
        "    n_features = X.shape[1]\n",
        "    mean_vectors = comp_mean_vectors(X, y)\n",
        "    S_W = np.zeros((n_features, n_features))\n",
        "    for cl, mv in zip(class_labels, mean_vectors):\n",
        "        class_sc_mat = np.zeros((n_features, n_features))                 \n",
        "        for row in X[y == cl]:\n",
        "            row, mv = row.reshape(n_features, 1), mv.reshape(n_features, 1)\n",
        "            class_sc_mat += (row-mv).dot((row-mv).T)\n",
        "        S_W += class_sc_mat                           \n",
        "    return S_W\n",
        "\n",
        "def scatter_between(X, y):\n",
        "    overall_mean = np.mean(X, axis=0)\n",
        "    n_features = X.shape[1]\n",
        "    mean_vectors = comp_mean_vectors(X, y)    \n",
        "    S_B = np.zeros((n_features, n_features))\n",
        "    for i, mean_vec in enumerate(mean_vectors):  \n",
        "        n = X[y==i+1,:].shape[0]\n",
        "        mean_vec = mean_vec.reshape(n_features, 1)\n",
        "        overall_mean = overall_mean.reshape(n_features, 1)\n",
        "        S_B += n * (mean_vec - overall_mean).dot((mean_vec - overall_mean).T)\n",
        "    return S_B\n",
        "\n",
        "def get_components(eig_vals, eig_vecs, n_comp=2):\n",
        "    n_features = X.shape[1]\n",
        "    eig_pairs = [(np.abs(eig_vals[i]), eig_vecs[:,i]) for i in range(len(eig_vals))]\n",
        "    eig_pairs = sorted(eig_pairs, key=lambda k: k[0], reverse=True)\n",
        "    W = np.hstack([eig_pairs[i][1].reshape(4, 1) for i in range(0, n_comp)])\n",
        "    return W"
      ],
      "execution_count": 4,
      "outputs": []
    },
    {
      "cell_type": "code",
      "metadata": {
        "colab": {
          "base_uri": "https://localhost:8080/"
        },
        "id": "hS8QsHv0EyCg",
        "outputId": "5eca1679-c91d-419b-a464-de21c43ad23c"
      },
      "source": [
        "S_W, S_B = scatter_within(X, y), scatter_between(X, y)\n",
        "eig_vals, eig_vecs = np.linalg.eig(np.linalg.inv(S_W).dot(S_B))\n",
        "W = get_components(eig_vals, eig_vecs, n_comp=2)\n",
        "print('EigVals: %s\\n\\nEigVecs: %s' % (eig_vals, eig_vecs))\n",
        "print('\\nW: %s' % W)"
      ],
      "execution_count": 5,
      "outputs": [
        {
          "output_type": "stream",
          "text": [
            "EigVals: [ 2.09046229e+01  1.42833257e-01 -9.11789306e-17  2.40097494e-15]\n",
            "\n",
            "EigVecs: [[ 0.20673448  0.00176467 -0.83601487 -0.05824868]\n",
            " [ 0.415927   -0.56263241  0.38745965 -0.31727007]\n",
            " [-0.56155039  0.22318422  0.3857664  -0.38822391]\n",
            " [-0.68478226 -0.79600908 -0.04624323  0.86326646]]\n",
            "\n",
            "W: [[ 0.20673448  0.00176467]\n",
            " [ 0.415927   -0.56263241]\n",
            " [-0.56155039  0.22318422]\n",
            " [-0.68478226 -0.79600908]]\n"
          ],
          "name": "stdout"
        }
      ]
    },
    {
      "cell_type": "code",
      "metadata": {
        "colab": {
          "base_uri": "https://localhost:8080/",
          "height": 265
        },
        "id": "keNyyD1CE0mM",
        "outputId": "88fabecb-eede-4311-dd97-1494e5358ddf"
      },
      "source": [
        "X_lda = X.dot(W)\n",
        "for label,marker,color in zip(\n",
        "        np.unique(y),('^', 's', 'o'),('blue', 'red', 'green')):\n",
        "    plt.scatter(X_lda[y==label, 0], X_lda[y==label, 1],\n",
        "                color=color, marker=marker)"
      ],
      "execution_count": 7,
      "outputs": [
        {
          "output_type": "display_data",
          "data": {
            "image/png": "[encoded data removed]",
            "text/plain": [
              "<Figure size 432x288 with 1 Axes>"
            ]
          },
          "metadata": {
            "tags": [],
            "needs_background": "light"
          }
        }
      ]
    },
    {
      "cell_type": "code",
      "metadata": {
        "colab": {
          "base_uri": "https://localhost:8080/"
        },
        "id": "PyMfBop4E7CA",
        "outputId": "891d8969-74d6-48c4-b1e3-8832799add16"
      },
      "source": [
        "S_W, S_B = scatter_within(X_std, y), scatter_between(X_std, y)\n",
        "eig_vals, eig_vecs = np.linalg.eig(np.linalg.inv(S_W).dot(S_B))\n",
        "W_std = get_components(eig_vals, eig_vecs, n_comp=2)\n",
        "print('EigVals: %s\\n\\nEigVecs: %s' % (eig_vals, eig_vecs))\n",
        "print('\\nW: %s' % W_std)"
      ],
      "execution_count": 8,
      "outputs": [
        {
          "output_type": "stream",
          "text": [
            "EigVals: [ 2.09046229e+01  1.42833257e-01 -1.16359049e-15  1.35947122e-17]\n",
            "\n",
            "EigVecs: [[-0.14919128 -0.00191277  0.76949166 -0.46890182]\n",
            " [-0.15716876  0.31933192 -0.15732215 -0.06613976]\n",
            " [ 0.86348805 -0.51546546 -0.6122379  -0.42182129]\n",
            " [ 0.45544301  0.79518477 -0.09108834  0.77319041]]\n",
            "\n",
            "W: [[-0.14919128 -0.00191277]\n",
            " [-0.15716876  0.31933192]\n",
            " [ 0.86348805 -0.51546546]\n",
            " [ 0.45544301  0.79518477]]\n"
          ],
          "name": "stdout"
        }
      ]
    },
    {
      "cell_type": "code",
      "metadata": {
        "colab": {
          "base_uri": "https://localhost:8080/",
          "height": 265
        },
        "id": "hVWayS0RE-Ms",
        "outputId": "541685c5-1c29-4144-a374-89706b96d4bb"
      },
      "source": [
        "X_std_lda = X_std.dot(W_std)\n",
        "X_std_lda[:, 1] = X_std_lda[:, 1]\n",
        "for label,marker,color in zip(\n",
        "        np.unique(y),('^', 's', 'o'),('blue', 'red', 'green')):\n",
        "    plt.scatter(X_std_lda[y==label, 0], X_std_lda[y==label, 1],\n",
        "                color=color, marker=marker)"
      ],
      "execution_count": 9,
      "outputs": [
        {
          "output_type": "display_data",
          "data": {
            "image/png": "[encoded data removed]",
            "text/plain": [
              "<Figure size 432x288 with 1 Axes>"
            ]
          },
          "metadata": {
            "tags": [],
            "needs_background": "light"
          }
        }
      ]
    }
  ]
}