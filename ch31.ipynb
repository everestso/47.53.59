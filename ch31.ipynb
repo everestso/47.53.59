{
  "nbformat": 4,
  "nbformat_minor": 0,
  "metadata": {
    "colab": {
      "name": "ch31.ipynb",
      "version": "0.3.2",
      "provenance": [],
      "collapsed_sections": [],
      "include_colab_link": true
    },
    "kernelspec": {
      "name": "python3",
      "display_name": "Python 3"
    }
  },
  "cells": [
    {
      "cell_type": "markdown",
      "metadata": {
        "id": "view-in-github",
        "colab_type": "text"
      },
      "source": [
        "<a href=\"https://colab.research.google.com/github/everestso/7.11.13..103/blob/master/ch31.ipynb\" target=\"_parent\"><img src=\"https://colab.research.google.com/assets/colab-badge.svg\" alt=\"Open In Colab\"/></a>"
      ]
    },
    {
      "cell_type": "code",
      "metadata": {
        "id": "uK5A0Tg7QGa3",
        "colab_type": "code",
        "colab": {}
      },
      "source": [
        "### Extend Euclid\n",
        "def EE(a, b):\n",
        "  if b == 0:\n",
        "    return (a, 1, 0)\n",
        "  else:\n",
        "    (dPrime, xPrime, yPrime) = EE(b, a % b)\n",
        "    (d, x, y) = (dPrime, yPrime, xPrime - (a//b*yPrime))\n",
        "    return (d, x, y)\n",
        "  \n",
        "  \n"
      ],
      "execution_count": 0,
      "outputs": []
    },
    {
      "cell_type": "code",
      "metadata": {
        "id": "ZpV3Vml7SHnL",
        "colab_type": "code",
        "outputId": "c81b1a18-cf24-407f-f51f-6db6c8e4ca79",
        "colab": {
          "base_uri": "https://localhost:8080/",
          "height": 68
        }
      },
      "source": [
        "a = 12; b=15\n",
        "print (a, b, EE( a, b))\n",
        "a= 125; b=300\n",
        "o = EE( a, b)\n",
        "print (a, b, o)\n",
        "print (a*o[1]+b*o[2])\n"
      ],
      "execution_count": 2,
      "outputs": [
        {
          "output_type": "stream",
          "text": [
            "12 15 (3, -1, 1)\n",
            "125 300 (25, 5, -2)\n",
            "25\n"
          ],
          "name": "stdout"
        }
      ]
    },
    {
      "cell_type": "code",
      "metadata": {
        "id": "ehdEWfj1S6cC",
        "colab_type": "code",
        "outputId": "a40d52e6-fc1e-4a3a-b050-f7b9c237075f",
        "colab": {
          "base_uri": "https://localhost:8080/",
          "height": 34
        }
      },
      "source": [
        "def MLE(a, b, n):\n",
        "  out = []\n",
        "  (d, xPrime, yPrime) = EE(a, n)\n",
        "  if ( b % d == 0 ):\n",
        "    x0 = (xPrime*b//d) % n\n",
        "    for i in range(d): \n",
        "      out += [(x0 + i*(n//d)) % n ]\n",
        "  return out\n",
        "    \n",
        "print (MLE(14,30,100))\n",
        "\n"
      ],
      "execution_count": 3,
      "outputs": [
        {
          "output_type": "stream",
          "text": [
            "[95, 45]\n"
          ],
          "name": "stdout"
        }
      ]
    },
    {
      "cell_type": "code",
      "metadata": {
        "id": "vcBWXXQJVPr2",
        "colab_type": "code",
        "outputId": "9847b43e-9d18-45cd-b300-b256e04ba27b",
        "colab": {
          "base_uri": "https://localhost:8080/",
          "height": 68
        }
      },
      "source": [
        "p=11;  q=29; e=3\n",
        "\n",
        "n = p * q\n",
        "phiN = (p-1)*(q-1)\n",
        "d = MLE(e, 1, phiN)[0]\n",
        "print (n, phiN, d)\n",
        "\n",
        "message = 318\n",
        "c = message**e%n\n",
        "print (c)\n",
        "decrypted = c**d%n\n",
        "print (decrypted)"
      ],
      "execution_count": 4,
      "outputs": [
        {
          "output_type": "stream",
          "text": [
            "319 280 187\n",
            "318\n",
            "318\n"
          ],
          "name": "stdout"
        }
      ]
    },
    {
      "cell_type": "code",
      "metadata": {
        "id": "ZGweY_VpXbF3",
        "colab_type": "code",
        "outputId": "15bc832b-2d05-4175-ea32-9668e1fc2b44",
        "colab": {
          "base_uri": "https://localhost:8080/",
          "height": 85
        }
      },
      "source": [
        "p=3;  q=5; e=3\n",
        "\n",
        "n = p * q\n",
        "phiN = (p-1)*(q-1)\n",
        "d = MLE(e, 1, phiN)[0]\n",
        "print (n, phiN, d)\n",
        "print (e,d,phiN,e*d % phiN)\n",
        "message = 3\n",
        "c = message**e%n\n",
        "print (c)\n",
        "decrypted = c**d%n\n",
        "print (decrypted)"
      ],
      "execution_count": 5,
      "outputs": [
        {
          "output_type": "stream",
          "text": [
            "15 8 3\n",
            "3 3 8 1\n",
            "12\n",
            "3\n"
          ],
          "name": "stdout"
        }
      ]
    },
    {
      "cell_type": "code",
      "metadata": {
        "id": "o5huzto5aAwI",
        "colab_type": "code",
        "outputId": "f86cd2a8-58f9-4e2f-846f-fc61d19d542d",
        "colab": {
          "base_uri": "https://localhost:8080/",
          "height": 51
        }
      },
      "source": [
        "p=13;  q=17; e=5\n",
        "\n",
        "n = p * q\n",
        "phiN = (p-1)*(q-1)\n",
        "d = MLE(e, 1, phiN)[0]\n",
        "print (n, phiN, d)\n",
        "print (e,d,phiN,e*d % phiN)\n",
        "\n",
        "PUBLIC = (e,n)\n",
        "PRIVATE = (d,n)"
      ],
      "execution_count": 6,
      "outputs": [
        {
          "output_type": "stream",
          "text": [
            "221 192 77\n",
            "5 77 192 1\n"
          ],
          "name": "stdout"
        }
      ]
    },
    {
      "cell_type": "code",
      "metadata": {
        "id": "LVHldOj6bJkA",
        "colab_type": "code",
        "outputId": "27ddc1d3-c9bc-4005-8ebd-638d2be53944",
        "colab": {
          "base_uri": "https://localhost:8080/",
          "height": 68
        }
      },
      "source": [
        "message = ord('D')\n",
        "c = message**e%n\n",
        "decrypted = c**d%n\n",
        "print (\"MESSAGE: \", message)\n",
        "print (\"ENCRYPTED: \", c)\n",
        "print (\"DECRYPTED: \", decrypted)"
      ],
      "execution_count": 7,
      "outputs": [
        {
          "output_type": "stream",
          "text": [
            "MESSAGE:  68\n",
            "ENCRYPTED:  204\n",
            "DECRYPTED:  68\n"
          ],
          "name": "stdout"
        }
      ]
    },
    {
      "cell_type": "code",
      "metadata": {
        "id": "5HGjK2Uni8Lb",
        "colab_type": "code",
        "outputId": "accfa661-d48b-48fc-c8a1-8ccc241a90a8",
        "colab": {
          "base_uri": "https://localhost:8080/",
          "height": 51
        }
      },
      "source": [
        "def ME(a, b, n):\n",
        "  c = 0\n",
        "  d = 1\n",
        "  bVector = bin(b)[2:]\n",
        "  for i in range(len(bVector)):\n",
        "    c *= 2\n",
        "    d = (d*d) % n\n",
        "    if (bVector[i]=='1'):\n",
        "      c += 1\n",
        "      d = (d * a) % n\n",
        "  return d\n",
        "\n",
        "def ME2(a, b, n):\n",
        "  c = 0\n",
        "  d = 1\n",
        "  bVector = bin(b)[:1:-1]\n",
        "  k = len(bVector)-1\n",
        "  print (bVector, bin(b))\n",
        "  for i in range(k,-1,-1):\n",
        "    c *= 2\n",
        "    d = (d*d) % n\n",
        "    if (bVector[i]=='1'):\n",
        "      c += 1\n",
        "      d = (d * a) % n\n",
        "  return d\n",
        "\n",
        "a=111; b=113; n=97\n",
        "a=2; b=521; n=5217\n",
        "print (a**b%n, ME(a, b, n), ME2(a, b, n))\n"
      ],
      "execution_count": 8,
      "outputs": [
        {
          "output_type": "stream",
          "text": [
            "1001000001 0b1000001001\n",
            "2312 2312 2312\n"
          ],
          "name": "stdout"
        }
      ]
    },
    {
      "cell_type": "code",
      "metadata": {
        "id": "YjH3O6MvgebI",
        "colab_type": "code",
        "outputId": "114e1349-3d1d-42f0-8d5a-745ccd2f61d5",
        "colab": {
          "base_uri": "https://localhost:8080/",
          "height": 51
        }
      },
      "source": [
        "p, q, e = (7, 13, 5)\n",
        "p, q, e = (13, 31, 7)\n",
        "\n",
        "n = p * q\n",
        "phiN = (p-1)*(q-1)\n",
        "d = MLE(e, 1, phiN)[0]\n",
        "print (n, phiN, d)\n",
        "print (e,d,phiN,e*d % phiN)\n",
        "\n",
        "PUBLIC = (e,n)\n",
        "PRIVATE = (d,n)"
      ],
      "execution_count": 9,
      "outputs": [
        {
          "output_type": "stream",
          "text": [
            "403 360 103\n",
            "7 103 360 1\n"
          ],
          "name": "stdout"
        }
      ]
    },
    {
      "cell_type": "code",
      "metadata": {
        "id": "VwjrRIElgXFX",
        "colab_type": "code",
        "outputId": "5bf3ac2c-519f-4584-a835-5a1fceafce1c",
        "colab": {
          "base_uri": "https://localhost:8080/",
          "height": 68
        }
      },
      "source": [
        "message = ord('Q')-ord('A') + 1\n",
        "c = message**e%n\n",
        "decrypted = c**d%n\n",
        "print (\"MESSAGE: \", message)\n",
        "print (\"ENCRYPTED: \", c)\n",
        "print (\"DECRYPTED: \", decrypted)"
      ],
      "execution_count": 10,
      "outputs": [
        {
          "output_type": "stream",
          "text": [
            "MESSAGE:  17\n",
            "ENCRYPTED:  43\n",
            "DECRYPTED:  17\n"
          ],
          "name": "stdout"
        }
      ]
    },
    {
      "cell_type": "code",
      "metadata": {
        "id": "ji_HaW0FISbf",
        "colab_type": "code",
        "colab": {}
      },
      "source": [
        "# GCD\n",
        "\n",
        "GCD = lambda a, b: GCD(b, a%b) if b else a\n",
        "Z = lambda n: sorted({i%n for i in range(10000)})\n",
        "Za = lambda a,n: sorted({i*a%n for i in range(1000)})\n",
        "\n",
        "Zx = lambda n: sorted ({i%n for i in range(10000) if GCD(i,n)==1})\n",
        "Zxa = lambda a,n: sorted ({a**i%n for i in range(10000) if GCD(a**i,n)==1})"
      ],
      "execution_count": 0,
      "outputs": []
    },
    {
      "cell_type": "code",
      "metadata": {
        "id": "4AdUfMlJKHPb",
        "colab_type": "code",
        "outputId": "8c48071a-78fc-4b91-b15c-3f17ec9e021d",
        "colab": {
          "base_uri": "https://localhost:8080/",
          "height": 102
        }
      },
      "source": [
        "print(Z(10))\n",
        "\n",
        "print (Za(5,10))\n",
        "\n",
        "print (len(Zx(1024)))\n",
        "print (Zxa(127,1024))\n",
        "print (Zx(15))"
      ],
      "execution_count": 12,
      "outputs": [
        {
          "output_type": "stream",
          "text": [
            "[0, 1, 2, 3, 4, 5, 6, 7, 8, 9]\n",
            "[0, 5]\n",
            "512\n",
            "[1, 127, 257, 383, 513, 639, 769, 895]\n",
            "[1, 2, 4, 7, 8, 11, 13, 14]\n"
          ],
          "name": "stdout"
        }
      ]
    },
    {
      "cell_type": "code",
      "metadata": {
        "id": "TRTYrgzKBHXe",
        "colab_type": "code",
        "outputId": "cd57c403-6d72-40df-ee59-2f793a8ff14b",
        "colab": {
          "base_uri": "https://localhost:8080/",
          "height": 119
        }
      },
      "source": [
        "#\n",
        "# Chinese Remainder Theorem\n",
        "\n",
        "import numpy as np\n",
        "A = [2, 3, 2]\n",
        "N = [3, 5, 7]\n",
        "\n",
        "M = [np.prod(N)//N[i] for i in range(len(A))]\n",
        "Minverse = [MLE(M[i], 1, N[i])[0] for i in range(len(A))]\n",
        "\n",
        "print (\"M: \", M)\n",
        "print (\"Minverse: \", Minverse)\n",
        "\n",
        "C = [M[i]*(Minverse[i] % N[i]) for i in range(len(A))]\n",
        "print (\"C: \", C)\n",
        "\n",
        "AC = [A[i]*C[i] for i in range(len(A))]\n",
        "\n",
        "answer = sum(AC) % np.prod(N)\n",
        "print (\"AiCi: \", AC)\n",
        "print (\"Sum AiCi mod n: \", answer)\n",
        "\n",
        "output = [answer % N[i] for i in range(len(A))]\n",
        "\n",
        "print (\"Answer mod Ni: \", output)"
      ],
      "execution_count": 13,
      "outputs": [
        {
          "output_type": "stream",
          "text": [
            "M:  [35, 21, 15]\n",
            "Minverse:  [2, 1, 1]\n",
            "C:  [70, 21, 15]\n",
            "AiCi:  [140, 63, 30]\n",
            "Sum AiCi mod n:  23\n",
            "Answer mod Ni:  [2, 3, 2]\n"
          ],
          "name": "stdout"
        }
      ]
    },
    {
      "cell_type": "code",
      "metadata": {
        "id": "DZ24rmmgKLG0",
        "colab_type": "code",
        "outputId": "68bb3aff-5200-44a1-91e2-4564b6628777",
        "colab": {
          "base_uri": "https://localhost:8080/",
          "height": 119
        }
      },
      "source": [
        "A1 = [1, 2, 2, 2, 2, 2, 2, 2]\n",
        "A2 = [1, 1, 1, 3, 3, 3, 3, 3]\n",
        "A2b = [5, 5, 9]\n",
        "A = A2b\n",
        "N1 = [2, 3, 5, 7, 11, 13, 17, 19]\n",
        "N2b = [47, 53, 59]\n",
        "N = N2b\n",
        "\n",
        "M = [np.prod(N)//N[i] for i in range(len(A))]\n",
        "Minverse = [MLE(M[i], 1, N[i])[0] for i in range(len(A))]\n",
        "\n",
        "print (\"M: \", M)\n",
        "print (\"Minverse: \", Minverse)\n",
        "\n",
        "C = [M[i]*(Minverse[i] % N[i]) for i in range(len(A))]\n",
        "print (\"C: \", C)\n",
        "\n",
        "AC = [A[i]*C[i] for i in range(len(A))]\n",
        "\n",
        "answer = sum(AC) % np.prod(N)\n",
        "print (\"AiCi: \", AC)\n",
        "print (\"Sum AiCi mod n: \", answer)\n",
        "\n",
        "output = [answer % N[i] for i in range(len(A))]\n",
        "\n",
        "print (\"Answer mod Ni: \", output)\n",
        "\n"
      ],
      "execution_count": 14,
      "outputs": [
        {
          "output_type": "stream",
          "text": [
            "M:  [3127, 2773, 2491]\n",
            "Minverse:  [32, 25, 50]\n",
            "C:  [100064, 69325, 124550]\n",
            "AiCi:  [500320, 346625, 1120950]\n",
            "Sum AiCi mod n:  57298\n",
            "Answer mod Ni:  [5, 5, 9]\n"
          ],
          "name": "stdout"
        }
      ]
    },
    {
      "cell_type": "code",
      "metadata": {
        "id": "qkRq1_G5ExAg",
        "colab_type": "code",
        "outputId": "29c93dfa-6e8f-4e60-efe2-91006d3df5b8",
        "colab": {
          "base_uri": "https://localhost:8080/",
          "height": 1000
        }
      },
      "source": [
        "def ChineseRemainder(A, N):\n",
        "  M = [np.prod(N)//N[i] for i in range(len(A))]\n",
        "  Minverse = [MLE(M[i], 1, N[i])[0] for i in range(len(A))]\n",
        "\n",
        "  print (\"M: \", M)\n",
        "  print (\"Minverse: \", Minverse)\n",
        "\n",
        "  C = [M[i]*(Minverse[i] % N[i]) for i in range(len(A))]\n",
        "  print (\"C: \", C)\n",
        "\n",
        "  AC = [A[i]*C[i] for i in range(len(A))]\n",
        "\n",
        "  answer = sum(AC) % np.prod(N)\n",
        "  return answer\n",
        "\n",
        "N = [47, 53, 59]\n",
        "As = [ (5, 5, 9), (10, 9, 14), (12, 9, 21), \n",
        "      (2, 1, 14), (13, 9, 14), (19, 20, 23)]\n",
        "\n",
        "Answers = [(a,ChineseRemainder(a, N)) for a in As]\n",
        "print (\"\\nANSWERS\")\n",
        "print (N, Answers,\"\\n\")\n",
        "\n",
        "N = [3, 5, 7]\n",
        "As = [ (2, 3, 2), (3, 2, 3), (3, 1, 1) ]\n",
        "\n",
        "Answers = [(a,ChineseRemainder(a, N)) for a in As]\n",
        "print (\"\\nANSWERS\")\n",
        "print (N, Answers,\"\\n\")\n",
        "\n",
        "N = [61, 67, 71, 73]\n",
        "As = [ (18, 21, 2, 25), (16, 1, 18, 11), (8, 6, 2, 3) ]\n",
        "\n",
        "Answers = [(a,ChineseRemainder(a, N)) for a in As]\n",
        "print (\"\\nANSWERS\")\n",
        "print (N, Answers,\"\\n\")\n",
        "\n",
        "N = [41, 43]\n",
        "As = [ (12, 9) ]\n",
        "\n",
        "Answers = [(a,ChineseRemainder(a, N)) for a in As]\n",
        "print (\"\\nANSWERS\")\n",
        "print (N, Answers,\"\\n\")\n",
        "\n",
        "N = [71, 73, 79, 83, 89, 97]\n",
        "As = [ (23, 9, 12, 19, 15, 14) ]\n",
        "\n",
        "Answers = [(a,ChineseRemainder(a, N)) for a in As]\n",
        "print (\"\\nANSWERS\")\n",
        "print (N, Answers,\"\\n\")\n",
        "\n",
        "N= [29, 31, 37, 41, 43]\n",
        "As = [(25, 1, 19, 9, 14), (14, 9, 3, 11, 19)]\n",
        "Answers = [(a,ChineseRemainder(a, N)) for a in As]\n",
        "print (\"\\nANSWERS\")\n",
        "print (N, Answers,\"\\n\")"
      ],
      "execution_count": 15,
      "outputs": [
        {
          "output_type": "stream",
          "text": [
            "M:  [3127, 2773, 2491]\n",
            "Minverse:  [32, 25, 50]\n",
            "C:  [100064, 69325, 124550]\n",
            "M:  [3127, 2773, 2491]\n",
            "Minverse:  [32, 25, 50]\n",
            "C:  [100064, 69325, 124550]\n",
            "M:  [3127, 2773, 2491]\n",
            "Minverse:  [32, 25, 50]\n",
            "C:  [100064, 69325, 124550]\n",
            "M:  [3127, 2773, 2491]\n",
            "Minverse:  [32, 25, 50]\n",
            "C:  [100064, 69325, 124550]\n",
            "M:  [3127, 2773, 2491]\n",
            "Minverse:  [32, 25, 50]\n",
            "C:  [100064, 69325, 124550]\n",
            "M:  [3127, 2773, 2491]\n",
            "Minverse:  [32, 25, 50]\n",
            "C:  [100064, 69325, 124550]\n",
            "\n",
            "ANSWERS\n",
            "[47, 53, 59] [((5, 5, 9), 57298), ((10, 9, 14), 134947), ((12, 9, 21), 31173), ((2, 1, 14), 102556), ((13, 9, 14), 141201), ((19, 20, 23), 126637)] \n",
            "\n",
            "M:  [35, 21, 15]\n",
            "Minverse:  [2, 1, 1]\n",
            "C:  [70, 21, 15]\n",
            "M:  [35, 21, 15]\n",
            "Minverse:  [2, 1, 1]\n",
            "C:  [70, 21, 15]\n",
            "M:  [35, 21, 15]\n",
            "Minverse:  [2, 1, 1]\n",
            "C:  [70, 21, 15]\n",
            "\n",
            "ANSWERS\n",
            "[3, 5, 7] [((2, 3, 2), 23), ((3, 2, 3), 87), ((3, 1, 1), 36)] \n",
            "\n",
            "M:  [347261, 316163, 298351, 290177]\n",
            "Minverse:  [5, 20, 8, 37]\n",
            "C:  [1736305, 6323260, 2386808, 10736549]\n",
            "M:  [347261, 316163, 298351, 290177]\n",
            "Minverse:  [5, 20, 8, 37]\n",
            "C:  [1736305, 6323260, 2386808, 10736549]\n",
            "M:  [347261, 316163, 298351, 290177]\n",
            "Minverse:  [5, 20, 8, 37]\n",
            "C:  [1736305, 6323260, 2386808, 10736549]\n",
            "\n",
            "ANSWERS\n",
            "[61, 67, 71, 73] [((18, 21, 2, 25), 13570871), ((16, 1, 18, 11), 4522434), ((8, 6, 2, 3), 4081579)] \n",
            "\n",
            "M:  [43, 41]\n",
            "Minverse:  [21, 21]\n",
            "C:  [903, 861]\n",
            "\n",
            "ANSWERS\n",
            "[41, 43] [((12, 9), 955)] \n",
            "\n",
            "M:  [4132280413, 4019067251, 3713821637, 3534842281, 3296538307, 3024658859]\n",
            "Minverse:  [26, 30, 47, 60, 31, 54]\n",
            "C:  [107439290738, 120572017530, 174549616939, 212090536860, 102192687517, 163331578386]\n",
            "\n",
            "ANSWERS\n",
            "[71, 73, 79, 83, 89, 97] [((23, 9, 12, 19, 15, 14), 4072029653)] \n",
            "\n",
            "M:  [2022161, 1891699, 1584937, 1430309, 1363783]\n",
            "Minverse:  [16, 11, 15, 12, 17]\n",
            "C:  [32354576, 20808689, 23774055, 17163708, 23184311]\n",
            "M:  [2022161, 1891699, 1584937, 1430309, 1363783]\n",
            "Minverse:  [16, 11, 15, 12, 17]\n",
            "C:  [32354576, 20808689, 23774055, 17163708, 23184311]\n",
            "\n",
            "ANSWERS\n",
            "[29, 31, 37, 41, 43] [((25, 1, 19, 9, 14), 1153790), ((14, 9, 3, 11, 19), 50728409)] \n",
            "\n"
          ],
          "name": "stdout"
        }
      ]
    },
    {
      "cell_type": "code",
      "metadata": {
        "id": "BNqm1JOLEjUJ",
        "colab_type": "code",
        "outputId": "f6096504-4b8f-4318-8021-6ba7cfcd4cb0",
        "colab": {
          "base_uri": "https://localhost:8080/",
          "height": 51
        }
      },
      "source": [
        "### Witness\n",
        "\n",
        "def Witness(a, n):\n",
        "  t = [i for i in range(int(np.log2(n-1)),-1,-1) if ((n-1)%(2**i))==0][0]\n",
        "  u = (n-1)//(2**t)\n",
        "  ## print (n-1,u,t, u*2**t)\n",
        "  x1 = ME(a, u, n)\n",
        "  ## print (x1)\n",
        "  for i in range(t):\n",
        "    x2 = (x1**2) % n\n",
        "    ## print (x1, x2)\n",
        "    if x2 == 1 and x1 != 1 and x1 != n-1:\n",
        "      return True\n",
        "    x1 = x2\n",
        "    ## print (x1)\n",
        "  if x1 != 1:\n",
        "    return True  \n",
        "  return False\n",
        "\n",
        "n = int(np.random.randint(1000,10000))\n",
        "print (n,list(range(int(np.log2(n-1)),-1,-1) ))\n",
        "\n",
        "print (Witness( 5, n ))"
      ],
      "execution_count": 16,
      "outputs": [
        {
          "output_type": "stream",
          "text": [
            "5599 [12, 11, 10, 9, 8, 7, 6, 5, 4, 3, 2, 1, 0]\n",
            "True\n"
          ],
          "name": "stdout"
        }
      ]
    },
    {
      "cell_type": "code",
      "metadata": {
        "id": "ztLfbttXEoYa",
        "colab_type": "code",
        "outputId": "23b651dd-6865-4ca8-fb7e-dce6a2e7c926",
        "colab": {
          "base_uri": "https://localhost:8080/",
          "height": 187
        }
      },
      "source": [
        "def MillerRabin(n, s):\n",
        "  for j in range(s):\n",
        "    a = np.random.randint(1,n-1)\n",
        "    if (Witness(a,n)==True):\n",
        "      print (n, \"COMPOSITE:\", a)\n",
        "      return False\n",
        "  print (n, \"PRIME\")\n",
        "  return True\n",
        "\n",
        "for i in range(1000):\n",
        "  x = np.random.randint(1000000,10000000)\n",
        "  if x%2==0:\n",
        "    continue\n",
        "  if (MillerRabin(x, 3)==True):\n",
        "    print(x,\"PRIME\")\n",
        "    break"
      ],
      "execution_count": 17,
      "outputs": [
        {
          "output_type": "stream",
          "text": [
            "5701217 COMPOSITE: 1571092\n",
            "2991983 COMPOSITE: 1135622\n",
            "8820313 COMPOSITE: 3627173\n",
            "7726049 COMPOSITE: 7080588\n",
            "2215589 COMPOSITE: 1121499\n",
            "5316171 COMPOSITE: 4404954\n",
            "2985451 COMPOSITE: 2760384\n",
            "8865701 COMPOSITE: 7204978\n",
            "6138647 PRIME\n",
            "6138647 PRIME\n"
          ],
          "name": "stdout"
        }
      ]
    },
    {
      "cell_type": "code",
      "metadata": {
        "id": "jfwenHr5HG1i",
        "colab_type": "code",
        "outputId": "85c21772-2764-4ae2-820f-1e854e385d8b",
        "colab": {
          "base_uri": "https://localhost:8080/",
          "height": 1000
        }
      },
      "source": [
        "def GetKeys(p, q, e):\n",
        "  n = p * q\n",
        "  phiN = (p-1)*(q-1)\n",
        "  d = MLE(e, 1, phiN)[0]\n",
        "  print (n, phiN, d)\n",
        "  print (e,d,phiN,e*d % phiN)\n",
        "\n",
        "  PUBLIC = (e,n)\n",
        "  PRIVATE = (d,n)\n",
        "  return (PUBLIC, PRIVATE)\n",
        "\n",
        "def FindPrime(bits):\n",
        "  for i in range(10000):\n",
        "    x = int( np.random.random() * ((2**(bits-1))-1) + (2**(bits-1)) )\n",
        "    if x%2==0:\n",
        "      continue\n",
        "    if (MillerRabin(x, 3)==True):\n",
        "      print(x,\"PRIME\")\n",
        "      return x\n",
        "  \n",
        "p = FindPrime(50)\n",
        "q = FindPrime(50)\n",
        "print (p,q)\n",
        "print (len(bin(p))-2, len(bin(q))-2)"
      ],
      "execution_count": 18,
      "outputs": [
        {
          "output_type": "stream",
          "text": [
            "729975150343467 COMPOSITE: 660348333366630\n",
            "1111006999883747 COMPOSITE: 565620700135043\n",
            "1018394957867803 COMPOSITE: 538633220641106\n",
            "817535300568955 COMPOSITE: 702483701764518\n",
            "815148962988687 COMPOSITE: 147971006446445\n",
            "700842879172625 COMPOSITE: 671872388958636\n",
            "837328015214839 COMPOSITE: 644588371265459\n",
            "885304920241891 COMPOSITE: 370170548556167\n",
            "996554126697301 COMPOSITE: 490190919742122\n",
            "1014212822549329 COMPOSITE: 579758552117216\n",
            "1056171699039315 COMPOSITE: 261995912039701\n",
            "606905897313913 COMPOSITE: 579789414358977\n",
            "1067748032965339 COMPOSITE: 887514461947180\n",
            "782091853353253 COMPOSITE: 271975429613539\n",
            "1017567138751547 COMPOSITE: 9421271597038\n",
            "619644163154441 COMPOSITE: 7929033497954\n",
            "609212797389515 COMPOSITE: 493312466383569\n",
            "1095495052109757 COMPOSITE: 30959790631987\n",
            "871992069265857 COMPOSITE: 74623607564542\n",
            "769341574207353 COMPOSITE: 561014210113755\n",
            "715427099763507 COMPOSITE: 27015993166198\n",
            "567598844429005 COMPOSITE: 448228506692762\n",
            "1037384967600953 COMPOSITE: 123131685891560\n",
            "646131376463661 COMPOSITE: 556820007248477\n",
            "911277863719947 COMPOSITE: 58884552408198\n",
            "777984730995549 COMPOSITE: 137472051842053\n",
            "1029977635123031 COMPOSITE: 263670132119283\n",
            "686326118638889 COMPOSITE: 537152785247253\n",
            "947129644068423 COMPOSITE: 408648225947911\n",
            "672202893921381 COMPOSITE: 341879812939260\n",
            "870253881377809 COMPOSITE: 63058611007119\n",
            "696842212339147 COMPOSITE: 141834557777363\n",
            "874142054969615 COMPOSITE: 176893698665689\n",
            "981704978704515 COMPOSITE: 187658779380097\n",
            "1072421505569661 COMPOSITE: 348616883346523\n",
            "624014891122227 COMPOSITE: 482523329474170\n",
            "566457471007803 COMPOSITE: 422020195198814\n",
            "893191398888271 COMPOSITE: 688730212971575\n",
            "579733025949257 COMPOSITE: 416426301858731\n",
            "723456522727311 COMPOSITE: 714163478268523\n",
            "1025674970306547 COMPOSITE: 699016793485738\n",
            "995071764599763 COMPOSITE: 12413965033892\n",
            "702675024721655 COMPOSITE: 89801489786768\n",
            "895829526349465 COMPOSITE: 713602602508196\n",
            "1055629472709513 COMPOSITE: 390926848857529\n",
            "1104276524082051 COMPOSITE: 763860358400342\n",
            "631784211595875 COMPOSITE: 274716950321350\n",
            "858275030305549 COMPOSITE: 595061994129633\n",
            "678016934981437 COMPOSITE: 386720234462299\n",
            "705538177221531 COMPOSITE: 351359631051809\n",
            "874110894197341 COMPOSITE: 242946061648786\n",
            "983658771162009 COMPOSITE: 318216262420576\n",
            "985001396202841 PRIME\n",
            "985001396202841 PRIME\n",
            "884051267707549 COMPOSITE: 173098768809836\n",
            "786943606606225 COMPOSITE: 92853676497068\n",
            "850430292538205 COMPOSITE: 574824203460199\n",
            "903851744830153 COMPOSITE: 121776754574906\n",
            "840749075961765 COMPOSITE: 364973308543732\n",
            "948888220830161 COMPOSITE: 104498101149542\n",
            "775605941739317 COMPOSITE: 60476209805952\n",
            "583603629120111 COMPOSITE: 85797422766330\n",
            "1103637764806511 COMPOSITE: 40348173787251\n",
            "1039116996929623 COMPOSITE: 184876867433840\n",
            "706806484686161 COMPOSITE: 194582564736337\n",
            "1021625409849029 PRIME\n",
            "1021625409849029 PRIME\n",
            "985001396202841 1021625409849029\n",
            "50 50\n"
          ],
          "name": "stdout"
        }
      ]
    },
    {
      "cell_type": "code",
      "metadata": {
        "id": "GhSeTj5DLA-w",
        "colab_type": "code",
        "outputId": "d4002956-58a2-470e-e6e5-257c831ded7e",
        "colab": {
          "base_uri": "https://localhost:8080/",
          "height": 88
        }
      },
      "source": [
        "p1 = 2038144922166511\n",
        "q1 = 3032058867739061\n",
        "phiN = (p-1)*(q-1)\n",
        "eS = [i for i in range(3, 100) if GCD(i,phiN)==1]\n",
        "e1 = 101\n",
        "e = eS[0]\n",
        "keys = GetKeys(p, q, e)\n",
        "print (keys)"
      ],
      "execution_count": 19,
      "outputs": [
        {
          "output_type": "stream",
          "text": [
            "1006302455097593234003670891389 1006302455097591227376864839520 287514987170740350679104239863\n",
            "7 287514987170740350679104239863 1006302455097591227376864839520 1\n",
            "((7, 1006302455097593234003670891389), (287514987170740350679104239863, 1006302455097593234003670891389))\n"
          ],
          "name": "stdout"
        }
      ]
    },
    {
      "cell_type": "code",
      "metadata": {
        "id": "cQkR-5rwLX_v",
        "colab_type": "code",
        "outputId": "672559ea-2320-4190-fb17-b8787c16370e",
        "colab": {
          "base_uri": "https://localhost:8080/",
          "height": 68
        }
      },
      "source": [
        "message = 12345678901234567890\n",
        "c = ME(message,keys[0][0], keys[0][1])\n",
        "decrypted = ME(c,keys[1][0], keys[1][1])\n",
        "print (\"MESSAGE: \", message)\n",
        "print (\"ENCRYPTED: \", c)\n",
        "print (\"DECRYPTED: \", decrypted)"
      ],
      "execution_count": 20,
      "outputs": [
        {
          "output_type": "stream",
          "text": [
            "MESSAGE:  12345678901234567890\n",
            "ENCRYPTED:  766393775611019958096800767884\n",
            "DECRYPTED:  12345678901234567890\n"
          ],
          "name": "stdout"
        }
      ]
    },
    {
      "cell_type": "code",
      "metadata": {
        "id": "_IWFZqmiBX55",
        "colab_type": "code",
        "outputId": "268b2fbd-dc59-43f9-93bf-45b52715a1b7",
        "colab": {
          "base_uri": "https://localhost:8080/",
          "height": 190
        }
      },
      "source": [
        "# Block Encryption Example\n",
        "blockSize = 64\n",
        "strSize = 8\n",
        "x=\"David Ruby\"\n",
        "#x=\"ABCDEFGHIJKLMNOPQRSTUVWXYZ\"\n",
        "\n",
        "x = x+\" \"*(strSize-len(x)%strSize)  #Pad string to match Block Size\n",
        "\n",
        "y=[ \"{0:{fill}8b}\".format(ord(c), fill='0') for c in x]\n",
        "m = \"\".join(y)\n",
        "\n",
        "#mPad =m + \"0\"*(blockSize-len(m)%blockSize)\n",
        "mPad = m\n",
        "\n",
        "#mPad is full message in binary\n",
        "\n",
        "mPadList = [mPad[i:i+blockSize] for i in range(0,len(mPad),blockSize)]\n",
        "print (m, '\\n', len(m))\n",
        "print (mPad, '\\n', len(mPad))\n",
        "MessageList = [int(a,2) for a in mPadList ]\n",
        "print (MessageList)\n",
        "\n",
        "#MessageList is now a list of integers derived from blocks\n",
        "\n",
        "EncryptedList = [ME(message,keys[0][0], keys[0][1]) for message in MessageList]\n",
        "print (EncryptedList)\n",
        "\n",
        "DecryptedList = [ME(c,keys[1][0], keys[1][1]) for c in EncryptedList]\n",
        "print (DecryptedList)\n",
        "\n",
        "f = \"{0:{fill}\"+str(blockSize)+\"b}\"\n",
        "y=[ f.format(c, fill='0') for c in DecryptedList]\n",
        "m = \"\".join(y)\n",
        "print (m)\n",
        "\n",
        "# Convert each bits to a single character\n",
        "print (\"\".join( [chr(int(m[i:i+8],2)) for i in range(0,len(m),8)] ) )\n"
      ],
      "execution_count": 21,
      "outputs": [
        {
          "output_type": "stream",
          "text": [
            "01000100011000010111011001101001011001000010000001010010011101010110001001111001001000000010000000100000001000000010000000100000 \n",
            " 128\n",
            "01000100011000010111011001101001011001000010000001010010011101010110001001111001001000000010000000100000001000000010000000100000 \n",
            " 128\n",
            "[4927349662343516789, 7095738010248945696]\n",
            "[330106528971599229743010201558, 232606389041471261220007382592]\n",
            "[4927349662343516789, 7095738010248945696]\n",
            "01000100011000010111011001101001011001000010000001010010011101010110001001111001001000000010000000100000001000000010000000100000\n",
            "David Ruby      \n"
          ],
          "name": "stdout"
        }
      ]
    },
    {
      "cell_type": "code",
      "metadata": {
        "id": "moi8NwtlOpfa",
        "colab_type": "code",
        "outputId": "d70eebb6-90d9-4159-9c80-d4a89732b5ec",
        "colab": {
          "base_uri": "https://localhost:8080/",
          "height": 105
        }
      },
      "source": [
        "def Encrypt(message, key, blockSize):\n",
        "  encryptedBlockSize = len(bin(key[1]))\n",
        "  strSize = blockSize // 8 # 8 bits per character\n",
        "  message = message if len(message)%strSize==0 else message +\" \"*(strSize-len(message)%strSize)  #Pad string to match Block Size\n",
        "  messageBinaryList=[ \"{0:{fill}8b}\".format(ord(c), fill='0') for c in message]  # One long binary string\n",
        "  messageBinary = \"\".join(messageBinaryList)\n",
        "  messageBlockBinaryList = [messageBinary[i:i+blockSize] for i in range(0,len(messageBinary),blockSize)]  # List of Block size Binary Strings\n",
        "  messageIntList = [int(a,2) for a in messageBlockBinaryList ]  # Integer list of blocks\n",
        "\n",
        "  encryptedIntegerList = [ME(message,key[0], key[1]) for message in messageIntList]\n",
        "  f = \"{0:{fill}\"+str(encryptedBlockSize)+\"b}\" \n",
        "  encryptedBinaryList=[ f.format(c, fill='0') for c in encryptedIntegerList]\n",
        "  pList = [(cv, len(cv)) for cv in encryptedBinaryList]\n",
        "  e = \"\".join(encryptedBinaryList)\n",
        "  return e\n",
        "\n",
        "def Decrypt(message, key, blockSize):\n",
        "  encryptedBlockSize = len(bin(key[1]))\n",
        "  messageBinaryList = [message[i:i+encryptedBlockSize] for i in range(0,len(message),encryptedBlockSize)]\n",
        "  MessageIntList = [int(a,2) for a in messageBinaryList ]  \n",
        "\n",
        "  DecryptedList = [ME(c,key[0], key[1]) for c in MessageIntList]\n",
        "\n",
        "  f = \"{0:{fill}\"+str(blockSize)+\"b}\"\n",
        "  y=[ f.format(c, fill='0') for c in DecryptedList]\n",
        "  m = \"\".join(y)\n",
        "\n",
        "  # Convert each bits to a single character\n",
        "  originalMessage =  \"\".join( [chr(int(m[i:i+8],2)) for i in range(0,len(m),8)] ) \n",
        "  return originalMessage\n",
        "\n",
        "\n",
        "myMessage = \"ABCDEFGHIJKLMNOPQRSTUVWXYZ\"\n",
        "cip1 = Encrypt(myMessage, keys[0], blockSize) \n",
        "print (cip1, len(cip1))\n",
        "\n",
        "out1 = Decrypt(cip1, keys[1], blockSize )\n",
        "\n",
        "print (out1)\n",
        "\n",
        "myMessage = \"David Ruby\"\n",
        "cip2 = Encrypt(myMessage, keys[0], blockSize) \n",
        "print (cip2, len(cip2))\n",
        "\n",
        "out2 = Decrypt(cip2, keys[1], blockSize )\n",
        "\n",
        "print (out2)\n"
      ],
      "execution_count": 22,
      "outputs": [
        {
          "output_type": "stream",
          "text": [
            "000111011100001010101010111101010000110000101010100000000000011001110100100110100100001111100000100101001100011000011010111011110111001011110100111111111001001111110011010100101111000101100110111010011111000101111000011111000011101100010100111101011100000010011011001010001001000110001100011011011010111000000000011111101010010101110100101111100011101000110000100000111100110110111110100001010011011011000111 408\n",
            "ABCDEFGHIJKLMNOPQRSTUVWXYZ      \n",
            "000100001010101010000110111000100010010010001000000010011100001011010110001111010001001011111111010110000010111011111001011101111110110100001010001101111001111000111011101110100101000110010000111001000000 204\n",
            "David Ruby      \n"
          ],
          "name": "stdout"
        }
      ]
    },
    {
      "cell_type": "code",
      "metadata": {
        "id": "0A66am9Q9l6s",
        "colab_type": "code",
        "outputId": "837f0f20-c151-474e-de5f-da2e46d8be2d",
        "colab": {
          "base_uri": "https://localhost:8080/",
          "height": 442
        }
      },
      "source": [
        "def PrintEncrypted(m):\n",
        "  lineLength = 30\n",
        "  messageBlockBinaryList = [m[i:i+lineLength] for i in range(0,len(m),lineLength)]\n",
        "  for b in messageBlockBinaryList:\n",
        "    print (b)\n",
        "    \n",
        "PrintEncrypted(cip1)\n",
        "print(Decrypt(cip1, keys[1], blockSize ), '\\n')\n",
        "\n",
        "PrintEncrypted(cip2)\n",
        "print(Decrypt(cip2, keys[1], blockSize ), '\\n')"
      ],
      "execution_count": 23,
      "outputs": [
        {
          "output_type": "stream",
          "text": [
            "000111011100001010101010111101\n",
            "010000110000101010100000000000\n",
            "011001110100100110100100001111\n",
            "100000100101001100011000011010\n",
            "111011110111001011110100111111\n",
            "111001001111110011010100101111\n",
            "000101100110111010011111000101\n",
            "111000011111000011101100010100\n",
            "111101011100000010011011001010\n",
            "001001000110001100011011011010\n",
            "111000000000011111101010010101\n",
            "110100101111100011101000110000\n",
            "100000111100110110111110100001\n",
            "010011011011000111\n",
            "ABCDEFGHIJKLMNOPQRSTUVWXYZ       \n",
            "\n",
            "000100001010101010000110111000\n",
            "100010010010001000000010011100\n",
            "001011010110001111010001001011\n",
            "111111010110000010111011111001\n",
            "011101111110110100001010001101\n",
            "111001111000111011101110100101\n",
            "000110010000111001000000\n",
            "David Ruby       \n",
            "\n"
          ],
          "name": "stdout"
        }
      ]
    },
    {
      "cell_type": "code",
      "metadata": {
        "id": "KKe9p8etamIv",
        "colab_type": "code",
        "outputId": "4256f85e-2b21-475f-b3fc-91c4c40ea6a0",
        "colab": {
          "base_uri": "https://localhost:8080/",
          "height": 170
        }
      },
      "source": [
        "p = FindPrime(8)\n",
        "q = FindPrime(8)\n",
        "print (p, q, len(bin(p))-2, len(bin(q))-2)\n",
        "phiN = (p-1)*(q-1)\n",
        "eS = [i for i in range(3, 20) if GCD(i,phiN)==1]\n",
        "print (eS)\n",
        "e = eS[0]"
      ],
      "execution_count": 24,
      "outputs": [
        {
          "output_type": "stream",
          "text": [
            "227 PRIME\n",
            "227 PRIME\n",
            "205 COMPOSITE: 129\n",
            "171 COMPOSITE: 85\n",
            "253 COMPOSITE: 182\n",
            "199 PRIME\n",
            "199 PRIME\n",
            "227 199 8 8\n",
            "[5, 7, 13, 17, 19]\n"
          ],
          "name": "stdout"
        }
      ]
    },
    {
      "cell_type": "code",
      "metadata": {
        "id": "SJDKavcVazVS",
        "colab_type": "code",
        "outputId": "8b0f2542-938b-4b0a-c621-2154eed26b50",
        "colab": {
          "base_uri": "https://localhost:8080/",
          "height": 357
        }
      },
      "source": [
        "rawKey1=(5, 673, 547)\n",
        "rawKey2=(7, 569, 271)\n",
        "rawKey2b=(7, 271, 569)\n",
        "rawKey3=(7, 151, 269)\n",
        "e, p, q = rawKey1\n",
        "\n",
        "blockSize = 8\n",
        "keys = GetKeys(p, q, e)\n",
        "print (keys)\n",
        "\n",
        "cip3 = Encrypt(\"DR\", keys[0], blockSize)\n",
        "PrintEncrypted(cip3)\n",
        "out = Decrypt(cip3, keys[1], blockSize )\n",
        "print (int(cip3,2))\n",
        "print(out, len(out),'\\n')\n",
        "\n",
        "cip4 = Encrypt(\"BIO\", keys[0], blockSize)\n",
        "PrintEncrypted(cip4)\n",
        "out = Decrypt(cip4, keys[1], blockSize )\n",
        "print (int(cip4,2))\n",
        "print(out, len(out),'\\n')\n",
        "\n",
        "cip5 = Encrypt(\"JC\", keys[0], blockSize)\n",
        "PrintEncrypted(cip5)\n",
        "out = Decrypt(cip5, keys[1], blockSize )\n",
        "print (int(cip5,2))\n",
        "print(out, len(out),'\\n')\n",
        "\n",
        "xout=386398478110\n",
        "bxout = \"000101100111110111001001001101111100011110\"\n",
        "print(int(bxout, 2))"
      ],
      "execution_count": 25,
      "outputs": [
        {
          "output_type": "stream",
          "text": [
            "368131 366912 146765\n",
            "5 146765 366912 1\n",
            "((5, 368131), (146765, 368131))\n",
            "000101100111110111001001001101\n",
            "111100011110\n",
            "386398478110\n",
            "DR 2 \n",
            "\n",
            "001001101111001000101000011110\n",
            "101111101100000110101000110011\n",
            "101\n",
            "1403175013233938845\n",
            "BIO 3 \n",
            "\n",
            "001000100100111111111000101110\n",
            "000100111010\n",
            "589482352954\n",
            "JC 2 \n",
            "\n",
            "386398478110\n"
          ],
          "name": "stdout"
        }
      ]
    },
    {
      "cell_type": "code",
      "metadata": {
        "id": "-vhuJik7W4_w",
        "colab_type": "code",
        "outputId": "f94c4c0a-9aa6-4087-8639-71509c6dcd5d",
        "colab": {
          "base_uri": "https://localhost:8080/",
          "height": 1000
        }
      },
      "source": [
        "blockSize = 8\n",
        "\n",
        "p = 11\n",
        "q = 13\n",
        "print (p, q, len(bin(p))-2, len(bin(q))-2)\n",
        "phiN = (p-1)*(q-1)\n",
        "eS = [i for i in range(3, phiN-1) if GCD(i,phiN)==1 and MillerRabin(i, 3)==True]\n",
        "print (eS)\n",
        "e = eS[0]\n",
        "\n",
        "keys = GetKeys(p, q, e)\n",
        "print (keys)\n",
        "\n",
        "cip = Encrypt(\"JC\", keys[0], blockSize)\n",
        "PrintEncrypted(cip)\n",
        "out = Decrypt(cip, keys[1], blockSize )\n",
        "print (int(cip,2))\n",
        "print(out, len(out),'\\n')\n",
        "\n",
        "cip = Encrypt(\"DR\", keys[0], blockSize)\n",
        "PrintEncrypted(cip)\n",
        "out = Decrypt(cip, keys[1], blockSize )\n",
        "print (int(cip,2))\n",
        "print(out, len(out),'\\n')\n",
        "\n",
        "cip = Encrypt(\"BIO\", keys[0], blockSize)\n",
        "PrintEncrypted(cip)\n",
        "out = Decrypt(cip, keys[1], blockSize )\n",
        "print (int(cip,2))\n",
        "print(out, len(out), '\\n')\n",
        "\n",
        "cip = Encrypt(\"RUBY\", keys[0], blockSize)\n",
        "PrintEncrypted(cip)\n",
        "out = Decrypt(cip, keys[1], blockSize )\n",
        "print (int(cip,2))\n",
        "print(out, len(out),'\\n')\n",
        "\n",
        "cip = Encrypt( \"TSW\", keys[0], blockSize )\n",
        "PrintEncrypted(cip)\n",
        "out = Decrypt(cip, keys[1], blockSize)\n",
        "print (int(cip, 2))\n",
        "print(out, len(out), '\\n')\n",
        "\n",
        "cip = Encrypt( \"STW\", keys[0], blockSize )\n",
        "PrintEncrypted(cip)\n",
        "out = Decrypt(cip, keys[1], blockSize)\n",
        "print (int(cip, 2))\n",
        "print(out, len(out), '\\n')"
      ],
      "execution_count": 26,
      "outputs": [
        {
          "output_type": "stream",
          "text": [
            "11 13 4 4\n",
            "7 PRIME\n",
            "11 PRIME\n",
            "13 PRIME\n",
            "17 PRIME\n",
            "19 PRIME\n",
            "23 PRIME\n",
            "29 PRIME\n",
            "31 PRIME\n",
            "37 PRIME\n",
            "41 PRIME\n",
            "43 PRIME\n",
            "47 PRIME\n",
            "49 COMPOSITE: 11\n",
            "53 PRIME\n",
            "59 PRIME\n",
            "61 PRIME\n",
            "67 PRIME\n",
            "71 PRIME\n",
            "73 PRIME\n",
            "77 COMPOSITE: 73\n",
            "79 PRIME\n",
            "83 PRIME\n",
            "89 PRIME\n",
            "91 COMPOSITE: 30\n",
            "97 PRIME\n",
            "101 PRIME\n",
            "103 PRIME\n",
            "107 PRIME\n",
            "109 PRIME\n",
            "113 PRIME\n",
            "[7, 11, 13, 17, 19, 23, 29, 31, 37, 41, 43, 47, 53, 59, 61, 67, 71, 73, 79, 83, 89, 97, 101, 103, 107, 109, 113]\n",
            "143 120 103\n",
            "7 103 120 1\n",
            "((7, 143), (103, 143))\n",
            "00001000110001011001\n",
            "35929\n",
            "JC 2 \n",
            "\n",
            "00000111010001000101\n",
            "29765\n",
            "DR 2 \n",
            "\n",
            "000100001000010100110000101000\n",
            "69291048\n",
            "BIO 3 \n",
            "\n",
            "000100010100011110110001000010\n",
            "0001000011\n",
            "74217228355\n",
            "RUBY 4 \n",
            "\n",
            "000100100000000010000001010111\n",
            "75505751\n",
            "TSW 3 \n",
            "\n",
            "000000100000010010000001010111\n",
            "8462423\n",
            "STW 3 \n",
            "\n"
          ],
          "name": "stdout"
        }
      ]
    }
  ]
}