{
  "nbformat": 4,
  "nbformat_minor": 0,
  "metadata": {
    "colab": {
      "name": "ch31.ipynb",
      "version": "0.3.2",
      "provenance": [],
      "collapsed_sections": [],
      "include_colab_link": true
    },
    "kernelspec": {
      "name": "python3",
      "display_name": "Python 3"
    }
  },
  "cells": [
    {
      "cell_type": "markdown",
      "metadata": {
        "id": "view-in-github",
        "colab_type": "text"
      },
      "source": [
        "<a href=\"https://colab.research.google.com/github/everestso/61.67.71.73/blob/master/ch31.ipynb\" target=\"_parent\"><img src=\"https://colab.research.google.com/assets/colab-badge.svg\" alt=\"Open In Colab\"/></a>"
      ]
    },
    {
      "cell_type": "code",
      "metadata": {
        "id": "uK5A0Tg7QGa3",
        "colab_type": "code",
        "colab": {}
      },
      "source": [
        "### Extend Euclid\n",
        "def EE(a, b):\n",
        "  if b == 0:\n",
        "    return (a, 1, 0)\n",
        "  else:\n",
        "    (dPrime, xPrime, yPrime) = EE(b, a % b)\n",
        "    (d, x, y) = (dPrime, yPrime, xPrime - (a//b*yPrime))\n",
        "    return (d, x, y)\n",
        "  \n",
        "  \n"
      ],
      "execution_count": 0,
      "outputs": []
    },
    {
      "cell_type": "code",
      "metadata": {
        "id": "ZpV3Vml7SHnL",
        "colab_type": "code",
        "outputId": "f637d984-bfa2-4f28-e017-ec13b2965e7d",
        "colab": {
          "base_uri": "https://localhost:8080/",
          "height": 67
        }
      },
      "source": [
        "a = 12; b=15\n",
        "print (a, b, EE( a, b))\n",
        "a= 125; b=300\n",
        "o = EE( a, b)\n",
        "print (a, b, o)\n",
        "print (a*o[1]+b*o[2])\n"
      ],
      "execution_count": 2,
      "outputs": [
        {
          "output_type": "stream",
          "text": [
            "12 15 (3, -1, 1)\n",
            "125 300 (25, 5, -2)\n",
            "25\n"
          ],
          "name": "stdout"
        }
      ]
    },
    {
      "cell_type": "code",
      "metadata": {
        "id": "ehdEWfj1S6cC",
        "colab_type": "code",
        "outputId": "fea71e4b-9c49-4716-ddda-e8b4c605eef3",
        "colab": {
          "base_uri": "https://localhost:8080/",
          "height": 34
        }
      },
      "source": [
        "def MLE(a, b, n):\n",
        "  out = []\n",
        "  (d, xPrime, yPrime) = EE(a, n)\n",
        "  if ( b % d == 0 ):\n",
        "    x0 = (xPrime*b//d) % n\n",
        "    for i in range(d): \n",
        "      out += [(x0 + i*(n//d)) % n ]\n",
        "  return out\n",
        "    \n",
        "print (MLE(14,30,100))\n",
        "\n"
      ],
      "execution_count": 3,
      "outputs": [
        {
          "output_type": "stream",
          "text": [
            "[95, 45]\n"
          ],
          "name": "stdout"
        }
      ]
    },
    {
      "cell_type": "code",
      "metadata": {
        "id": "vcBWXXQJVPr2",
        "colab_type": "code",
        "outputId": "5accc256-3305-4b73-cde7-bcc2764ee6e9",
        "colab": {
          "base_uri": "https://localhost:8080/",
          "height": 67
        }
      },
      "source": [
        "p=11;  q=29; e=3\n",
        "\n",
        "n = p * q\n",
        "phiN = (p-1)*(q-1)\n",
        "d = MLE(e, 1, phiN)[0]\n",
        "print (n, phiN, d)\n",
        "\n",
        "message = 318\n",
        "c = message**e%n\n",
        "print (c)\n",
        "decrypted = c**d%n\n",
        "print (decrypted)"
      ],
      "execution_count": 4,
      "outputs": [
        {
          "output_type": "stream",
          "text": [
            "319 280 187\n",
            "318\n",
            "318\n"
          ],
          "name": "stdout"
        }
      ]
    },
    {
      "cell_type": "code",
      "metadata": {
        "id": "ZGweY_VpXbF3",
        "colab_type": "code",
        "outputId": "4706038b-9cf6-4116-c818-f40dffb84ddc",
        "colab": {
          "base_uri": "https://localhost:8080/",
          "height": 84
        }
      },
      "source": [
        "p=3;  q=5; e=3\n",
        "\n",
        "n = p * q\n",
        "phiN = (p-1)*(q-1)\n",
        "d = MLE(e, 1, phiN)[0]\n",
        "print (n, phiN, d)\n",
        "print (e,d,phiN,e*d % phiN)\n",
        "message = 3\n",
        "c = message**e%n\n",
        "print (c)\n",
        "decrypted = c**d%n\n",
        "print (decrypted)"
      ],
      "execution_count": 5,
      "outputs": [
        {
          "output_type": "stream",
          "text": [
            "15 8 3\n",
            "3 3 8 1\n",
            "12\n",
            "3\n"
          ],
          "name": "stdout"
        }
      ]
    },
    {
      "cell_type": "code",
      "metadata": {
        "id": "o5huzto5aAwI",
        "colab_type": "code",
        "outputId": "708a742c-2adb-4c68-89d5-7bcf81cca5ec",
        "colab": {
          "base_uri": "https://localhost:8080/",
          "height": 50
        }
      },
      "source": [
        "p=13;  q=17; e=5\n",
        "\n",
        "n = p * q\n",
        "phiN = (p-1)*(q-1)\n",
        "d = MLE(e, 1, phiN)[0]\n",
        "print (n, phiN, d)\n",
        "print (e,d,phiN,e*d % phiN)\n",
        "\n",
        "PUBLIC = (e,n)\n",
        "PRIVATE = (d,n)"
      ],
      "execution_count": 6,
      "outputs": [
        {
          "output_type": "stream",
          "text": [
            "221 192 77\n",
            "5 77 192 1\n"
          ],
          "name": "stdout"
        }
      ]
    },
    {
      "cell_type": "code",
      "metadata": {
        "id": "LVHldOj6bJkA",
        "colab_type": "code",
        "outputId": "3b67e751-5efc-43b0-d06d-2c66ea46a6d5",
        "colab": {
          "base_uri": "https://localhost:8080/",
          "height": 67
        }
      },
      "source": [
        "message = ord('D')\n",
        "c = message**e%n\n",
        "decrypted = c**d%n\n",
        "print (\"MESSAGE: \", message)\n",
        "print (\"ENCRYPTED: \", c)\n",
        "print (\"DECRYPTED: \", decrypted)"
      ],
      "execution_count": 7,
      "outputs": [
        {
          "output_type": "stream",
          "text": [
            "MESSAGE:  68\n",
            "ENCRYPTED:  204\n",
            "DECRYPTED:  68\n"
          ],
          "name": "stdout"
        }
      ]
    },
    {
      "cell_type": "code",
      "metadata": {
        "id": "5HGjK2Uni8Lb",
        "colab_type": "code",
        "outputId": "972e3827-0635-4f23-ae78-d574e138bc81",
        "colab": {
          "base_uri": "https://localhost:8080/",
          "height": 50
        }
      },
      "source": [
        "def ME(a, b, n):\n",
        "  c = 0\n",
        "  d = 1\n",
        "  bVector = bin(b)\n",
        "  for i in range(len(bVector)):\n",
        "    c *= 2\n",
        "    d = (d*d) % n\n",
        "    if (bVector[i]=='1'):\n",
        "      c += 1\n",
        "      d = (d * a) % n\n",
        "  return d\n",
        "\n",
        "def ME2(a, b, n):\n",
        "  c = 0\n",
        "  d = 1\n",
        "  bVector = bin(b)[:1:-1]\n",
        "  k = len(bVector)-1\n",
        "  print (bVector, bin(b))\n",
        "  for i in range(k,-1,-1):\n",
        "    c *= 2\n",
        "    d = (d*d) % n\n",
        "    if (bVector[i]=='1'):\n",
        "      c += 1\n",
        "      d = (d * a) % n\n",
        "  return d\n",
        "\n",
        "a=111; b=113; n=97\n",
        "a=2; b=521; n=5217\n",
        "print (a**b%n, ME(a, b, n), ME2(a, b, n))\n"
      ],
      "execution_count": 8,
      "outputs": [
        {
          "output_type": "stream",
          "text": [
            "1001000001 0b1000001001\n",
            "2312 2312 2312\n"
          ],
          "name": "stdout"
        }
      ]
    },
    {
      "cell_type": "code",
      "metadata": {
        "id": "YjH3O6MvgebI",
        "colab_type": "code",
        "outputId": "0d5bedfa-3e6c-4643-be56-f71362ea0fa4",
        "colab": {
          "base_uri": "https://localhost:8080/",
          "height": 50
        }
      },
      "source": [
        "p, q, e = (7, 13, 5)\n",
        "p, q, e = (13, 31, 7)\n",
        "\n",
        "n = p * q\n",
        "phiN = (p-1)*(q-1)\n",
        "d = MLE(e, 1, phiN)[0]\n",
        "print (n, phiN, d)\n",
        "print (e,d,phiN,e*d % phiN)\n",
        "\n",
        "PUBLIC = (e,n)\n",
        "PRIVATE = (d,n)"
      ],
      "execution_count": 9,
      "outputs": [
        {
          "output_type": "stream",
          "text": [
            "403 360 103\n",
            "7 103 360 1\n"
          ],
          "name": "stdout"
        }
      ]
    },
    {
      "cell_type": "code",
      "metadata": {
        "id": "VwjrRIElgXFX",
        "colab_type": "code",
        "outputId": "82bb10ea-1863-493b-ddec-ad8ab4ad7264",
        "colab": {
          "base_uri": "https://localhost:8080/",
          "height": 67
        }
      },
      "source": [
        "message = ord('Q')-ord('A') + 1\n",
        "c = message**e%n\n",
        "decrypted = c**d%n\n",
        "print (\"MESSAGE: \", message)\n",
        "print (\"ENCRYPTED: \", c)\n",
        "print (\"DECRYPTED: \", decrypted)"
      ],
      "execution_count": 10,
      "outputs": [
        {
          "output_type": "stream",
          "text": [
            "MESSAGE:  17\n",
            "ENCRYPTED:  43\n",
            "DECRYPTED:  17\n"
          ],
          "name": "stdout"
        }
      ]
    },
    {
      "cell_type": "code",
      "metadata": {
        "id": "ji_HaW0FISbf",
        "colab_type": "code",
        "colab": {}
      },
      "source": [
        "# GCD\n",
        "\n",
        "GCD = lambda a, b: GCD(b, a%b) if b else a\n",
        "Z = lambda n: sorted({i%n for i in range(10000)})\n",
        "Za = lambda a,n: sorted({i*a%n for i in range(1000)})\n",
        "\n",
        "Zx = lambda n: sorted ({i%n for i in range(10000) if GCD(i,n)==1})\n",
        "Zxa = lambda a,n: sorted ({a**i%n for i in range(10000) if GCD(a**i,n)==1})"
      ],
      "execution_count": 0,
      "outputs": []
    },
    {
      "cell_type": "code",
      "metadata": {
        "id": "4AdUfMlJKHPb",
        "colab_type": "code",
        "outputId": "52d1f821-ec8c-4ee0-9ab2-c1ff9b662597",
        "colab": {
          "base_uri": "https://localhost:8080/",
          "height": 101
        }
      },
      "source": [
        "print(Z(10))\n",
        "\n",
        "print (Za(5,10))\n",
        "\n",
        "print (len(Zx(1024)))\n",
        "print (Zxa(127,1024))\n",
        "print (Zx(15))"
      ],
      "execution_count": 12,
      "outputs": [
        {
          "output_type": "stream",
          "text": [
            "[0, 1, 2, 3, 4, 5, 6, 7, 8, 9]\n",
            "[0, 5]\n",
            "512\n",
            "[1, 127, 257, 383, 513, 639, 769, 895]\n",
            "[1, 2, 4, 7, 8, 11, 13, 14]\n"
          ],
          "name": "stdout"
        }
      ]
    },
    {
      "cell_type": "code",
      "metadata": {
        "id": "TRTYrgzKBHXe",
        "colab_type": "code",
        "outputId": "ba84712d-c165-4f24-ea5e-11dbd4496e43",
        "colab": {
          "base_uri": "https://localhost:8080/",
          "height": 118
        }
      },
      "source": [
        "#\n",
        "# Chinese Remainder Theorem\n",
        "\n",
        "import numpy as np\n",
        "A = [2, 3, 2]\n",
        "N = [3, 5, 7]\n",
        "\n",
        "M = [np.prod(N)//N[i] for i in range(len(A))]\n",
        "Minverse = [MLE(M[i], 1, N[i])[0] for i in range(len(A))]\n",
        "\n",
        "print (\"M: \", M)\n",
        "print (\"Minverse: \", Minverse)\n",
        "\n",
        "C = [M[i]*(Minverse[i] % N[i]) for i in range(len(A))]\n",
        "print (\"C: \", C)\n",
        "\n",
        "AC = [A[i]*C[i] for i in range(len(A))]\n",
        "\n",
        "answer = sum(AC) % np.prod(N)\n",
        "print (\"AiCi: \", AC)\n",
        "print (\"Sum AiCi mod n: \", answer)\n",
        "\n",
        "output = [answer % N[i] for i in range(len(A))]\n",
        "\n",
        "print (\"Answer mod Ni: \", output)"
      ],
      "execution_count": 13,
      "outputs": [
        {
          "output_type": "stream",
          "text": [
            "M:  [35, 21, 15]\n",
            "Minverse:  [2, 1, 1]\n",
            "C:  [70, 21, 15]\n",
            "AiCi:  [140, 63, 30]\n",
            "Sum AiCi mod n:  23\n",
            "Answer mod Ni:  [2, 3, 2]\n"
          ],
          "name": "stdout"
        }
      ]
    },
    {
      "cell_type": "code",
      "metadata": {
        "id": "DZ24rmmgKLG0",
        "colab_type": "code",
        "outputId": "0083544a-7480-4b83-d48b-0db2d7832186",
        "colab": {
          "base_uri": "https://localhost:8080/",
          "height": 118
        }
      },
      "source": [
        "A1 = [1, 2, 2, 2, 2, 2, 2, 2]\n",
        "A2 = [1, 1, 1, 3, 3, 3, 3, 3]\n",
        "A2b = [5, 5, 9]\n",
        "A = A2b\n",
        "N1 = [2, 3, 5, 7, 11, 13, 17, 19]\n",
        "N2b = [47, 53, 59]\n",
        "N = N2b\n",
        "\n",
        "M = [np.prod(N)//N[i] for i in range(len(A))]\n",
        "Minverse = [MLE(M[i], 1, N[i])[0] for i in range(len(A))]\n",
        "\n",
        "print (\"M: \", M)\n",
        "print (\"Minverse: \", Minverse)\n",
        "\n",
        "C = [M[i]*(Minverse[i] % N[i]) for i in range(len(A))]\n",
        "print (\"C: \", C)\n",
        "\n",
        "AC = [A[i]*C[i] for i in range(len(A))]\n",
        "\n",
        "answer = sum(AC) % np.prod(N)\n",
        "print (\"AiCi: \", AC)\n",
        "print (\"Sum AiCi mod n: \", answer)\n",
        "\n",
        "output = [answer % N[i] for i in range(len(A))]\n",
        "\n",
        "print (\"Answer mod Ni: \", output)\n",
        "\n"
      ],
      "execution_count": 14,
      "outputs": [
        {
          "output_type": "stream",
          "text": [
            "M:  [3127, 2773, 2491]\n",
            "Minverse:  [32, 25, 50]\n",
            "C:  [100064, 69325, 124550]\n",
            "AiCi:  [500320, 346625, 1120950]\n",
            "Sum AiCi mod n:  57298\n",
            "Answer mod Ni:  [5, 5, 9]\n"
          ],
          "name": "stdout"
        }
      ]
    },
    {
      "cell_type": "code",
      "metadata": {
        "id": "qkRq1_G5ExAg",
        "colab_type": "code",
        "outputId": "ac54b8c7-70b6-45bb-a2d8-45a38ef24a37",
        "colab": {
          "base_uri": "https://localhost:8080/",
          "height": 1000
        }
      },
      "source": [
        "def ChineseRemainder(A, N):\n",
        "  M = [np.prod(N)//N[i] for i in range(len(A))]\n",
        "  Minverse = [MLE(M[i], 1, N[i])[0] for i in range(len(A))]\n",
        "\n",
        "  print (\"M: \", M)\n",
        "  print (\"Minverse: \", Minverse)\n",
        "\n",
        "  C = [M[i]*(Minverse[i] % N[i]) for i in range(len(A))]\n",
        "  print (\"C: \", C)\n",
        "\n",
        "  AC = [A[i]*C[i] for i in range(len(A))]\n",
        "\n",
        "  answer = sum(AC) % np.prod(N)\n",
        "  return answer\n",
        "\n",
        "N = [47, 53, 59]\n",
        "As = [ (4, 2, 3), (5, 5, 9), (7, 77, 777), (10, 9, 14), (12, 9, 21), (2, 1, 14), (13, 9, 14) ]\n",
        "\n",
        "Answers = [(a,ChineseRemainder(a, N)) for a in As]\n",
        "print (\"\\nANSWERS\")\n",
        "print (N, Answers,\"\\n\")\n",
        "\n",
        "N = [3, 5, 7]\n",
        "As = [ (2, 3, 2), (3, 2, 3), (3, 1, 1) ]\n",
        "\n",
        "Answers = [(a,ChineseRemainder(a, N)) for a in As]\n",
        "print (\"\\nANSWERS\")\n",
        "print (N, Answers,\"\\n\")\n",
        "\n",
        "N = [61, 67, 71, 73]\n",
        "As = [ (18, 21, 2, 25), (16, 1, 18, 11), (8, 6, 2, 3) ]\n",
        "\n",
        "Answers = [(a,ChineseRemainder(a, N)) for a in As]\n",
        "print (\"\\nANSWERS\")\n",
        "print (N, Answers,\"\\n\")\n",
        "\n",
        "N = [41, 43]\n",
        "As = [ (12, 9) ]\n",
        "\n",
        "Answers = [(a,ChineseRemainder(a, N)) for a in As]\n",
        "print (\"\\nANSWERS\")\n",
        "print (N, Answers,\"\\n\")\n",
        "\n",
        "N = [71, 73, 79, 83, 89, 97]\n",
        "As = [ (23, 9, 12, 19, 15, 14) ]\n",
        "\n",
        "Answers = [(a,ChineseRemainder(a, N)) for a in As]\n",
        "print (\"\\nANSWERS\")\n",
        "print (N, Answers,\"\\n\")\n"
      ],
      "execution_count": 15,
      "outputs": [
        {
          "output_type": "stream",
          "text": [
            "M:  [3127, 2773, 2491]\n",
            "Minverse:  [32, 25, 50]\n",
            "C:  [100064, 69325, 124550]\n",
            "M:  [3127, 2773, 2491]\n",
            "Minverse:  [32, 25, 50]\n",
            "C:  [100064, 69325, 124550]\n",
            "M:  [3127, 2773, 2491]\n",
            "Minverse:  [32, 25, 50]\n",
            "C:  [100064, 69325, 124550]\n",
            "M:  [3127, 2773, 2491]\n",
            "Minverse:  [32, 25, 50]\n",
            "C:  [100064, 69325, 124550]\n",
            "M:  [3127, 2773, 2491]\n",
            "Minverse:  [32, 25, 50]\n",
            "C:  [100064, 69325, 124550]\n",
            "M:  [3127, 2773, 2491]\n",
            "Minverse:  [32, 25, 50]\n",
            "C:  [100064, 69325, 124550]\n",
            "M:  [3127, 2773, 2491]\n",
            "Minverse:  [32, 25, 50]\n",
            "C:  [100064, 69325, 124550]\n",
            "\n",
            "ANSWERS\n",
            "[47, 53, 59] [((4, 2, 3), 30742), ((5, 5, 9), 57298), ((7, 77, 777), 82492), ((10, 9, 14), 134947), ((12, 9, 21), 31173), ((2, 1, 14), 102556), ((13, 9, 14), 141201)] \n",
            "\n",
            "M:  [35, 21, 15]\n",
            "Minverse:  [2, 1, 1]\n",
            "C:  [70, 21, 15]\n",
            "M:  [35, 21, 15]\n",
            "Minverse:  [2, 1, 1]\n",
            "C:  [70, 21, 15]\n",
            "M:  [35, 21, 15]\n",
            "Minverse:  [2, 1, 1]\n",
            "C:  [70, 21, 15]\n",
            "\n",
            "ANSWERS\n",
            "[3, 5, 7] [((2, 3, 2), 23), ((3, 2, 3), 87), ((3, 1, 1), 36)] \n",
            "\n",
            "M:  [347261, 316163, 298351, 290177]\n",
            "Minverse:  [5, 20, 8, 37]\n",
            "C:  [1736305, 6323260, 2386808, 10736549]\n",
            "M:  [347261, 316163, 298351, 290177]\n",
            "Minverse:  [5, 20, 8, 37]\n",
            "C:  [1736305, 6323260, 2386808, 10736549]\n",
            "M:  [347261, 316163, 298351, 290177]\n",
            "Minverse:  [5, 20, 8, 37]\n",
            "C:  [1736305, 6323260, 2386808, 10736549]\n",
            "\n",
            "ANSWERS\n",
            "[61, 67, 71, 73] [((18, 21, 2, 25), 13570871), ((16, 1, 18, 11), 4522434), ((8, 6, 2, 3), 4081579)] \n",
            "\n",
            "M:  [43, 41]\n",
            "Minverse:  [21, 21]\n",
            "C:  [903, 861]\n",
            "\n",
            "ANSWERS\n",
            "[41, 43] [((12, 9), 955)] \n",
            "\n",
            "M:  [4132280413, 4019067251, 3713821637, 3534842281, 3296538307, 3024658859]\n",
            "Minverse:  [26, 30, 47, 60, 31, 54]\n",
            "C:  [107439290738, 120572017530, 174549616939, 212090536860, 102192687517, 163331578386]\n",
            "\n",
            "ANSWERS\n",
            "[71, 73, 79, 83, 89, 97] [((23, 9, 12, 19, 15, 14), 4072029653)] \n",
            "\n"
          ],
          "name": "stdout"
        }
      ]
    },
    {
      "cell_type": "code",
      "metadata": {
        "id": "BNqm1JOLEjUJ",
        "colab_type": "code",
        "outputId": "7784c0de-46fb-4564-bbcc-6acff0330c81",
        "colab": {
          "base_uri": "https://localhost:8080/",
          "height": 50
        }
      },
      "source": [
        "### Witness\n",
        "\n",
        "def Witness(a, n):\n",
        "  t = [i for i in range(int(np.log2(n-1)),-1,-1) if ((n-1)%(2**i))==0][0]\n",
        "  u = (n-1)//(2**t)\n",
        "  ## print (n-1,u,t, u*2**t)\n",
        "  x1 = ME(a, u, n)\n",
        "  ## print (x1)\n",
        "  for i in range(t):\n",
        "    x2 = (x1**2) % n\n",
        "    ## print (x1, x2)\n",
        "    if x2 == 1 and x1 != 1 and x1 != n-1:\n",
        "      return True\n",
        "    x1 = x2\n",
        "    ## print (x1)\n",
        "  if x1 != 1:\n",
        "    return True  \n",
        "  return False\n",
        "\n",
        "n = int(np.random.randint(1000,10000))\n",
        "print (n,list(range(int(np.log2(n-1)),-1,-1) ))\n",
        "\n",
        "print (Witness( 5, n ))"
      ],
      "execution_count": 16,
      "outputs": [
        {
          "output_type": "stream",
          "text": [
            "5169 [12, 11, 10, 9, 8, 7, 6, 5, 4, 3, 2, 1, 0]\n",
            "True\n"
          ],
          "name": "stdout"
        }
      ]
    },
    {
      "cell_type": "code",
      "metadata": {
        "id": "ztLfbttXEoYa",
        "colab_type": "code",
        "outputId": "a0bfedfe-e5d1-4d3e-e18d-da2c27267cb9",
        "colab": {
          "base_uri": "https://localhost:8080/",
          "height": 118
        }
      },
      "source": [
        "def MillerRabin(n, s):\n",
        "  for j in range(s):\n",
        "    a = np.random.randint(1,n-1)\n",
        "    if (Witness(a,n)==True):\n",
        "      print (n, \"COMPOSITE:\", a)\n",
        "      return False\n",
        "  print (n, \"PRIME\")\n",
        "  return True\n",
        "\n",
        "for i in range(1000):\n",
        "  x = np.random.randint(1000000,10000000)\n",
        "  if x%2==0:\n",
        "    continue\n",
        "  if (MillerRabin(x, 3)==True):\n",
        "    print(x,\"PRIME\")\n",
        "    break"
      ],
      "execution_count": 17,
      "outputs": [
        {
          "output_type": "stream",
          "text": [
            "2724957 COMPOSITE: 1815667\n",
            "5575915 COMPOSITE: 2896487\n",
            "7566593 COMPOSITE: 913495\n",
            "8218617 COMPOSITE: 4318021\n",
            "7462823 PRIME\n",
            "7462823 PRIME\n"
          ],
          "name": "stdout"
        }
      ]
    },
    {
      "cell_type": "code",
      "metadata": {
        "id": "jfwenHr5HG1i",
        "colab_type": "code",
        "outputId": "b6162c55-b10d-4724-c0e1-8a35694df7f5",
        "colab": {
          "base_uri": "https://localhost:8080/",
          "height": 370
        }
      },
      "source": [
        "def GetKeys(p, q, e):\n",
        "  n = p * q\n",
        "  phiN = (p-1)*(q-1)\n",
        "  d = MLE(e, 1, phiN)[0]\n",
        "  print (n, phiN, d)\n",
        "  print (e,d,phiN,e*d % phiN)\n",
        "\n",
        "  PUBLIC = (e,n)\n",
        "  PRIVATE = (d,n)\n",
        "  return (PUBLIC, PRIVATE)\n",
        "\n",
        "def FindPrime(bits):\n",
        "  for i in range(10000):\n",
        "    x = int(np.random.random()*2**(bits+1)+2**(bits))\n",
        "    if x%2==0:\n",
        "      continue\n",
        "    if (MillerRabin(x, 3)==True):\n",
        "      print(x,\"PRIME\")\n",
        "      return x\n",
        "  \n",
        "p = FindPrime(50)\n",
        "q = FindPrime(50)\n",
        "print (p,q)"
      ],
      "execution_count": 18,
      "outputs": [
        {
          "output_type": "stream",
          "text": [
            "2500973242174891 COMPOSITE: 1933085057434297\n",
            "3212968168966229 COMPOSITE: 2204305461255157\n",
            "1500800764613087 COMPOSITE: 605712337215449\n",
            "2349211935559451 PRIME\n",
            "2349211935559451 PRIME\n",
            "2259318712718163 COMPOSITE: 2255245066661873\n",
            "2856550846607369 COMPOSITE: 998995331289833\n",
            "3043105524755831 COMPOSITE: 2402677527617228\n",
            "2190876762420435 COMPOSITE: 310640766764397\n",
            "2491107810013773 COMPOSITE: 821208495731298\n",
            "3355470908148783 COMPOSITE: 623013658482928\n",
            "1281254105815257 COMPOSITE: 1269950831099815\n",
            "2692763053004895 COMPOSITE: 1344490508380582\n",
            "3128941018997175 COMPOSITE: 740749433325035\n",
            "1605778618545005 COMPOSITE: 528048147399810\n",
            "1763023210880173 COMPOSITE: 615971448866998\n",
            "1251306330479307 COMPOSITE: 1159111988535235\n",
            "1765198502371323 COMPOSITE: 548613435176704\n",
            "2691944473567879 PRIME\n",
            "2691944473567879 PRIME\n",
            "2349211935559451 2691944473567879\n"
          ],
          "name": "stdout"
        }
      ]
    },
    {
      "cell_type": "code",
      "metadata": {
        "id": "GhSeTj5DLA-w",
        "colab_type": "code",
        "outputId": "2de923da-aa2e-46c3-b8eb-8e118a0329e9",
        "colab": {
          "base_uri": "https://localhost:8080/",
          "height": 67
        }
      },
      "source": [
        "p1 = 2038144922166511\n",
        "q1 = 3032058867739061\n",
        "phiN = (p-1)*(q-1)\n",
        "eS = [i for i in range(3, 100) if GCD(i,phiN)==1]\n",
        "e1 = 101\n",
        "e = eS[0]\n",
        "keys = GetKeys(p, q, e)\n",
        "print (keys)"
      ],
      "execution_count": 19,
      "outputs": [
        {
          "output_type": "stream",
          "text": [
            "6323948087168964407117888474429 6323948087168959365961479347100 3613684621239405351977988198343\n",
            "7 3613684621239405351977988198343 6323948087168959365961479347100 1\n",
            "((7, 6323948087168964407117888474429), (3613684621239405351977988198343, 6323948087168964407117888474429))\n"
          ],
          "name": "stdout"
        }
      ]
    },
    {
      "cell_type": "code",
      "metadata": {
        "id": "cQkR-5rwLX_v",
        "colab_type": "code",
        "outputId": "992dd7a0-1b88-43ec-8f89-019cbe1e2e36",
        "colab": {
          "base_uri": "https://localhost:8080/",
          "height": 67
        }
      },
      "source": [
        "message = 12345678901234567890\n",
        "c = ME(message,keys[0][0], keys[0][1])\n",
        "decrypted = ME(c,keys[1][0], keys[1][1])\n",
        "print (\"MESSAGE: \", message)\n",
        "print (\"ENCRYPTED: \", c)\n",
        "print (\"DECRYPTED: \", decrypted)"
      ],
      "execution_count": 20,
      "outputs": [
        {
          "output_type": "stream",
          "text": [
            "MESSAGE:  12345678901234567890\n",
            "ENCRYPTED:  1785740955130239808121431369983\n",
            "DECRYPTED:  12345678901234567890\n"
          ],
          "name": "stdout"
        }
      ]
    },
    {
      "cell_type": "code",
      "metadata": {
        "id": "_IWFZqmiBX55",
        "colab_type": "code",
        "outputId": "5a3bdcd6-6b00-4904-c187-fc5eae476658",
        "colab": {
          "base_uri": "https://localhost:8080/",
          "height": 168
        }
      },
      "source": [
        "# Block Encryption Example\n",
        "blockSize = 64\n",
        "strSize = 8\n",
        "x=\"David Ruby\"\n",
        "#x=\"ABCDEFGHIJKLMNOPQRSTUVWXYZ\"\n",
        "\n",
        "x = x+\" \"*(strSize-len(x)%strSize)  #Pad string to match Block Size\n",
        "\n",
        "y=[ \"{0:{fill}8b}\".format(ord(c), fill='0') for c in x]\n",
        "m = \"\".join(y)\n",
        "\n",
        "#mPad =m + \"0\"*(blockSize-len(m)%blockSize)\n",
        "mPad = m\n",
        "\n",
        "#mPad is full message in binary\n",
        "\n",
        "mPadList = [mPad[i:i+blockSize] for i in range(0,len(mPad),blockSize)]\n",
        "print (m, '\\n', len(m))\n",
        "print (mPad, '\\n', len(mPad))\n",
        "MessageList = [int(a,2) for a in mPadList ]\n",
        "print (MessageList)\n",
        "\n",
        "#MessageList is now a list of integers derived from blocks\n",
        "\n",
        "EncryptedList = [ME(message,keys[0][0], keys[0][1]) for message in MessageList]\n",
        "print (EncryptedList)\n",
        "\n",
        "DecryptedList = [ME(c,keys[1][0], keys[1][1]) for c in EncryptedList]\n",
        "print (DecryptedList)\n",
        "\n",
        "f = \"{0:{fill}\"+str(blockSize)+\"b}\"\n",
        "y=[ f.format(c, fill='0') for c in DecryptedList]\n",
        "m = \"\".join(y)\n",
        "print (m)\n",
        "\n",
        "# Convert each bits to a single character\n",
        "print (\"\".join( [chr(int(m[i:i+8],2)) for i in range(0,len(m),8)] ) )\n"
      ],
      "execution_count": 21,
      "outputs": [
        {
          "output_type": "stream",
          "text": [
            "01000100011000010111011001101001011001000010000001010010011101010110001001111001001000000010000000100000001000000010000000100000 \n",
            " 128\n",
            "01000100011000010111011001101001011001000010000001010010011101010110001001111001001000000010000000100000001000000010000000100000 \n",
            " 128\n",
            "[4927349662343516789, 7095738010248945696]\n",
            "[1037961625663643008349084306109, 5909769243222028370020129532989]\n",
            "[4927349662343516789, 7095738010248945696]\n",
            "01000100011000010111011001101001011001000010000001010010011101010110001001111001001000000010000000100000001000000010000000100000\n",
            "David Ruby      \n"
          ],
          "name": "stdout"
        }
      ]
    },
    {
      "cell_type": "code",
      "metadata": {
        "id": "moi8NwtlOpfa",
        "colab_type": "code",
        "outputId": "c9064e4e-5938-44f5-e3a6-e26412880609",
        "colab": {
          "base_uri": "https://localhost:8080/",
          "height": 104
        }
      },
      "source": [
        "def Encrypt(message, key, blockSize):\n",
        "  encryptedBlockSize = len(bin(key[1]))\n",
        "  strSize = blockSize // 8 # 8 bits per character\n",
        "  message = message if len(message)%strSize==0 else message +\" \"*(strSize-len(message)%strSize)  #Pad string to match Block Size\n",
        "  messageBinaryList=[ \"{0:{fill}8b}\".format(ord(c), fill='0') for c in message]  # One long binary string\n",
        "  messageBinary = \"\".join(messageBinaryList)\n",
        "  messageBlockBinaryList = [messageBinary[i:i+blockSize] for i in range(0,len(messageBinary),blockSize)]  # List of Block size Binary Strings\n",
        "  messageIntList = [int(a,2) for a in messageBlockBinaryList ]  # Integer list of blocks\n",
        "\n",
        "  encryptedIntegerList = [ME(message,key[0], key[1]) for message in messageIntList]\n",
        "  f = \"{0:{fill}\"+str(encryptedBlockSize)+\"b}\" \n",
        "  encryptedBinaryList=[ f.format(c, fill='0') for c in encryptedIntegerList]\n",
        "  pList = [(cv, len(cv)) for cv in encryptedBinaryList]\n",
        "  e = \"\".join(encryptedBinaryList)\n",
        "  return e\n",
        "\n",
        "def Decrypt(message, key, blockSize):\n",
        "  encryptedBlockSize = len(bin(key[1]))\n",
        "  messageBinaryList = [message[i:i+encryptedBlockSize] for i in range(0,len(message),encryptedBlockSize)]\n",
        "  MessageIntList = [int(a,2) for a in messageBinaryList ]  \n",
        "\n",
        "  DecryptedList = [ME(c,key[0], key[1]) for c in MessageIntList]\n",
        "\n",
        "  f = \"{0:{fill}\"+str(blockSize)+\"b}\"\n",
        "  y=[ f.format(c, fill='0') for c in DecryptedList]\n",
        "  m = \"\".join(y)\n",
        "\n",
        "  # Convert each bits to a single character\n",
        "  originalMessage =  \"\".join( [chr(int(m[i:i+8],2)) for i in range(0,len(m),8)] ) \n",
        "  return originalMessage\n",
        "\n",
        "\n",
        "myMessage = \"ABCDEFGHIJKLMNOPQRSTUVWXYZ\"\n",
        "cip1 = Encrypt(myMessage, keys[0], blockSize) \n",
        "print (cip1, len(cip1))\n",
        "\n",
        "out1 = Decrypt(cip1, keys[1], blockSize )\n",
        "\n",
        "print (out1)\n",
        "\n",
        "myMessage = \"David Ruby\"\n",
        "cip2 = Encrypt(myMessage, keys[0], blockSize) \n",
        "print (cip2, len(cip2))\n",
        "\n",
        "out2 = Decrypt(cip2, keys[1], blockSize )\n",
        "\n",
        "print (out2)\n"
      ],
      "execution_count": 22,
      "outputs": [
        {
          "output_type": "stream",
          "text": [
            "000010111011000000011010010010101101011001001010000000101101100111011010011010000110111100001010111111100000010110010111011010110010000010100101011000110000001101000101110011000101001100101110111001001101000000000001111000010111111101111000100111100110011001110110111010111100100110001100000000001001101111110001100000010110001000010010011000011011001110011101001100101101011000010101110010000110111011101001001110111100 420\n",
            "ABCDEFGHIJKLMNOPQRSTUVWXYZ      \n",
            "000001101000110011101010110111011101110110000111000101101100101101100101111111100011000111100101010111101001001010100101110111111010001010111010110111011110001000110000001010011100101111101011110110110000111101 210\n",
            "David Ruby      \n"
          ],
          "name": "stdout"
        }
      ]
    },
    {
      "cell_type": "code",
      "metadata": {
        "id": "0A66am9Q9l6s",
        "colab_type": "code",
        "outputId": "c341bf13-39d7-4e04-e918-2255b30652a5",
        "colab": {
          "base_uri": "https://localhost:8080/",
          "height": 437
        }
      },
      "source": [
        "def PrintEncrypted(m):\n",
        "  lineLength = 30\n",
        "  messageBlockBinaryList = [m[i:i+lineLength] for i in range(0,len(m),lineLength)]\n",
        "  for b in messageBlockBinaryList:\n",
        "    print (b)\n",
        "    \n",
        "PrintEncrypted(cip1)\n",
        "print(Decrypt(cip1, keys[1], blockSize ), '\\n')\n",
        "\n",
        "PrintEncrypted(cip2)\n",
        "print(Decrypt(cip2, keys[1], blockSize ), '\\n')"
      ],
      "execution_count": 23,
      "outputs": [
        {
          "output_type": "stream",
          "text": [
            "000010111011000000011010010010\n",
            "101101011001001010000000101101\n",
            "100111011010011010000110111100\n",
            "001010111111100000010110010111\n",
            "011010110010000010100101011000\n",
            "110000001101000101110011000101\n",
            "001100101110111001001101000000\n",
            "000001111000010111111101111000\n",
            "100111100110011001110110111010\n",
            "111100100110001100000000001001\n",
            "101111110001100000010110001000\n",
            "010010011000011011001110011101\n",
            "001100101101011000010101110010\n",
            "000110111011101001001110111100\n",
            "ABCDEFGHIJKLMNOPQRSTUVWXYZ       \n",
            "\n",
            "000001101000110011101010110111\n",
            "011101110110000111000101101100\n",
            "101101100101111111100011000111\n",
            "100101010111101001001010100101\n",
            "110111111010001010111010110111\n",
            "011110001000110000001010011100\n",
            "101111101011110110110000111101\n",
            "David Ruby       \n",
            "\n"
          ],
          "name": "stdout"
        }
      ]
    },
    {
      "cell_type": "code",
      "metadata": {
        "id": "KKe9p8etamIv",
        "colab_type": "code",
        "outputId": "4441206a-b636-4e5c-b116-2e1e71d792a6",
        "colab": {
          "base_uri": "https://localhost:8080/",
          "height": 353
        }
      },
      "source": [
        "p = FindPrime(8)\n",
        "q = FindPrime(8)\n",
        "print (p, q)\n",
        "phiN = (p-1)*(q-1)\n",
        "eS = [i for i in range(3, 20) if GCD(i,phiN)==1]\n",
        "print (eS)\n",
        "e = eS[0]"
      ],
      "execution_count": 24,
      "outputs": [
        {
          "output_type": "stream",
          "text": [
            "651 COMPOSITE: 156\n",
            "465 COMPOSITE: 182\n",
            "367 PRIME\n",
            "367 PRIME\n",
            "385 COMPOSITE: 373\n",
            "447 COMPOSITE: 36\n",
            "403 COMPOSITE: 201\n",
            "621 COMPOSITE: 217\n",
            "745 COMPOSITE: 355\n",
            "723 COMPOSITE: 45\n",
            "697 COMPOSITE: 247\n",
            "705 COMPOSITE: 478\n",
            "723 COMPOSITE: 702\n",
            "515 COMPOSITE: 300\n",
            "671 COMPOSITE: 47\n",
            "671 COMPOSITE: 548\n",
            "727 PRIME\n",
            "727 PRIME\n",
            "367 727\n",
            "[5, 7, 13, 17, 19]\n"
          ],
          "name": "stdout"
        }
      ]
    },
    {
      "cell_type": "code",
      "metadata": {
        "id": "SJDKavcVazVS",
        "colab_type": "code",
        "outputId": "f93e6410-a20a-447a-a957-50c58acd4a1a",
        "colab": {
          "base_uri": "https://localhost:8080/",
          "height": 269
        }
      },
      "source": [
        "p=673\n",
        "q=547\n",
        "e=5\n",
        "blockSize = 8\n",
        "keys = GetKeys(p, q, e)\n",
        "print (keys)\n",
        "\n",
        "cip3 = Encrypt(\"DR\", keys[0], blockSize)\n",
        "PrintEncrypted(cip3)\n",
        "out = Decrypt(cip3, keys[1], blockSize )\n",
        "print (int(cip3,2))\n",
        "print(out, len(out),'\\n')\n",
        "\n",
        "cip4 = Encrypt(\"BIO\", keys[0], blockSize)\n",
        "PrintEncrypted(cip4)\n",
        "out = Decrypt(cip4, keys[1], blockSize )\n",
        "print (int(cip4,2))\n",
        "print(out, len(out),'\\n')\n",
        "\n",
        "xout=386398478110\n",
        "bxout = \"000101100111110111001001001101111100011110\"\n",
        "print(int(bxout, 2))"
      ],
      "execution_count": 25,
      "outputs": [
        {
          "output_type": "stream",
          "text": [
            "368131 366912 146765\n",
            "5 146765 366912 1\n",
            "((5, 368131), (146765, 368131))\n",
            "000101100111110111001001001101\n",
            "111100011110\n",
            "386398478110\n",
            "DR 2 \n",
            "\n",
            "001001101111001000101000011110\n",
            "101111101100000110101000110011\n",
            "101\n",
            "1403175013233938845\n",
            "BIO 3 \n",
            "\n",
            "386398478110\n"
          ],
          "name": "stdout"
        }
      ]
    }
  ]
}