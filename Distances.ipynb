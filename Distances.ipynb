{
  "nbformat": 4,
  "nbformat_minor": 0,
  "metadata": {
    "colab": {
      "name": "Distances.ipynb",
      "provenance": [],
      "collapsed_sections": [],
      "authorship_tag": "ABX9TyOTZ5Ul/dduDPd4k9Kiqd1k",
      "include_colab_link": true
    },
    "kernelspec": {
      "name": "python3",
      "display_name": "Python 3"
    },
    "language_info": {
      "name": "python"
    }
  },
  "cells": [
    {
      "cell_type": "markdown",
      "metadata": {
        "id": "view-in-github",
        "colab_type": "text"
      },
      "source": [
        "<a href=\"https://colab.research.google.com/github/everestso/47.53.59/blob/master/Distances.ipynb\" target=\"_parent\"><img src=\"https://colab.research.google.com/assets/colab-badge.svg\" alt=\"Open In Colab\"/></a>"
      ]
    },
    {
      "cell_type": "markdown",
      "metadata": {
        "id": "GShMZu_UJ8r7"
      },
      "source": [
        "https://stackoverflow.com/questions/19412462/getting-distance-between-two-points-based-on-latitude-longitude/"
      ]
    },
    {
      "cell_type": "code",
      "metadata": {
        "id": "kuDDdDdUIXjB"
      },
      "source": [
        "import numpy as np\n",
        "\n",
        "\n",
        "def Haversine(lat1,lon1,lat2,lon2, **kwarg):\n",
        "    \"\"\"\n",
        "    This uses the ‘haversine’ formula to calculate the great-circle distance between two points – that is, \n",
        "    the shortest distance over the earth’s surface – giving an ‘as-the-crow-flies’ distance between the points \n",
        "    (ignoring any hills they fly over, of course!).\n",
        "    Haversine\n",
        "    formula:    a = sin²(Δφ/2) + cos φ1 ⋅ cos φ2 ⋅ sin²(Δλ/2)\n",
        "    c = 2 ⋅ atan2( √a, √(1−a) )\n",
        "    d = R ⋅ c\n",
        "    where   φ is latitude, λ is longitude, R is earth’s radius (mean radius = 6,371km);\n",
        "    note that angles need to be in radians to pass to trig functions!\n",
        "    \"\"\"\n",
        "    R = 6371.0088\n",
        "    lat1,lon1,lat2,lon2 = map(np.radians, [lat1,lon1,lat2,lon2])\n",
        "\n",
        "    dlat = lat2 - lat1\n",
        "    dlon = lon2 - lon1\n",
        "    a = np.sin(dlat/2)**2 + np.cos(lat1) * np.cos(lat2) * np.sin(dlon/2) **2\n",
        "    c = 2 * np.arctan2(a**0.5, (1-a)**0.5)\n",
        "    d = R * c\n",
        "    return round(d,4)"
      ],
      "execution_count": null,
      "outputs": []
    },
    {
      "cell_type": "code",
      "metadata": {
        "id": "df-iUsmVIaFs"
      },
      "source": [
        "# Guatemala City = 14°36′48″N 90°32′7″W\n",
        "# Tegucigalpa    = 14°6′N 87°13′W\n",
        "# San Salvador   = 13°41′56″N 89°11′29″W"
      ],
      "execution_count": null,
      "outputs": []
    }
  ]
}