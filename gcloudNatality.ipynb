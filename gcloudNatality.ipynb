{
  "nbformat": 4,
  "nbformat_minor": 0,
  "metadata": {
    "environment": {
      "name": "tf2-2-2-gpu.2-2.m50",
      "type": "gcloud",
      "uri": "gcr.io/deeplearning-platform-release/tf2-2-2-gpu.2-2:m50"
    },
    "kernelspec": {
      "display_name": "Python 3",
      "language": "python",
      "name": "python3"
    },
    "language_info": {
      "codemirror_mode": {
        "name": "ipython",
        "version": 3
      },
      "file_extension": ".py",
      "mimetype": "text/x-python",
      "name": "python",
      "nbconvert_exporter": "python",
      "pygments_lexer": "ipython3",
      "version": "3.7.6"
    },
    "colab": {
      "name": "gcloudNatality.ipynb",
      "provenance": [],
      "collapsed_sections": [],
      "include_colab_link": true
    }
  },
  "cells": [
    {
      "cell_type": "markdown",
      "metadata": {
        "id": "view-in-github",
        "colab_type": "text"
      },
      "source": [
        "<a href=\"https://colab.research.google.com/github/everestso/47.53.59/blob/master/gcloudNatality.ipynb\" target=\"_parent\"><img src=\"https://colab.research.google.com/assets/colab-badge.svg\" alt=\"Open In Colab\"/></a>"
      ]
    },
    {
      "cell_type": "code",
      "metadata": {
        "id": "VwFzhw8pL0Ys",
        "colab_type": "code",
        "colab": {}
      },
      "source": [
        "#### !pip install --upgrade google-cloud-bigquery\n",
        "## Caused Error"
      ],
      "execution_count": null,
      "outputs": []
    },
    {
      "cell_type": "code",
      "metadata": {
        "id": "uIb4ef95MWdn",
        "colab_type": "code",
        "colab": {
          "base_uri": "https://localhost:8080/",
          "height": 136
        },
        "outputId": "b7f8a4bc-9920-45c7-970f-87028dbb23c3"
      },
      "source": [
        "from google.colab import drive\n",
        "drive.mount('/content/gdrive')\n",
        "\n",
        "#ensure the file is accessible\n",
        "!ls /content/gdrive/'My Drive'/'csuf'/'projects'/'GCP'\n",
        "\n",
        "import os\n",
        "os.environ[\"GOOGLE_APPLICATION_CREDENTIALS\"]=\"/content/gdrive/My Drive/csuf/projects/GCP/c264s20-557a598add94.json\"\n",
        "\n",
        "#ensure the path is set correctly\n",
        "!echo $GOOGLE_APPLICATION_CREDENTIALS"
      ],
      "execution_count": 10,
      "outputs": [
        {
          "output_type": "stream",
          "text": [
            "Drive already mounted at /content/gdrive; to attempt to forcibly remount, call drive.mount(\"/content/gdrive\", force_remount=True).\n",
            "c264s20-557a598add94.json  GCP.BigData.ML.Wk1Links.gdoc\n",
            "GCP.BigData.ML.gdoc\t   GCP.CoreInfrastructure.gdoc\n",
            "GCP.BigData.ML.Lab2.gdoc   GCP.ML.Special.gdoc\n",
            "GCP.BigData.ML.Lab3.gdoc   GCP.Notes.gdoc\n",
            "GCP.BigData.ML.Lab4.gdoc   public_datasets_one_pager.pdf\n",
            "/content/gdrive/My Drive/csuf/projects/GCP/c264s20-557a598add94.json\n"
          ],
          "name": "stdout"
        }
      ]
    },
    {
      "cell_type": "code",
      "metadata": {
        "id": "RNuOEgEUMiJc",
        "colab_type": "code",
        "colab": {}
      },
      "source": [
        "from google.cloud import bigquery\n",
        "\n",
        "client = bigquery.Client()"
      ],
      "execution_count": 5,
      "outputs": []
    },
    {
      "cell_type": "code",
      "metadata": {
        "id": "syKn5qbbL0Y0",
        "colab_type": "code",
        "colab": {
          "base_uri": "https://localhost:8080/",
          "height": 204
        },
        "outputId": "2bf649ad-892c-462a-cb21-5300c99602b0"
      },
      "source": [
        "sql = \"\"\"\n",
        "  SELECT\n",
        "    plurality,\n",
        "    COUNT(1) AS count,\n",
        "    year\n",
        "  FROM\n",
        "    `bigquery-public-data.samples.natality`\n",
        "  WHERE\n",
        "    NOT IS_NAN(plurality) AND plurality > 1\n",
        "  GROUP BY\n",
        "    plurality, year\n",
        "  ORDER BY\n",
        "    count DESC\n",
        "\"\"\"\n",
        "df = client.query(sql).to_dataframe()\n",
        "df.head()"
      ],
      "execution_count": 6,
      "outputs": [
        {
          "output_type": "execute_result",
          "data": {
            "text/html": [
              "<div>\n",
              "<style scoped>\n",
              "    .dataframe tbody tr th:only-of-type {\n",
              "        vertical-align: middle;\n",
              "    }\n",
              "\n",
              "    .dataframe tbody tr th {\n",
              "        vertical-align: top;\n",
              "    }\n",
              "\n",
              "    .dataframe thead th {\n",
              "        text-align: right;\n",
              "    }\n",
              "</style>\n",
              "<table border=\"1\" class=\"dataframe\">\n",
              "  <thead>\n",
              "    <tr style=\"text-align: right;\">\n",
              "      <th></th>\n",
              "      <th>plurality</th>\n",
              "      <th>count</th>\n",
              "      <th>year</th>\n",
              "    </tr>\n",
              "  </thead>\n",
              "  <tbody>\n",
              "    <tr>\n",
              "      <th>0</th>\n",
              "      <td>2</td>\n",
              "      <td>139209</td>\n",
              "      <td>2007</td>\n",
              "    </tr>\n",
              "    <tr>\n",
              "      <th>1</th>\n",
              "      <td>2</td>\n",
              "      <td>138866</td>\n",
              "      <td>2008</td>\n",
              "    </tr>\n",
              "    <tr>\n",
              "      <th>2</th>\n",
              "      <td>2</td>\n",
              "      <td>137239</td>\n",
              "      <td>2006</td>\n",
              "    </tr>\n",
              "    <tr>\n",
              "      <th>3</th>\n",
              "      <td>2</td>\n",
              "      <td>133285</td>\n",
              "      <td>2005</td>\n",
              "    </tr>\n",
              "    <tr>\n",
              "      <th>4</th>\n",
              "      <td>2</td>\n",
              "      <td>132344</td>\n",
              "      <td>2004</td>\n",
              "    </tr>\n",
              "  </tbody>\n",
              "</table>\n",
              "</div>"
            ],
            "text/plain": [
              "   plurality   count  year\n",
              "0          2  139209  2007\n",
              "1          2  138866  2008\n",
              "2          2  137239  2006\n",
              "3          2  133285  2005\n",
              "4          2  132344  2004"
            ]
          },
          "metadata": {
            "tags": []
          },
          "execution_count": 6
        }
      ]
    },
    {
      "cell_type": "code",
      "metadata": {
        "id": "BoV_Kj3XL0Y2",
        "colab_type": "code",
        "colab": {
          "base_uri": "https://localhost:8080/",
          "height": 458
        },
        "outputId": "fb658c15-c086-486e-e964-6004d252fb05"
      },
      "source": [
        "pivot_table = df.pivot(index='year', columns='plurality', values='count')\n",
        "pivot_table.plot(kind='bar', stacked=True, figsize=(15,7));"
      ],
      "execution_count": 7,
      "outputs": [
        {
          "output_type": "display_data",
          "data": {
            "image/png": "[encoded data removed]",
            "text/plain": [
              "<Figure size 1080x504 with 1 Axes>"
            ]
          },
          "metadata": {
            "tags": [],
            "needs_background": "light"
          }
        }
      ]
    },
    {
      "cell_type": "code",
      "metadata": {
        "id": "GFSGGOq8L0Y6",
        "colab_type": "code",
        "colab": {
          "base_uri": "https://localhost:8080/",
          "height": 295
        },
        "outputId": "adee2766-72b2-4f01-a864-4741538fd351"
      },
      "source": [
        "sql = \"\"\"\n",
        "  SELECT\n",
        "    is_male,\n",
        "    AVG(weight_pounds) AS ave_weight\n",
        "  FROM\n",
        "    `bigquery-public-data.samples.natality`\n",
        "  GROUP BY\n",
        "    is_male\n",
        "\"\"\"\n",
        "df = client.query(sql).to_dataframe()\n",
        "df.plot(x='is_male', y='ave_weight', kind='bar');"
      ],
      "execution_count": 8,
      "outputs": [
        {
          "output_type": "display_data",
          "data": {
            "image/png": "[encoded data removed]",
            "text/plain": [
              "<Figure size 432x288 with 1 Axes>"
            ]
          },
          "metadata": {
            "tags": [],
            "needs_background": "light"
          }
        }
      ]
    },
    {
      "cell_type": "code",
      "metadata": {
        "id": "EY6cP7SLL0Y8",
        "colab_type": "code",
        "colab": {
          "base_uri": "https://localhost:8080/",
          "height": 283
        },
        "outputId": "813a59e7-0b3e-4caa-cd2f-a1c446bdbde6"
      },
      "source": [
        "sql = \"\"\"\n",
        "  SELECT\n",
        "    gestation_weeks,\n",
        "    AVG(weight_pounds) AS ave_weight\n",
        "  FROM\n",
        "    `bigquery-public-data.samples.natality`\n",
        "  WHERE\n",
        "    NOT IS_NAN(gestation_weeks) AND gestation_weeks <> 99\n",
        "  GROUP BY\n",
        "    gestation_weeks\n",
        "  ORDER BY\n",
        "    gestation_weeks\n",
        "\"\"\"\n",
        "df = client.query(sql).to_dataframe()\n",
        "df.plot(x='gestation_weeks', y='ave_weight', kind='bar');"
      ],
      "execution_count": 9,
      "outputs": [
        {
          "output_type": "display_data",
          "data": {
            "image/png": "[encoded data removed]",
            "text/plain": [
              "<Figure size 432x288 with 1 Axes>"
            ]
          },
          "metadata": {
            "tags": [],
            "needs_background": "light"
          }
        }
      ]
    }
  ]
}