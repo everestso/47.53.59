{
  "nbformat": 4,
  "nbformat_minor": 0,
  "metadata": {
    "colab": {
      "name": "Sampling.ipynb",
      "provenance": [],
      "collapsed_sections": [],
      "authorship_tag": "ABX9TyMNAM2BSlDrQ2GqO2j6GZtr",
      "include_colab_link": true
    },
    "kernelspec": {
      "name": "python3",
      "display_name": "Python 3"
    },
    "language_info": {
      "name": "python"
    }
  },
  "cells": [
    {
      "cell_type": "markdown",
      "metadata": {
        "id": "view-in-github",
        "colab_type": "text"
      },
      "source": [
        "<a href=\"https://colab.research.google.com/github/everestso/47.53.59/blob/master/Sampling.ipynb\" target=\"_parent\"><img src=\"https://colab.research.google.com/assets/colab-badge.svg\" alt=\"Open In Colab\"/></a>"
      ]
    },
    {
      "cell_type": "markdown",
      "metadata": {
        "id": "82OTej1OP7df"
      },
      "source": [
        "# Sampling Experiments"
      ]
    },
    {
      "cell_type": "code",
      "metadata": {
        "id": "Rnuitv4kPyk5"
      },
      "source": [
        "import random\n",
        "import matplotlib.pyplot as plt\n",
        "\n",
        "import numpy as np\n",
        "import scipy\n",
        "import seaborn as sns"
      ],
      "execution_count": 1,
      "outputs": []
    },
    {
      "cell_type": "code",
      "metadata": {
        "colab": {
          "base_uri": "https://localhost:8080/"
        },
        "id": "LdAQAIRyQBba",
        "outputId": "a170caee-c00c-4192-84a1-f5acad072e3f"
      },
      "source": [
        "N=268\n",
        "E=10000\n",
        "Stats = [len(set([random.randrange(1,61) for i in range(N)])) for j in range(E)]\n",
        "\n",
        "print(\"Percent of times 60 items seen: \", sum([x==60 for x in Stats])/len(Stats))\n",
        "print(\"Average number seen: \" , sum(Stats)/len(Stats))\n"
      ],
      "execution_count": null,
      "outputs": [
        {
          "output_type": "stream",
          "text": [
            "Percent of times 60 items seen:  0.5146\n",
            "Average number seen:  59.3509\n"
          ],
          "name": "stdout"
        }
      ]
    },
    {
      "cell_type": "code",
      "metadata": {
        "id": "rIzdlXLg48Dy"
      },
      "source": [
        "E1 = 1000\n",
        "Experiment = lambda sampleSize, numberOfExperiments: [len(set([random.randrange(1,61) \n",
        "     for i in range(sampleSize)])) for j in range(numberOfExperiments)]\n",
        "Result = lambda e: sum([singleExperiment==60 for singleExperiment in e])/len(e)\n",
        "ExperimentResults = [Result(Experiment(N, E1)) for N in range(1, 1001) ]"
      ],
      "execution_count": null,
      "outputs": []
    },
    {
      "cell_type": "code",
      "metadata": {
        "colab": {
          "base_uri": "https://localhost:8080/",
          "height": 265
        },
        "id": "bzQ5wMcg75NI",
        "outputId": "fd70181e-253b-470e-fad1-2e6fb32a60f9"
      },
      "source": [
        "plt.plot(range(1,1001), ExperimentResults)\n",
        "plt.show()"
      ],
      "execution_count": null,
      "outputs": [
        {
          "output_type": "display_data",
          "data": {
            "image/png": "[encoded data removed]",
            "text/plain": [
              "<Figure size 432x288 with 1 Axes>"
            ]
          },
          "metadata": {
            "tags": [],
            "needs_background": "light"
          }
        }
      ]
    },
    {
      "cell_type": "code",
      "metadata": {
        "colab": {
          "base_uri": "https://localhost:8080/",
          "height": 513
        },
        "id": "T5ll1U7qJvkq",
        "outputId": "31ffa9ae-d278-4532-a3b8-563414ed958f"
      },
      "source": [
        "import numpy as np\n",
        "import scipy\n",
        "import matplotlib.pyplot as plt\n",
        "import seaborn as sns\n",
        "\n",
        "x = np.random.randn(10000) # generate samples from normal distribution (discrete data)\n",
        "norm_cdf = scipy.stats.norm.cdf(x) # calculate the cdf - also discrete\n",
        "\n",
        "# plot the cdf\n",
        "plt.scatter(x, norm_cdf)\n",
        "plt.show()\n",
        "sns.lineplot(x=x, y=norm_cdf)\n",
        "plt.show()"
      ],
      "execution_count": 7,
      "outputs": [
        {
          "output_type": "display_data",
          "data": {
            "image/png": "[encoded data removed]",
            "text/plain": [
              "<Figure size 432x288 with 1 Axes>"
            ]
          },
          "metadata": {
            "tags": [],
            "needs_background": "light"
          }
        },
        {
          "output_type": "display_data",
          "data": {
            "image/png": "[encoded data removed]",
            "text/plain": [
              "<Figure size 432x288 with 1 Axes>"
            ]
          },
          "metadata": {
            "tags": [],
            "needs_background": "light"
          }
        }
      ]
    }
  ]
}