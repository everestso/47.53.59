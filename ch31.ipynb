{
  "nbformat": 4,
  "nbformat_minor": 0,
  "metadata": {
    "colab": {
      "name": "ch31.ipynb",
      "version": "0.3.2",
      "provenance": [],
      "collapsed_sections": [],
      "include_colab_link": true
    },
    "kernelspec": {
      "name": "python3",
      "display_name": "Python 3"
    }
  },
  "cells": [
    {
      "cell_type": "markdown",
      "metadata": {
        "id": "view-in-github",
        "colab_type": "text"
      },
      "source": [
        "<a href=\"https://colab.research.google.com/github/everestso/61.67.71.73/blob/master/ch31.ipynb\" target=\"_parent\"><img src=\"https://colab.research.google.com/assets/colab-badge.svg\" alt=\"Open In Colab\"/></a>"
      ]
    },
    {
      "cell_type": "code",
      "metadata": {
        "id": "uK5A0Tg7QGa3",
        "colab_type": "code",
        "colab": {}
      },
      "source": [
        "### Extend Euclid\n",
        "def EE(a, b):\n",
        "  if b == 0:\n",
        "    return (a, 1, 0)\n",
        "  else:\n",
        "    (dPrime, xPrime, yPrime) = EE(b, a % b)\n",
        "    (d, x, y) = (dPrime, yPrime, xPrime - (a//b*yPrime))\n",
        "    return (d, x, y)\n",
        "  \n",
        "  \n"
      ],
      "execution_count": 0,
      "outputs": []
    },
    {
      "cell_type": "code",
      "metadata": {
        "id": "ZpV3Vml7SHnL",
        "colab_type": "code",
        "outputId": "f1ecbeeb-f0bb-45e8-9712-45a26ea444e8",
        "colab": {
          "base_uri": "https://localhost:8080/",
          "height": 67
        }
      },
      "source": [
        "a = 12; b=15\n",
        "print (a, b, EE( a, b))\n",
        "a= 125; b=300\n",
        "o = EE( a, b)\n",
        "print (a, b, o)\n",
        "print (a*o[1]+b*o[2])\n"
      ],
      "execution_count": 2,
      "outputs": [
        {
          "output_type": "stream",
          "text": [
            "12 15 (3, -1, 1)\n",
            "125 300 (25, 5, -2)\n",
            "25\n"
          ],
          "name": "stdout"
        }
      ]
    },
    {
      "cell_type": "code",
      "metadata": {
        "id": "ehdEWfj1S6cC",
        "colab_type": "code",
        "outputId": "c4bcf61b-0e3d-40e2-a278-40fcada1ce8f",
        "colab": {
          "base_uri": "https://localhost:8080/",
          "height": 34
        }
      },
      "source": [
        "def MLE(a, b, n):\n",
        "  out = []\n",
        "  (d, xPrime, yPrime) = EE(a, n)\n",
        "  if ( b % d == 0 ):\n",
        "    x0 = (xPrime*b//d) % n\n",
        "    for i in range(d): \n",
        "      out += [(x0 + i*(n//d)) % n ]\n",
        "  return out\n",
        "    \n",
        "print (MLE(14,30,100))\n",
        "\n"
      ],
      "execution_count": 3,
      "outputs": [
        {
          "output_type": "stream",
          "text": [
            "[95, 45]\n"
          ],
          "name": "stdout"
        }
      ]
    },
    {
      "cell_type": "code",
      "metadata": {
        "id": "vcBWXXQJVPr2",
        "colab_type": "code",
        "outputId": "395aed15-c17a-4e2e-8cf6-e855976d6571",
        "colab": {
          "base_uri": "https://localhost:8080/",
          "height": 67
        }
      },
      "source": [
        "p=11;  q=29; e=3\n",
        "\n",
        "n = p * q\n",
        "phiN = (p-1)*(q-1)\n",
        "d = MLE(e, 1, phiN)[0]\n",
        "print (n, phiN, d)\n",
        "\n",
        "message = 318\n",
        "c = message**e%n\n",
        "print (c)\n",
        "decrypted = c**d%n\n",
        "print (decrypted)"
      ],
      "execution_count": 4,
      "outputs": [
        {
          "output_type": "stream",
          "text": [
            "319 280 187\n",
            "318\n",
            "318\n"
          ],
          "name": "stdout"
        }
      ]
    },
    {
      "cell_type": "code",
      "metadata": {
        "id": "ZGweY_VpXbF3",
        "colab_type": "code",
        "outputId": "9f8d3408-f9ff-4945-9661-ed861ad58a9a",
        "colab": {
          "base_uri": "https://localhost:8080/",
          "height": 84
        }
      },
      "source": [
        "p=3;  q=5; e=3\n",
        "\n",
        "n = p * q\n",
        "phiN = (p-1)*(q-1)\n",
        "d = MLE(e, 1, phiN)[0]\n",
        "print (n, phiN, d)\n",
        "print (e,d,phiN,e*d % phiN)\n",
        "message = 3\n",
        "c = message**e%n\n",
        "print (c)\n",
        "decrypted = c**d%n\n",
        "print (decrypted)"
      ],
      "execution_count": 5,
      "outputs": [
        {
          "output_type": "stream",
          "text": [
            "15 8 3\n",
            "3 3 8 1\n",
            "12\n",
            "3\n"
          ],
          "name": "stdout"
        }
      ]
    },
    {
      "cell_type": "code",
      "metadata": {
        "id": "o5huzto5aAwI",
        "colab_type": "code",
        "outputId": "6a444bfd-54d1-48f6-8281-b45123acea7e",
        "colab": {
          "base_uri": "https://localhost:8080/",
          "height": 50
        }
      },
      "source": [
        "p=13;  q=17; e=5\n",
        "\n",
        "n = p * q\n",
        "phiN = (p-1)*(q-1)\n",
        "d = MLE(e, 1, phiN)[0]\n",
        "print (n, phiN, d)\n",
        "print (e,d,phiN,e*d % phiN)\n",
        "\n",
        "PUBLIC = (e,n)\n",
        "PRIVATE = (d,n)"
      ],
      "execution_count": 6,
      "outputs": [
        {
          "output_type": "stream",
          "text": [
            "221 192 77\n",
            "5 77 192 1\n"
          ],
          "name": "stdout"
        }
      ]
    },
    {
      "cell_type": "code",
      "metadata": {
        "id": "LVHldOj6bJkA",
        "colab_type": "code",
        "outputId": "14ed33da-fd8e-421f-e514-45a765bfeb9b",
        "colab": {
          "base_uri": "https://localhost:8080/",
          "height": 67
        }
      },
      "source": [
        "message = ord('D')\n",
        "c = message**e%n\n",
        "decrypted = c**d%n\n",
        "print (\"MESSAGE: \", message)\n",
        "print (\"ENCRYPTED: \", c)\n",
        "print (\"DECRYPTED: \", decrypted)"
      ],
      "execution_count": 7,
      "outputs": [
        {
          "output_type": "stream",
          "text": [
            "MESSAGE:  68\n",
            "ENCRYPTED:  204\n",
            "DECRYPTED:  68\n"
          ],
          "name": "stdout"
        }
      ]
    },
    {
      "cell_type": "code",
      "metadata": {
        "id": "5HGjK2Uni8Lb",
        "colab_type": "code",
        "outputId": "38956e4c-f0c8-41c8-cb60-d07bf2feb165",
        "colab": {
          "base_uri": "https://localhost:8080/",
          "height": 50
        }
      },
      "source": [
        "def ME(a, b, n):\n",
        "  c = 0\n",
        "  d = 1\n",
        "  bVector = bin(b)\n",
        "  for i in range(len(bVector)):\n",
        "    c *= 2\n",
        "    d = (d*d) % n\n",
        "    if (bVector[i]=='1'):\n",
        "      c += 1\n",
        "      d = (d * a) % n\n",
        "  return d\n",
        "\n",
        "def ME2(a, b, n):\n",
        "  c = 0\n",
        "  d = 1\n",
        "  bVector = bin(b)[:1:-1]\n",
        "  k = len(bVector)-1\n",
        "  print (bVector, bin(b))\n",
        "  for i in range(k,-1,-1):\n",
        "    c *= 2\n",
        "    d = (d*d) % n\n",
        "    if (bVector[i]=='1'):\n",
        "      c += 1\n",
        "      d = (d * a) % n\n",
        "  return d\n",
        "\n",
        "a=111; b=113; n=97\n",
        "a=2; b=521; n=5217\n",
        "print (a**b%n, ME(a, b, n), ME2(a, b, n))\n"
      ],
      "execution_count": 8,
      "outputs": [
        {
          "output_type": "stream",
          "text": [
            "1001000001 0b1000001001\n",
            "2312 2312 2312\n"
          ],
          "name": "stdout"
        }
      ]
    },
    {
      "cell_type": "code",
      "metadata": {
        "id": "YjH3O6MvgebI",
        "colab_type": "code",
        "outputId": "6ec825d8-6992-4388-ca7b-82e960b28d2c",
        "colab": {
          "base_uri": "https://localhost:8080/",
          "height": 50
        }
      },
      "source": [
        "p, q, e = (7, 13, 5)\n",
        "p, q, e = (13, 31, 7)\n",
        "\n",
        "n = p * q\n",
        "phiN = (p-1)*(q-1)\n",
        "d = MLE(e, 1, phiN)[0]\n",
        "print (n, phiN, d)\n",
        "print (e,d,phiN,e*d % phiN)\n",
        "\n",
        "PUBLIC = (e,n)\n",
        "PRIVATE = (d,n)"
      ],
      "execution_count": 9,
      "outputs": [
        {
          "output_type": "stream",
          "text": [
            "403 360 103\n",
            "7 103 360 1\n"
          ],
          "name": "stdout"
        }
      ]
    },
    {
      "cell_type": "code",
      "metadata": {
        "id": "VwjrRIElgXFX",
        "colab_type": "code",
        "outputId": "646c9917-50be-48d9-fd9a-7095f959bf5b",
        "colab": {
          "base_uri": "https://localhost:8080/",
          "height": 67
        }
      },
      "source": [
        "message = ord('Q')-ord('A') + 1\n",
        "c = message**e%n\n",
        "decrypted = c**d%n\n",
        "print (\"MESSAGE: \", message)\n",
        "print (\"ENCRYPTED: \", c)\n",
        "print (\"DECRYPTED: \", decrypted)"
      ],
      "execution_count": 10,
      "outputs": [
        {
          "output_type": "stream",
          "text": [
            "MESSAGE:  17\n",
            "ENCRYPTED:  43\n",
            "DECRYPTED:  17\n"
          ],
          "name": "stdout"
        }
      ]
    },
    {
      "cell_type": "code",
      "metadata": {
        "id": "ji_HaW0FISbf",
        "colab_type": "code",
        "colab": {}
      },
      "source": [
        "# GCD\n",
        "\n",
        "GCD = lambda a, b: GCD(b, a%b) if b else a\n",
        "Z = lambda n: sorted({i%n for i in range(10000)})\n",
        "Za = lambda a,n: sorted({i*a%n for i in range(1000)})\n",
        "\n",
        "Zx = lambda n: sorted ({i%n for i in range(10000) if GCD(i,n)==1})\n",
        "Zxa = lambda a,n: sorted ({a**i%n for i in range(10000) if GCD(a**i,n)==1})"
      ],
      "execution_count": 0,
      "outputs": []
    },
    {
      "cell_type": "code",
      "metadata": {
        "id": "4AdUfMlJKHPb",
        "colab_type": "code",
        "outputId": "7e2a143a-cb94-46e5-9628-40a3cff5b5c7",
        "colab": {
          "base_uri": "https://localhost:8080/",
          "height": 101
        }
      },
      "source": [
        "print(Z(10))\n",
        "\n",
        "print (Za(5,10))\n",
        "\n",
        "print (len(Zx(1024)))\n",
        "print (Zxa(127,1024))\n",
        "print (Zx(15))"
      ],
      "execution_count": 12,
      "outputs": [
        {
          "output_type": "stream",
          "text": [
            "[0, 1, 2, 3, 4, 5, 6, 7, 8, 9]\n",
            "[0, 5]\n",
            "512\n",
            "[1, 127, 257, 383, 513, 639, 769, 895]\n",
            "[1, 2, 4, 7, 8, 11, 13, 14]\n"
          ],
          "name": "stdout"
        }
      ]
    },
    {
      "cell_type": "code",
      "metadata": {
        "id": "TRTYrgzKBHXe",
        "colab_type": "code",
        "outputId": "99d3c768-d694-46f4-b580-c62c3d580a0f",
        "colab": {
          "base_uri": "https://localhost:8080/",
          "height": 118
        }
      },
      "source": [
        "#\n",
        "# Chinese Remainder Theorem\n",
        "\n",
        "import numpy as np\n",
        "A = [2, 3, 2]\n",
        "N = [3, 5, 7]\n",
        "\n",
        "M = [np.prod(N)//N[i] for i in range(len(A))]\n",
        "Minverse = [MLE(M[i], 1, N[i])[0] for i in range(len(A))]\n",
        "\n",
        "print (\"M: \", M)\n",
        "print (\"Minverse: \", Minverse)\n",
        "\n",
        "C = [M[i]*(Minverse[i] % N[i]) for i in range(len(A))]\n",
        "print (\"C: \", C)\n",
        "\n",
        "AC = [A[i]*C[i] for i in range(len(A))]\n",
        "\n",
        "answer = sum(AC) % np.prod(N)\n",
        "print (\"AiCi: \", AC)\n",
        "print (\"Sum AiCi mod n: \", answer)\n",
        "\n",
        "output = [answer % N[i] for i in range(len(A))]\n",
        "\n",
        "print (\"Answer mod Ni: \", output)"
      ],
      "execution_count": 13,
      "outputs": [
        {
          "output_type": "stream",
          "text": [
            "M:  [35, 21, 15]\n",
            "Minverse:  [2, 1, 1]\n",
            "C:  [70, 21, 15]\n",
            "AiCi:  [140, 63, 30]\n",
            "Sum AiCi mod n:  23\n",
            "Answer mod Ni:  [2, 3, 2]\n"
          ],
          "name": "stdout"
        }
      ]
    },
    {
      "cell_type": "code",
      "metadata": {
        "id": "DZ24rmmgKLG0",
        "colab_type": "code",
        "outputId": "f1d58d6c-e087-48c6-bd10-3601079e9948",
        "colab": {
          "base_uri": "https://localhost:8080/",
          "height": 118
        }
      },
      "source": [
        "A1 = [1, 2, 2, 2, 2, 2, 2, 2]\n",
        "A2 = [1, 1, 1, 3, 3, 3, 3, 3]\n",
        "A2b = [5, 5, 9]\n",
        "A = A2b\n",
        "N1 = [2, 3, 5, 7, 11, 13, 17, 19]\n",
        "N2b = [47, 53, 59]\n",
        "N = N2b\n",
        "\n",
        "M = [np.prod(N)//N[i] for i in range(len(A))]\n",
        "Minverse = [MLE(M[i], 1, N[i])[0] for i in range(len(A))]\n",
        "\n",
        "print (\"M: \", M)\n",
        "print (\"Minverse: \", Minverse)\n",
        "\n",
        "C = [M[i]*(Minverse[i] % N[i]) for i in range(len(A))]\n",
        "print (\"C: \", C)\n",
        "\n",
        "AC = [A[i]*C[i] for i in range(len(A))]\n",
        "\n",
        "answer = sum(AC) % np.prod(N)\n",
        "print (\"AiCi: \", AC)\n",
        "print (\"Sum AiCi mod n: \", answer)\n",
        "\n",
        "output = [answer % N[i] for i in range(len(A))]\n",
        "\n",
        "print (\"Answer mod Ni: \", output)\n",
        "\n"
      ],
      "execution_count": 14,
      "outputs": [
        {
          "output_type": "stream",
          "text": [
            "M:  [3127, 2773, 2491]\n",
            "Minverse:  [32, 25, 50]\n",
            "C:  [100064, 69325, 124550]\n",
            "AiCi:  [500320, 346625, 1120950]\n",
            "Sum AiCi mod n:  57298\n",
            "Answer mod Ni:  [5, 5, 9]\n"
          ],
          "name": "stdout"
        }
      ]
    },
    {
      "cell_type": "code",
      "metadata": {
        "id": "qkRq1_G5ExAg",
        "colab_type": "code",
        "outputId": "eabe9838-2098-4e3c-80a1-8aea427e57ed",
        "colab": {
          "base_uri": "https://localhost:8080/",
          "height": 722
        }
      },
      "source": [
        "def ChineseRemainder(A, N):\n",
        "  M = [np.prod(N)//N[i] for i in range(len(A))]\n",
        "  Minverse = [MLE(M[i], 1, N[i])[0] for i in range(len(A))]\n",
        "\n",
        "  print (\"M: \", M)\n",
        "  print (\"Minverse: \", Minverse)\n",
        "\n",
        "  C = [M[i]*(Minverse[i] % N[i]) for i in range(len(A))]\n",
        "  print (\"C: \", C)\n",
        "\n",
        "  AC = [A[i]*C[i] for i in range(len(A))]\n",
        "\n",
        "  answer = sum(AC) % np.prod(N)\n",
        "  return answer\n",
        "\n",
        "N = [47, 53, 59]\n",
        "As = [ (4, 2, 3), (5, 5, 9), (7, 77, 777), (10, 9, 14) ]\n",
        "\n",
        "Answers = [(a,ChineseRemainder(a, N)) for a in As]\n",
        "print (\"\\nANSWERS\")\n",
        "print (N, Answers,\"\\n\")\n",
        "\n",
        "N = [3, 5, 7]\n",
        "As = [ (2, 3, 2), (3, 2, 3), (3, 1, 1) ]\n",
        "\n",
        "Answers = [(a,ChineseRemainder(a, N)) for a in As]\n",
        "print (\"\\nANSWERS\")\n",
        "print (N, Answers,\"\\n\")\n",
        "\n",
        "N = [61, 67, 71, 73]\n",
        "As = [ (18, 21, 2, 25), (16, 1, 18, 11), (8, 6, 2, 3) ]\n",
        "\n",
        "Answers = [(a,ChineseRemainder(a, N)) for a in As]\n",
        "print (\"\\nANSWERS\")\n",
        "print (N, Answers,\"\\n\")\n",
        "\n"
      ],
      "execution_count": 16,
      "outputs": [
        {
          "output_type": "stream",
          "text": [
            "M:  [3127, 2773, 2491]\n",
            "Minverse:  [32, 25, 50]\n",
            "C:  [100064, 69325, 124550]\n",
            "M:  [3127, 2773, 2491]\n",
            "Minverse:  [32, 25, 50]\n",
            "C:  [100064, 69325, 124550]\n",
            "M:  [3127, 2773, 2491]\n",
            "Minverse:  [32, 25, 50]\n",
            "C:  [100064, 69325, 124550]\n",
            "M:  [3127, 2773, 2491]\n",
            "Minverse:  [32, 25, 50]\n",
            "C:  [100064, 69325, 124550]\n",
            "\n",
            "ANSWERS\n",
            "[47, 53, 59] [((4, 2, 3), 30742), ((5, 5, 9), 57298), ((7, 77, 777), 82492), ((10, 9, 14), 134947)] \n",
            "\n",
            "M:  [35, 21, 15]\n",
            "Minverse:  [2, 1, 1]\n",
            "C:  [70, 21, 15]\n",
            "M:  [35, 21, 15]\n",
            "Minverse:  [2, 1, 1]\n",
            "C:  [70, 21, 15]\n",
            "M:  [35, 21, 15]\n",
            "Minverse:  [2, 1, 1]\n",
            "C:  [70, 21, 15]\n",
            "\n",
            "ANSWERS\n",
            "[3, 5, 7] [((2, 3, 2), 23), ((3, 2, 3), 87), ((3, 1, 1), 36)] \n",
            "\n",
            "M:  [347261, 316163, 298351, 290177]\n",
            "Minverse:  [5, 20, 8, 37]\n",
            "C:  [1736305, 6323260, 2386808, 10736549]\n",
            "M:  [347261, 316163, 298351, 290177]\n",
            "Minverse:  [5, 20, 8, 37]\n",
            "C:  [1736305, 6323260, 2386808, 10736549]\n",
            "M:  [347261, 316163, 298351, 290177]\n",
            "Minverse:  [5, 20, 8, 37]\n",
            "C:  [1736305, 6323260, 2386808, 10736549]\n",
            "\n",
            "ANSWERS\n",
            "[61, 67, 71, 73] [((18, 21, 2, 25), 13570871), ((16, 1, 18, 11), 4522434), ((8, 6, 2, 3), 4081579)] \n",
            "\n"
          ],
          "name": "stdout"
        }
      ]
    }
  ]
}