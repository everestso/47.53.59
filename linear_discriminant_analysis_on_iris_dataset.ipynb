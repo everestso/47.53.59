{
  "nbformat": 4,
  "nbformat_minor": 0,
  "metadata": {
    "kernelspec": {
      "display_name": "Python 3",
      "language": "python",
      "name": "python3"
    },
    "language_info": {
      "codemirror_mode": {
        "name": "ipython",
        "version": 3
      },
      "file_extension": ".py",
      "mimetype": "text/x-python",
      "name": "python",
      "nbconvert_exporter": "python",
      "pygments_lexer": "ipython3",
      "version": "3.6.6"
    },
    "colab": {
      "name": "linear-discriminant-analysis-on-iris-dataset.ipynb",
      "provenance": [],
      "collapsed_sections": [],
      "include_colab_link": true
    }
  },
  "cells": [
    {
      "cell_type": "markdown",
      "metadata": {
        "id": "view-in-github",
        "colab_type": "text"
      },
      "source": [
        "<a href=\"https://colab.research.google.com/github/everestso/47.53.59/blob/master/linear_discriminant_analysis_on_iris_dataset.ipynb\" target=\"_parent\"><img src=\"https://colab.research.google.com/assets/colab-badge.svg\" alt=\"Open In Colab\"/></a>"
      ]
    },
    {
      "cell_type": "markdown",
      "metadata": {
        "id": "4gTvfCFkBUih"
      },
      "source": [
        "https://www.kaggle.com/harshamodali/linear-discriminant-analysis-on-iris-dataset"
      ]
    },
    {
      "cell_type": "markdown",
      "metadata": {
        "_uuid": "b9bc3a6dc20c9e1a3e0415fbd10d69429a62c469",
        "id": "Eg_XHgUiBOW-"
      },
      "source": [
        "Two-class **Fisher linear discriminant algorithm (LDA)** on the Iris dataset (http://en.wikipedia.org/wiki/Iris_flower_data_set) and the scatter plot in one dimension of the three two-way LDA data projections possible from the three categories (setosa, versicolor, virginica). Computed and reported the best possible thresholds for linear separation (in each of the three cases)."
      ]
    },
    {
      "cell_type": "code",
      "metadata": {
        "_cell_guid": "b1076dfc-b9ad-4769-8c92-a6c4dae69d19",
        "_uuid": "8f2839f25d086af736a60e9eeb907d3b93b6e0e5",
        "id": "MV8IjhZpBOXX"
      },
      "source": [
        "from sklearn import datasets\n",
        "from sklearn.discriminant_analysis import LinearDiscriminantAnalysis as LDA\n",
        "import matplotlib.pyplot as plt\n",
        "import numpy as np\n",
        "iris = datasets.load_iris();\n",
        "setosa_versicolor = iris.data[0:100,0:3]\n",
        "setosa_versicolor_targets = iris.target[0:100]\n",
        "versicolor_virginica = iris.data[50:150,0:3]\n",
        "versicolor_virginica_targets = iris.target[50:150]\n",
        "setosa_virginica = np.concatenate((iris.data[0:50,0:3], iris.data[100:150,0:3]), axis=0)\n",
        "setosa_virginica_targets = np.concatenate((iris.target[0:50], iris.target[100:150]), axis=0)\n",
        "target_names = iris.target_names\n",
        "t1 = [\"setosa\",\"versicolor\"]\n",
        "t2 = [\"versicolor\",\"virginica\"]\n",
        "t3 = [\"setosa\",\"virginica\"]\n",
        "lda = LDA(n_components=1)"
      ],
      "execution_count": 1,
      "outputs": []
    },
    {
      "cell_type": "code",
      "metadata": {
        "_cell_guid": "79c7e3d0-c299-4dcb-8224-4455121ee9b0",
        "_uuid": "d629ff2d2480ee46fbb7e2d37f6b5fab8052498a",
        "id": "QjuqwxqPBOXZ"
      },
      "source": [
        "def LDA_result(samples,target):\n",
        "    return lda.fit(samples,target).transform(samples)\n",
        "\n",
        "def threshold(LDA_result, targets,index_1, index_2):\n",
        "    mean_class_1 = LDA_result[targets==index_1,0]\n",
        "    mean_class_2 = LDA_result[targets==index_2,0]\n",
        "    result_mean = (np.mean(mean_class_1) + np.mean(mean_class_1))/2\n",
        "    return result_mean.round(decimals=15)\n",
        "\n",
        "def scatterPlot(LDA_result,targets,index_1, index_2,text):\n",
        "    for color, i, target_name in zip(['red', 'blue'], [index_1, index_2], target_names):\n",
        "        plt.scatter(LDA_result[targets==i,0], np.zeros([50]), color=color,\n",
        "        label=target_name)\n",
        "        plt.title(\"Scatter plot for \" + text + \" classification\")\n",
        "    plt.show()"
      ],
      "execution_count": 2,
      "outputs": []
    },
    {
      "cell_type": "code",
      "metadata": {
        "_uuid": "2c44b4ee00faa1078b085e08a8e161f49eac7e54",
        "colab": {
          "base_uri": "https://localhost:8080/",
          "height": 298
        },
        "id": "52V60RfaBOXZ",
        "outputId": "2b6f37ee-36df-4b27-f22a-1838942a838e"
      },
      "source": [
        "lda_result = LDA_result(setosa_versicolor,setosa_versicolor_targets)\n",
        "scatterPlot(lda_result,setosa_versicolor_targets,0,1,\"setosa and versicolor\")\n",
        "t = threshold(LDA_result(setosa_versicolor,setosa_versicolor_targets),setosa_versicolor_targets,0,1)\n",
        "print(\"Threshold for setosa and versicolor classification: \" + str(t))"
      ],
      "execution_count": 3,
      "outputs": [
        {
          "output_type": "display_data",
          "data": {
            "image/png": "[encoded data removed]",
            "text/plain": [
              "<Figure size 432x288 with 1 Axes>"
            ]
          },
          "metadata": {
            "tags": [],
            "needs_background": "light"
          }
        },
        {
          "output_type": "stream",
          "text": [
            "Threshold for setosa and versicolor classification: -4.805763011979293\n"
          ],
          "name": "stdout"
        }
      ]
    },
    {
      "cell_type": "code",
      "metadata": {
        "_uuid": "603e7f474806d6b0fa6c2bf63cad28bbbfc80c4e",
        "colab": {
          "base_uri": "https://localhost:8080/",
          "height": 298
        },
        "id": "qJMX6hM6BOXb",
        "outputId": "226333de-c8be-4c8c-9e56-70b942cef37e"
      },
      "source": [
        "lda_result = LDA_result(versicolor_virginica,versicolor_virginica_targets)\n",
        "scatterPlot(lda_result,versicolor_virginica_targets,1,2,\"versicolor and virginica\")\n",
        "t = threshold(LDA_result(versicolor_virginica,versicolor_virginica_targets),versicolor_virginica_targets,1,2)\n",
        "print(\"Threshold for versicolor and virginica classification: \" + str(t))"
      ],
      "execution_count": 4,
      "outputs": [
        {
          "output_type": "display_data",
          "data": {
            "image/png": "[encoded data removed]",
            "text/plain": [
              "<Figure size 432x288 with 1 Axes>"
            ]
          },
          "metadata": {
            "tags": [],
            "needs_background": "light"
          }
        },
        {
          "output_type": "stream",
          "text": [
            "Threshold for versicolor and virginica classification: -1.5104177907815\n"
          ],
          "name": "stdout"
        }
      ]
    },
    {
      "cell_type": "code",
      "metadata": {
        "_uuid": "3111da7769c84c0c44897ab9f7c63a2f31370672",
        "colab": {
          "base_uri": "https://localhost:8080/",
          "height": 298
        },
        "id": "lntow5XUBOXb",
        "outputId": "f89e5588-ec3a-4ecd-f5ee-7e449635bda2"
      },
      "source": [
        "lda_result = LDA_result(setosa_virginica,setosa_virginica_targets)\n",
        "scatterPlot(lda_result,setosa_virginica_targets,0,2,\"setosa and virginica\")\n",
        "t = threshold(LDA_result(setosa_virginica,setosa_virginica_targets),setosa_virginica_targets,0,2)\n",
        "print(\"Threshold for setosa and virginica classification: \" + str(t))"
      ],
      "execution_count": 5,
      "outputs": [
        {
          "output_type": "display_data",
          "data": {
            "image/png": "[encoded data removed]",
            "text/plain": [
              "<Figure size 432x288 with 1 Axes>"
            ]
          },
          "metadata": {
            "tags": [],
            "needs_background": "light"
          }
        },
        {
          "output_type": "stream",
          "text": [
            "Threshold for setosa and virginica classification: -6.108499551588142\n"
          ],
          "name": "stdout"
        }
      ]
    }
  ]
}