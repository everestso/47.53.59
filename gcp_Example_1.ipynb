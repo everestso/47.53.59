{
  "nbformat": 4,
  "nbformat_minor": 0,
  "metadata": {
    "colab": {
      "name": "gcp.Example.1.ipynb",
      "provenance": [],
      "collapsed_sections": [],
      "include_colab_link": true
    },
    "kernelspec": {
      "name": "python3",
      "display_name": "Python 3"
    }
  },
  "cells": [
    {
      "cell_type": "markdown",
      "metadata": {
        "id": "view-in-github",
        "colab_type": "text"
      },
      "source": [
        "<a href=\"https://colab.research.google.com/github/everestso/47.53.59/blob/master/gcp_Example_1.ipynb\" target=\"_parent\"><img src=\"https://colab.research.google.com/assets/colab-badge.svg\" alt=\"Open In Colab\"/></a>"
      ]
    },
    {
      "cell_type": "code",
      "metadata": {
        "id": "g3aljc8-JOc9",
        "colab_type": "code",
        "colab": {}
      },
      "source": [
        "from google.cloud import bigquery\n",
        "client = bigquery.Client()"
      ],
      "execution_count": 0,
      "outputs": []
    },
    {
      "cell_type": "code",
      "metadata": {
        "id": "gbzcVYYNFAmB",
        "colab_type": "code",
        "colab": {}
      },
      "source": [
        "sql = \"\"\"\n",
        "SELECT \n",
        "  store_number\n",
        "  , city\n",
        "  , extract(year from date) as year\n",
        "  , sum( volume_sold_gallons )\n",
        "FROM `bigquery-public-data.iowa_liquor_sales.sales` \n",
        "where item_description like \"%El Dorado%\" \n",
        "group by 1, 2, 3\n",
        "order by 4\n",
        "\"\"\"\n",
        "df = client.query(sql).to_dataframe()"
      ],
      "execution_count": 0,
      "outputs": []
    },
    {
      "cell_type": "code",
      "metadata": {
        "id": "Sh__0hhGJ96U",
        "colab_type": "code",
        "outputId": "dcbadde8-4447-4f98-aca4-8e4af364cd14",
        "colab": {
          "base_uri": "https://localhost:8080/",
          "height": 340
        }
      },
      "source": [
        "print(df)"
      ],
      "execution_count": 0,
      "outputs": [
        {
          "output_type": "stream",
          "text": [
            "   store_number          city  year    f0_\n",
            "0          3820    Sioux City  2019   1.18\n",
            "1          5251    Mason City  2019   1.18\n",
            "2          2285     IOWA CITY  2013   1.19\n",
            "3          3896     Iowa City  2016   1.19\n",
            "4          4129          AMES  2016   1.19\n",
            "5          3896     Iowa City  2018   1.19\n",
            "6          4129          AMES  2012   2.38\n",
            "7          3773  Cedar Rapids  2017   2.38\n",
            "8          5463       Decorah  2018   3.55\n",
            "9          5463       Decorah  2019   3.55\n",
            "10         4129          AMES  2013   3.57\n",
            "11         4129          Ames  2016   3.57\n",
            "12         4129          Ames  2018   4.76\n",
            "13         4129          Ames  2017   4.76\n",
            "14         4129          Ames  2019   7.11\n",
            "15         2190    Des Moines  2018   7.12\n",
            "16         2190    Des Moines  2017   7.14\n",
            "17         2190    Des Moines  2019  10.64\n"
          ],
          "name": "stdout"
        }
      ]
    },
    {
      "cell_type": "code",
      "metadata": {
        "id": "S4LKY8oeKBNQ",
        "colab_type": "code",
        "colab": {}
      },
      "source": [
        "sql = \"\"\"\n",
        "SELECT distinct\n",
        "  store_number\n",
        "  , store_name\n",
        "  , address\n",
        "  , city\n",
        "FROM `bigquery-public-data.iowa_liquor_sales.sales` \n",
        "#where extract(year from date) = 2019 and extract(month from date)=11\n",
        "where store_number in unnest([\n",
        "\"5251\", \"3820\",\n",
        "\"2285\", \"3896\",\n",
        "\"3773\", \"5463\",\n",
        "\"4129\", \"2190\"\n",
        "])\n",
        "\"\"\"\n",
        "df = client.query(sql).to_dataframe()"
      ],
      "execution_count": 0,
      "outputs": []
    },
    {
      "cell_type": "code",
      "metadata": {
        "id": "uwD7KD-XKYCV",
        "colab_type": "code",
        "outputId": "01837a03-3f9f-40d5-b0ea-9d305052c2f3",
        "colab": {
          "base_uri": "https://localhost:8080/",
          "height": 357
        }
      },
      "source": [
        "from tabulate import tabulate\n",
        "pdtabulate=lambda df:tabulate(df,headers='keys')\n",
        "print(pdtabulate(df.sort_values(by=['store_number','address'])))"
      ],
      "execution_count": 0,
      "outputs": [
        {
          "output_type": "stream",
          "text": [
            "      store_number  store_name                                   address               city\n",
            "--  --------------  -------------------------------------------  --------------------  ------------\n",
            " 2            2190  Central City Liquor, Inc.                    1460 2ND AVE          Des Moines\n",
            " 3            2190  Central City Liquor, Inc.                    1460 2ND AVE          DES MOINES\n",
            "15            2190  Central City Liquor, Inc.                    1460 2nd Ave          Des Moines\n",
            " 1            2285  John's Grocery                               401 EAST MARKET ST    IOWA CITY\n",
            " 5            2285  John's Grocery                               401 East Market St    Iowa City\n",
            " 0            3773  Benz Distributing                            501 7TH AVE SE        CEDAR RAPIDS\n",
            " 9            3773  Benz Distributing                            501 7th Ave SE        Cedar Rapids\n",
            " 4            3820  Charlie's Wine and Spirits,                  507 W 19th St         SIOUX CITY\n",
            "11            3820  Charlie's Wine and Spirits,                  507 W 19th St         Sioux City\n",
            " 6            3896  Smokin' Joe's #18 Tobacco and Liquor         1901 BROADWAY ST      IOWA CITY\n",
            "14            3896  Smokin' Joe's #18 Tobacco and Liquor         1901 Broadway St      Iowa City\n",
            "16            3896  Smokin' Joe's #18 Tobacco and Liquor Outlet  1901 Broadway St      Iowa City\n",
            " 7            4129  Cyclone Liquors                              626 LINCOLN WAY       AMES\n",
            "10            4129  Cyclone Liquors                              626 Lincoln Way       Ames\n",
            "13            5251  Northside Liquor                             1303 North Federal    Mason City\n",
            " 8            5251  Northside Liquor                             1303, North Federal   Mason City\n",
            "17            5251  Northside Liquor\n",
            "12            5463  Backwater Spirits and More                   116 W Water St Ste D  Decorah\n"
          ],
          "name": "stdout"
        }
      ]
    }
  ]
}