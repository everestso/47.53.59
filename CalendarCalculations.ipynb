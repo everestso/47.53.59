{
  "nbformat": 4,
  "nbformat_minor": 0,
  "metadata": {
    "colab": {
      "name": "CalendarCalculations.ipynb",
      "provenance": [],
      "collapsed_sections": [],
      "include_colab_link": true
    },
    "kernelspec": {
      "name": "python3",
      "display_name": "Python 3"
    },
    "language_info": {
      "name": "python"
    }
  },
  "cells": [
    {
      "cell_type": "markdown",
      "metadata": {
        "id": "view-in-github",
        "colab_type": "text"
      },
      "source": [
        "<a href=\"https://colab.research.google.com/github/everestso/47.53.59/blob/master/CalendarCalculations.ipynb\" target=\"_parent\"><img src=\"https://colab.research.google.com/assets/colab-badge.svg\" alt=\"Open In Colab\"/></a>"
      ]
    },
    {
      "cell_type": "markdown",
      "metadata": {
        "id": "WI7mzxPekEfI"
      },
      "source": [
        "## Calendar Calculations"
      ]
    },
    {
      "cell_type": "code",
      "metadata": {
        "colab": {
          "base_uri": "https://localhost:8080/"
        },
        "id": "nGfry3LZfH_5",
        "outputId": "6aad1c19-b1df-48ea-b2d1-3e50260292fc"
      },
      "source": [
        "def DaysFromDate(dateVector):\n",
        "  k_in   = dateVector[4]\n",
        "  uinal  = dateVector[3]\n",
        "  tun    = dateVector[2]\n",
        "  katun  = dateVector[1]\n",
        "  baktun = dateVector[0]\n",
        "  days = k_in + uinal*20 + tun*360 + katun*7200 + baktun * 144000\n",
        "  return days\n",
        "\n",
        "def LeapYear(year):\n",
        "  if year%4==0 and year%100!=0:\n",
        "    return True\n",
        "  elif year%400==0:\n",
        "    return True\n",
        "  else:\n",
        "    return False\n",
        "\n",
        "def DaysInYear(y):\n",
        "  if LeapYear(y):\n",
        "    return 366\n",
        "  else:\n",
        "    return 365\n",
        "\n",
        "def DaysInMonth(dateVector):\n",
        "  month = dateVector[0]\n",
        "  day = dateVector[1]\n",
        "  year = dateVector[2]\n",
        "  days31 = {1,3,5,7,8,10,12}\n",
        "  days28 = {2}\n",
        "  if month in days31:\n",
        "    daysRet = 31\n",
        "  elif month in days28 and LeapYear(year):\n",
        "    daysRet = 29\n",
        "  elif month in days28 and not LeapYear(year):\n",
        "    daysRet = 28\n",
        "  else:\n",
        "    daysRet = 30\n",
        "  return daysRet\n",
        "\n",
        "year=1964\n",
        "daysList = [DaysInMonth((m,0,year)) for m in range(1,13,1) ]\n",
        "print (\"Days List: \", daysList, sum(daysList), DaysInYear(year))\n",
        "d= (12,17,9,2,5)\n",
        "print (DaysFromDate(d))\n",
        "print (DaysInYear(1900))\n",
        "print (DaysInYear(2000))\n",
        "print (DaysInYear(2020))\n",
        "print (DaysInYear(2001))\n",
        "\n",
        "x = sum([DaysInYear(i) for i in range(1962, 1965)])\n",
        "print (x)\n",
        "print (list(range(1963, 1972)))\n",
        "\n",
        "print(DaysFromDate(d) + sum([DaysInYear(i) for i in range(1962, 1965)]) )\n",
        "print ([(i, DaysInYear(i)) for i in range(1962, 1965, 1)])\n"
      ],
      "execution_count": 11,
      "outputs": [
        {
          "output_type": "stream",
          "text": [
            "Days List:  [31, 29, 31, 30, 31, 30, 31, 31, 30, 31, 30, 31] 366 366\n",
            "1853685\n",
            "365\n",
            "366\n",
            "366\n",
            "365\n",
            "1096\n",
            "[1963, 1964, 1965, 1966, 1967, 1968, 1969, 1970, 1971]\n",
            "1854781\n",
            "[(1962, 365), (1963, 365), (1964, 366)]\n"
          ],
          "name": "stdout"
        }
      ]
    }
  ]
}