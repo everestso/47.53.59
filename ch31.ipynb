{
  "nbformat": 4,
  "nbformat_minor": 0,
  "metadata": {
    "colab": {
      "name": "ch31.ipynb",
      "version": "0.3.2",
      "provenance": [],
      "collapsed_sections": [],
      "include_colab_link": true
    },
    "kernelspec": {
      "name": "python3",
      "display_name": "Python 3"
    }
  },
  "cells": [
    {
      "cell_type": "markdown",
      "metadata": {
        "id": "view-in-github",
        "colab_type": "text"
      },
      "source": [
        "<a href=\"https://colab.research.google.com/github/everestso/61.67.71.73/blob/master/ch31.ipynb\" target=\"_parent\"><img src=\"https://colab.research.google.com/assets/colab-badge.svg\" alt=\"Open In Colab\"/></a>"
      ]
    },
    {
      "cell_type": "code",
      "metadata": {
        "id": "uK5A0Tg7QGa3",
        "colab_type": "code",
        "colab": {}
      },
      "source": [
        "### Extend Euclid\n",
        "def EE(a, b):\n",
        "  if b == 0:\n",
        "    return (a, 1, 0)\n",
        "  else:\n",
        "    (dPrime, xPrime, yPrime) = EE(b, a % b)\n",
        "    (d, x, y) = (dPrime, yPrime, xPrime - (a//b*yPrime))\n",
        "    return (d, x, y)\n",
        "  \n",
        "  \n"
      ],
      "execution_count": 0,
      "outputs": []
    },
    {
      "cell_type": "code",
      "metadata": {
        "id": "ZpV3Vml7SHnL",
        "colab_type": "code",
        "outputId": "f78dc765-572b-41ed-f543-5d7233241f20",
        "colab": {
          "base_uri": "https://localhost:8080/",
          "height": 67
        }
      },
      "source": [
        "a = 12; b=15\n",
        "print (a, b, EE( a, b))\n",
        "a= 125; b=300\n",
        "o = EE( a, b)\n",
        "print (a, b, o)\n",
        "print (a*o[1]+b*o[2])\n"
      ],
      "execution_count": 2,
      "outputs": [
        {
          "output_type": "stream",
          "text": [
            "12 15 (3, -1, 1)\n",
            "125 300 (25, 5, -2)\n",
            "25\n"
          ],
          "name": "stdout"
        }
      ]
    },
    {
      "cell_type": "code",
      "metadata": {
        "id": "ehdEWfj1S6cC",
        "colab_type": "code",
        "outputId": "ae0cf75c-b785-4341-ef4c-fac3cfd473ed",
        "colab": {
          "base_uri": "https://localhost:8080/",
          "height": 34
        }
      },
      "source": [
        "def MLE(a, b, n):\n",
        "  out = []\n",
        "  (d, xPrime, yPrime) = EE(a, n)\n",
        "  if ( b % d == 0 ):\n",
        "    x0 = (xPrime*b//d) % n\n",
        "    for i in range(d): \n",
        "      out += [(x0 + i*(n//d)) % n ]\n",
        "  return out\n",
        "    \n",
        "print (MLE(14,30,100))\n",
        "\n"
      ],
      "execution_count": 3,
      "outputs": [
        {
          "output_type": "stream",
          "text": [
            "[95, 45]\n"
          ],
          "name": "stdout"
        }
      ]
    },
    {
      "cell_type": "code",
      "metadata": {
        "id": "vcBWXXQJVPr2",
        "colab_type": "code",
        "outputId": "bea67872-b679-4991-f56c-f2c4d931e941",
        "colab": {
          "base_uri": "https://localhost:8080/",
          "height": 67
        }
      },
      "source": [
        "p=11;  q=29; e=3\n",
        "\n",
        "n = p * q\n",
        "phiN = (p-1)*(q-1)\n",
        "d = MLE(e, 1, phiN)[0]\n",
        "print (n, phiN, d)\n",
        "\n",
        "message = 318\n",
        "c = message**e%n\n",
        "print (c)\n",
        "decrypted = c**d%n\n",
        "print (decrypted)"
      ],
      "execution_count": 4,
      "outputs": [
        {
          "output_type": "stream",
          "text": [
            "319 280 187\n",
            "318\n",
            "318\n"
          ],
          "name": "stdout"
        }
      ]
    },
    {
      "cell_type": "code",
      "metadata": {
        "id": "ZGweY_VpXbF3",
        "colab_type": "code",
        "outputId": "f968f349-6d87-484a-cbb2-62088af1e970",
        "colab": {
          "base_uri": "https://localhost:8080/",
          "height": 84
        }
      },
      "source": [
        "p=3;  q=5; e=3\n",
        "\n",
        "n = p * q\n",
        "phiN = (p-1)*(q-1)\n",
        "d = MLE(e, 1, phiN)[0]\n",
        "print (n, phiN, d)\n",
        "print (e,d,phiN,e*d % phiN)\n",
        "message = 3\n",
        "c = message**e%n\n",
        "print (c)\n",
        "decrypted = c**d%n\n",
        "print (decrypted)"
      ],
      "execution_count": 5,
      "outputs": [
        {
          "output_type": "stream",
          "text": [
            "15 8 3\n",
            "3 3 8 1\n",
            "12\n",
            "3\n"
          ],
          "name": "stdout"
        }
      ]
    },
    {
      "cell_type": "code",
      "metadata": {
        "id": "o5huzto5aAwI",
        "colab_type": "code",
        "outputId": "95dcfd19-4715-41c8-98cf-9f852210f9f0",
        "colab": {
          "base_uri": "https://localhost:8080/",
          "height": 50
        }
      },
      "source": [
        "p=13;  q=17; e=5\n",
        "\n",
        "n = p * q\n",
        "phiN = (p-1)*(q-1)\n",
        "d = MLE(e, 1, phiN)[0]\n",
        "print (n, phiN, d)\n",
        "print (e,d,phiN,e*d % phiN)\n",
        "\n",
        "PUBLIC = (e,n)\n",
        "PRIVATE = (d,n)"
      ],
      "execution_count": 6,
      "outputs": [
        {
          "output_type": "stream",
          "text": [
            "221 192 77\n",
            "5 77 192 1\n"
          ],
          "name": "stdout"
        }
      ]
    },
    {
      "cell_type": "code",
      "metadata": {
        "id": "LVHldOj6bJkA",
        "colab_type": "code",
        "outputId": "b1c243b7-2ddc-42c3-9e45-165d030e2130",
        "colab": {
          "base_uri": "https://localhost:8080/",
          "height": 67
        }
      },
      "source": [
        "message = ord('D')\n",
        "c = message**e%n\n",
        "decrypted = c**d%n\n",
        "print (\"MESSAGE: \", message)\n",
        "print (\"ENCRYPTED: \", c)\n",
        "print (\"DECRYPTED: \", decrypted)"
      ],
      "execution_count": 7,
      "outputs": [
        {
          "output_type": "stream",
          "text": [
            "MESSAGE:  68\n",
            "ENCRYPTED:  204\n",
            "DECRYPTED:  68\n"
          ],
          "name": "stdout"
        }
      ]
    },
    {
      "cell_type": "code",
      "metadata": {
        "id": "5HGjK2Uni8Lb",
        "colab_type": "code",
        "outputId": "e9e5b05c-f7ef-4725-ae2e-719a205141d9",
        "colab": {
          "base_uri": "https://localhost:8080/",
          "height": 50
        }
      },
      "source": [
        "def ME(a, b, n):\n",
        "  c = 0\n",
        "  d = 1\n",
        "  bVector = bin(b)[2:]\n",
        "  for i in range(len(bVector)):\n",
        "    c *= 2\n",
        "    d = (d*d) % n\n",
        "    if (bVector[i]=='1'):\n",
        "      c += 1\n",
        "      d = (d * a) % n\n",
        "  return d\n",
        "\n",
        "def ME2(a, b, n):\n",
        "  c = 0\n",
        "  d = 1\n",
        "  bVector = bin(b)[:1:-1]\n",
        "  k = len(bVector)-1\n",
        "  print (bVector, bin(b))\n",
        "  for i in range(k,-1,-1):\n",
        "    c *= 2\n",
        "    d = (d*d) % n\n",
        "    if (bVector[i]=='1'):\n",
        "      c += 1\n",
        "      d = (d * a) % n\n",
        "  return d\n",
        "\n",
        "a=111; b=113; n=97\n",
        "a=2; b=521; n=5217\n",
        "print (a**b%n, ME(a, b, n), ME2(a, b, n))\n"
      ],
      "execution_count": 8,
      "outputs": [
        {
          "output_type": "stream",
          "text": [
            "1001000001 0b1000001001\n",
            "2312 2312 2312\n"
          ],
          "name": "stdout"
        }
      ]
    },
    {
      "cell_type": "code",
      "metadata": {
        "id": "YjH3O6MvgebI",
        "colab_type": "code",
        "outputId": "347180a8-5449-4a3a-c2b1-5b4bd418c571",
        "colab": {
          "base_uri": "https://localhost:8080/",
          "height": 50
        }
      },
      "source": [
        "p, q, e = (7, 13, 5)\n",
        "p, q, e = (13, 31, 7)\n",
        "\n",
        "n = p * q\n",
        "phiN = (p-1)*(q-1)\n",
        "d = MLE(e, 1, phiN)[0]\n",
        "print (n, phiN, d)\n",
        "print (e,d,phiN,e*d % phiN)\n",
        "\n",
        "PUBLIC = (e,n)\n",
        "PRIVATE = (d,n)"
      ],
      "execution_count": 9,
      "outputs": [
        {
          "output_type": "stream",
          "text": [
            "403 360 103\n",
            "7 103 360 1\n"
          ],
          "name": "stdout"
        }
      ]
    },
    {
      "cell_type": "code",
      "metadata": {
        "id": "VwjrRIElgXFX",
        "colab_type": "code",
        "outputId": "0b6318f0-eb91-4181-b826-052e65dce0ed",
        "colab": {
          "base_uri": "https://localhost:8080/",
          "height": 67
        }
      },
      "source": [
        "message = ord('Q')-ord('A') + 1\n",
        "c = message**e%n\n",
        "decrypted = c**d%n\n",
        "print (\"MESSAGE: \", message)\n",
        "print (\"ENCRYPTED: \", c)\n",
        "print (\"DECRYPTED: \", decrypted)"
      ],
      "execution_count": 10,
      "outputs": [
        {
          "output_type": "stream",
          "text": [
            "MESSAGE:  17\n",
            "ENCRYPTED:  43\n",
            "DECRYPTED:  17\n"
          ],
          "name": "stdout"
        }
      ]
    },
    {
      "cell_type": "code",
      "metadata": {
        "id": "ji_HaW0FISbf",
        "colab_type": "code",
        "colab": {}
      },
      "source": [
        "# GCD\n",
        "\n",
        "GCD = lambda a, b: GCD(b, a%b) if b else a\n",
        "Z = lambda n: sorted({i%n for i in range(10000)})\n",
        "Za = lambda a,n: sorted({i*a%n for i in range(1000)})\n",
        "\n",
        "Zx = lambda n: sorted ({i%n for i in range(10000) if GCD(i,n)==1})\n",
        "Zxa = lambda a,n: sorted ({a**i%n for i in range(10000) if GCD(a**i,n)==1})"
      ],
      "execution_count": 0,
      "outputs": []
    },
    {
      "cell_type": "code",
      "metadata": {
        "id": "4AdUfMlJKHPb",
        "colab_type": "code",
        "outputId": "ad605c48-9378-4f04-aa14-4aafdded7e5a",
        "colab": {
          "base_uri": "https://localhost:8080/",
          "height": 101
        }
      },
      "source": [
        "print(Z(10))\n",
        "\n",
        "print (Za(5,10))\n",
        "\n",
        "print (len(Zx(1024)))\n",
        "print (Zxa(127,1024))\n",
        "print (Zx(15))"
      ],
      "execution_count": 12,
      "outputs": [
        {
          "output_type": "stream",
          "text": [
            "[0, 1, 2, 3, 4, 5, 6, 7, 8, 9]\n",
            "[0, 5]\n",
            "512\n",
            "[1, 127, 257, 383, 513, 639, 769, 895]\n",
            "[1, 2, 4, 7, 8, 11, 13, 14]\n"
          ],
          "name": "stdout"
        }
      ]
    },
    {
      "cell_type": "code",
      "metadata": {
        "id": "TRTYrgzKBHXe",
        "colab_type": "code",
        "outputId": "e7e94bba-61d3-4e18-e0f8-c8b6fac56163",
        "colab": {
          "base_uri": "https://localhost:8080/",
          "height": 118
        }
      },
      "source": [
        "#\n",
        "# Chinese Remainder Theorem\n",
        "\n",
        "import numpy as np\n",
        "A = [2, 3, 2]\n",
        "N = [3, 5, 7]\n",
        "\n",
        "M = [np.prod(N)//N[i] for i in range(len(A))]\n",
        "Minverse = [MLE(M[i], 1, N[i])[0] for i in range(len(A))]\n",
        "\n",
        "print (\"M: \", M)\n",
        "print (\"Minverse: \", Minverse)\n",
        "\n",
        "C = [M[i]*(Minverse[i] % N[i]) for i in range(len(A))]\n",
        "print (\"C: \", C)\n",
        "\n",
        "AC = [A[i]*C[i] for i in range(len(A))]\n",
        "\n",
        "answer = sum(AC) % np.prod(N)\n",
        "print (\"AiCi: \", AC)\n",
        "print (\"Sum AiCi mod n: \", answer)\n",
        "\n",
        "output = [answer % N[i] for i in range(len(A))]\n",
        "\n",
        "print (\"Answer mod Ni: \", output)"
      ],
      "execution_count": 13,
      "outputs": [
        {
          "output_type": "stream",
          "text": [
            "M:  [35, 21, 15]\n",
            "Minverse:  [2, 1, 1]\n",
            "C:  [70, 21, 15]\n",
            "AiCi:  [140, 63, 30]\n",
            "Sum AiCi mod n:  23\n",
            "Answer mod Ni:  [2, 3, 2]\n"
          ],
          "name": "stdout"
        }
      ]
    },
    {
      "cell_type": "code",
      "metadata": {
        "id": "DZ24rmmgKLG0",
        "colab_type": "code",
        "outputId": "69b4c66f-81f5-478e-db47-592cc88a4753",
        "colab": {
          "base_uri": "https://localhost:8080/",
          "height": 118
        }
      },
      "source": [
        "A1 = [1, 2, 2, 2, 2, 2, 2, 2]\n",
        "A2 = [1, 1, 1, 3, 3, 3, 3, 3]\n",
        "A2b = [5, 5, 9]\n",
        "A = A2b\n",
        "N1 = [2, 3, 5, 7, 11, 13, 17, 19]\n",
        "N2b = [47, 53, 59]\n",
        "N = N2b\n",
        "\n",
        "M = [np.prod(N)//N[i] for i in range(len(A))]\n",
        "Minverse = [MLE(M[i], 1, N[i])[0] for i in range(len(A))]\n",
        "\n",
        "print (\"M: \", M)\n",
        "print (\"Minverse: \", Minverse)\n",
        "\n",
        "C = [M[i]*(Minverse[i] % N[i]) for i in range(len(A))]\n",
        "print (\"C: \", C)\n",
        "\n",
        "AC = [A[i]*C[i] for i in range(len(A))]\n",
        "\n",
        "answer = sum(AC) % np.prod(N)\n",
        "print (\"AiCi: \", AC)\n",
        "print (\"Sum AiCi mod n: \", answer)\n",
        "\n",
        "output = [answer % N[i] for i in range(len(A))]\n",
        "\n",
        "print (\"Answer mod Ni: \", output)\n",
        "\n"
      ],
      "execution_count": 14,
      "outputs": [
        {
          "output_type": "stream",
          "text": [
            "M:  [3127, 2773, 2491]\n",
            "Minverse:  [32, 25, 50]\n",
            "C:  [100064, 69325, 124550]\n",
            "AiCi:  [500320, 346625, 1120950]\n",
            "Sum AiCi mod n:  57298\n",
            "Answer mod Ni:  [5, 5, 9]\n"
          ],
          "name": "stdout"
        }
      ]
    },
    {
      "cell_type": "code",
      "metadata": {
        "id": "qkRq1_G5ExAg",
        "colab_type": "code",
        "outputId": "8f3b7b4b-7fdc-4387-cbc8-a9e9315831fd",
        "colab": {
          "base_uri": "https://localhost:8080/",
          "height": 1000
        }
      },
      "source": [
        "def ChineseRemainder(A, N):\n",
        "  M = [np.prod(N)//N[i] for i in range(len(A))]\n",
        "  Minverse = [MLE(M[i], 1, N[i])[0] for i in range(len(A))]\n",
        "\n",
        "  print (\"M: \", M)\n",
        "  print (\"Minverse: \", Minverse)\n",
        "\n",
        "  C = [M[i]*(Minverse[i] % N[i]) for i in range(len(A))]\n",
        "  print (\"C: \", C)\n",
        "\n",
        "  AC = [A[i]*C[i] for i in range(len(A))]\n",
        "\n",
        "  answer = sum(AC) % np.prod(N)\n",
        "  return answer\n",
        "\n",
        "N = [47, 53, 59]\n",
        "As = [ (4, 2, 3), (5, 5, 9), (7, 77, 777), (10, 9, 14), (12, 9, 21), (2, 1, 14), (13, 9, 14) ]\n",
        "\n",
        "Answers = [(a,ChineseRemainder(a, N)) for a in As]\n",
        "print (\"\\nANSWERS\")\n",
        "print (N, Answers,\"\\n\")\n",
        "\n",
        "N = [3, 5, 7]\n",
        "As = [ (2, 3, 2), (3, 2, 3), (3, 1, 1) ]\n",
        "\n",
        "Answers = [(a,ChineseRemainder(a, N)) for a in As]\n",
        "print (\"\\nANSWERS\")\n",
        "print (N, Answers,\"\\n\")\n",
        "\n",
        "N = [61, 67, 71, 73]\n",
        "As = [ (18, 21, 2, 25), (16, 1, 18, 11), (8, 6, 2, 3) ]\n",
        "\n",
        "Answers = [(a,ChineseRemainder(a, N)) for a in As]\n",
        "print (\"\\nANSWERS\")\n",
        "print (N, Answers,\"\\n\")\n",
        "\n",
        "N = [41, 43]\n",
        "As = [ (12, 9) ]\n",
        "\n",
        "Answers = [(a,ChineseRemainder(a, N)) for a in As]\n",
        "print (\"\\nANSWERS\")\n",
        "print (N, Answers,\"\\n\")\n",
        "\n",
        "N = [71, 73, 79, 83, 89, 97]\n",
        "As = [ (23, 9, 12, 19, 15, 14) ]\n",
        "\n",
        "Answers = [(a,ChineseRemainder(a, N)) for a in As]\n",
        "print (\"\\nANSWERS\")\n",
        "print (N, Answers,\"\\n\")\n",
        "\n",
        "N= [29, 31, 37, 41, 43]\n",
        "As = [(25, 1, 19, 9, 14)]\n",
        "Answers = [(a,ChineseRemainder(a, N)) for a in As]\n",
        "print (\"\\nANSWERS\")\n",
        "print (N, Answers,\"\\n\")"
      ],
      "execution_count": 15,
      "outputs": [
        {
          "output_type": "stream",
          "text": [
            "M:  [3127, 2773, 2491]\n",
            "Minverse:  [32, 25, 50]\n",
            "C:  [100064, 69325, 124550]\n",
            "M:  [3127, 2773, 2491]\n",
            "Minverse:  [32, 25, 50]\n",
            "C:  [100064, 69325, 124550]\n",
            "M:  [3127, 2773, 2491]\n",
            "Minverse:  [32, 25, 50]\n",
            "C:  [100064, 69325, 124550]\n",
            "M:  [3127, 2773, 2491]\n",
            "Minverse:  [32, 25, 50]\n",
            "C:  [100064, 69325, 124550]\n",
            "M:  [3127, 2773, 2491]\n",
            "Minverse:  [32, 25, 50]\n",
            "C:  [100064, 69325, 124550]\n",
            "M:  [3127, 2773, 2491]\n",
            "Minverse:  [32, 25, 50]\n",
            "C:  [100064, 69325, 124550]\n",
            "M:  [3127, 2773, 2491]\n",
            "Minverse:  [32, 25, 50]\n",
            "C:  [100064, 69325, 124550]\n",
            "\n",
            "ANSWERS\n",
            "[47, 53, 59] [((4, 2, 3), 30742), ((5, 5, 9), 57298), ((7, 77, 777), 82492), ((10, 9, 14), 134947), ((12, 9, 21), 31173), ((2, 1, 14), 102556), ((13, 9, 14), 141201)] \n",
            "\n",
            "M:  [35, 21, 15]\n",
            "Minverse:  [2, 1, 1]\n",
            "C:  [70, 21, 15]\n",
            "M:  [35, 21, 15]\n",
            "Minverse:  [2, 1, 1]\n",
            "C:  [70, 21, 15]\n",
            "M:  [35, 21, 15]\n",
            "Minverse:  [2, 1, 1]\n",
            "C:  [70, 21, 15]\n",
            "\n",
            "ANSWERS\n",
            "[3, 5, 7] [((2, 3, 2), 23), ((3, 2, 3), 87), ((3, 1, 1), 36)] \n",
            "\n",
            "M:  [347261, 316163, 298351, 290177]\n",
            "Minverse:  [5, 20, 8, 37]\n",
            "C:  [1736305, 6323260, 2386808, 10736549]\n",
            "M:  [347261, 316163, 298351, 290177]\n",
            "Minverse:  [5, 20, 8, 37]\n",
            "C:  [1736305, 6323260, 2386808, 10736549]\n",
            "M:  [347261, 316163, 298351, 290177]\n",
            "Minverse:  [5, 20, 8, 37]\n",
            "C:  [1736305, 6323260, 2386808, 10736549]\n",
            "\n",
            "ANSWERS\n",
            "[61, 67, 71, 73] [((18, 21, 2, 25), 13570871), ((16, 1, 18, 11), 4522434), ((8, 6, 2, 3), 4081579)] \n",
            "\n",
            "M:  [43, 41]\n",
            "Minverse:  [21, 21]\n",
            "C:  [903, 861]\n",
            "\n",
            "ANSWERS\n",
            "[41, 43] [((12, 9), 955)] \n",
            "\n",
            "M:  [4132280413, 4019067251, 3713821637, 3534842281, 3296538307, 3024658859]\n",
            "Minverse:  [26, 30, 47, 60, 31, 54]\n",
            "C:  [107439290738, 120572017530, 174549616939, 212090536860, 102192687517, 163331578386]\n",
            "\n",
            "ANSWERS\n",
            "[71, 73, 79, 83, 89, 97] [((23, 9, 12, 19, 15, 14), 4072029653)] \n",
            "\n",
            "M:  [2022161, 1891699, 1584937, 1430309, 1363783]\n",
            "Minverse:  [16, 11, 15, 12, 17]\n",
            "C:  [32354576, 20808689, 23774055, 17163708, 23184311]\n",
            "\n",
            "ANSWERS\n",
            "[29, 31, 37, 41, 43] [((25, 1, 19, 9, 14), 1153790)] \n",
            "\n"
          ],
          "name": "stdout"
        }
      ]
    },
    {
      "cell_type": "code",
      "metadata": {
        "id": "BNqm1JOLEjUJ",
        "colab_type": "code",
        "outputId": "b963eed5-8802-400f-d9a2-7e4b3480ebfb",
        "colab": {
          "base_uri": "https://localhost:8080/",
          "height": 50
        }
      },
      "source": [
        "### Witness\n",
        "\n",
        "def Witness(a, n):\n",
        "  t = [i for i in range(int(np.log2(n-1)),-1,-1) if ((n-1)%(2**i))==0][0]\n",
        "  u = (n-1)//(2**t)\n",
        "  ## print (n-1,u,t, u*2**t)\n",
        "  x1 = ME(a, u, n)\n",
        "  ## print (x1)\n",
        "  for i in range(t):\n",
        "    x2 = (x1**2) % n\n",
        "    ## print (x1, x2)\n",
        "    if x2 == 1 and x1 != 1 and x1 != n-1:\n",
        "      return True\n",
        "    x1 = x2\n",
        "    ## print (x1)\n",
        "  if x1 != 1:\n",
        "    return True  \n",
        "  return False\n",
        "\n",
        "n = int(np.random.randint(1000,10000))\n",
        "print (n,list(range(int(np.log2(n-1)),-1,-1) ))\n",
        "\n",
        "print (Witness( 5, n ))"
      ],
      "execution_count": 16,
      "outputs": [
        {
          "output_type": "stream",
          "text": [
            "4141 [12, 11, 10, 9, 8, 7, 6, 5, 4, 3, 2, 1, 0]\n",
            "True\n"
          ],
          "name": "stdout"
        }
      ]
    },
    {
      "cell_type": "code",
      "metadata": {
        "id": "ztLfbttXEoYa",
        "colab_type": "code",
        "outputId": "59e91e4c-33d1-417f-d28c-79c59b55b0c9",
        "colab": {
          "base_uri": "https://localhost:8080/",
          "height": 487
        }
      },
      "source": [
        "def MillerRabin(n, s):\n",
        "  for j in range(s):\n",
        "    a = np.random.randint(1,n-1)\n",
        "    if (Witness(a,n)==True):\n",
        "      print (n, \"COMPOSITE:\", a)\n",
        "      return False\n",
        "  print (n, \"PRIME\")\n",
        "  return True\n",
        "\n",
        "for i in range(1000):\n",
        "  x = np.random.randint(1000000,10000000)\n",
        "  if x%2==0:\n",
        "    continue\n",
        "  if (MillerRabin(x, 3)==True):\n",
        "    print(x,\"PRIME\")\n",
        "    break"
      ],
      "execution_count": 17,
      "outputs": [
        {
          "output_type": "stream",
          "text": [
            "3122227 COMPOSITE: 2308023\n",
            "6328011 COMPOSITE: 3600503\n",
            "9399479 COMPOSITE: 8227793\n",
            "2400135 COMPOSITE: 300002\n",
            "9092377 COMPOSITE: 8677281\n",
            "8433557 COMPOSITE: 3657264\n",
            "5049265 COMPOSITE: 2002624\n",
            "6759379 COMPOSITE: 5354561\n",
            "3339115 COMPOSITE: 2288154\n",
            "6262237 COMPOSITE: 3675776\n",
            "3931277 COMPOSITE: 1419624\n",
            "9169847 COMPOSITE: 2938186\n",
            "6577357 COMPOSITE: 6386959\n",
            "8632645 COMPOSITE: 8208480\n",
            "1612297 COMPOSITE: 481054\n",
            "1262435 COMPOSITE: 1129843\n",
            "4314223 COMPOSITE: 834854\n",
            "1162263 COMPOSITE: 708188\n",
            "5275735 COMPOSITE: 4492342\n",
            "3535633 COMPOSITE: 2198487\n",
            "1686383 COMPOSITE: 1267547\n",
            "9991753 COMPOSITE: 2666134\n",
            "5215875 COMPOSITE: 1054447\n",
            "1464535 COMPOSITE: 338113\n",
            "6471885 COMPOSITE: 4407238\n",
            "5871207 COMPOSITE: 3873978\n",
            "6673031 PRIME\n",
            "6673031 PRIME\n"
          ],
          "name": "stdout"
        }
      ]
    },
    {
      "cell_type": "code",
      "metadata": {
        "id": "jfwenHr5HG1i",
        "colab_type": "code",
        "outputId": "dd5c9f0b-92ca-41ad-bf7a-037827b860df",
        "colab": {
          "base_uri": "https://localhost:8080/",
          "height": 1000
        }
      },
      "source": [
        "def GetKeys(p, q, e):\n",
        "  n = p * q\n",
        "  phiN = (p-1)*(q-1)\n",
        "  d = MLE(e, 1, phiN)[0]\n",
        "  print (n, phiN, d)\n",
        "  print (e,d,phiN,e*d % phiN)\n",
        "\n",
        "  PUBLIC = (e,n)\n",
        "  PRIVATE = (d,n)\n",
        "  return (PUBLIC, PRIVATE)\n",
        "\n",
        "def FindPrime(bits):\n",
        "  for i in range(10000):\n",
        "    x = int(np.random.random()*2**(bits+1)+2**(bits))\n",
        "    if x%2==0:\n",
        "      continue\n",
        "    if (MillerRabin(x, 3)==True):\n",
        "      print(x,\"PRIME\")\n",
        "      return x\n",
        "  \n",
        "p = FindPrime(50)\n",
        "q = FindPrime(50)\n",
        "print (p,q)"
      ],
      "execution_count": 18,
      "outputs": [
        {
          "output_type": "stream",
          "text": [
            "2893101359995301 COMPOSITE: 587335749325228\n",
            "3371876242086585 COMPOSITE: 223937694132671\n",
            "2499474129578693 COMPOSITE: 128058248876500\n",
            "2567095719002289 COMPOSITE: 1615240131749124\n",
            "1343087254437949 COMPOSITE: 545556676478339\n",
            "3180130348647375 COMPOSITE: 246742771552883\n",
            "1957734497975269 COMPOSITE: 229955120676469\n",
            "3179455336396839 COMPOSITE: 2924668942533388\n",
            "1757278572935601 COMPOSITE: 1216334214482990\n",
            "2191510352692059 COMPOSITE: 621687937113632\n",
            "3169659163583497 COMPOSITE: 1007465556483507\n",
            "2288333691228515 COMPOSITE: 2084710234892236\n",
            "1416228163070883 COMPOSITE: 175996780931853\n",
            "3362274170765349 COMPOSITE: 511651739360897\n",
            "1517001106682679 COMPOSITE: 588542822532713\n",
            "2767154577514333 COMPOSITE: 478341307382311\n",
            "2493203777920625 COMPOSITE: 1939458654455421\n",
            "3306264087952357 COMPOSITE: 2686134644234216\n",
            "1799729402007485 COMPOSITE: 925452979411090\n",
            "1396947926609297 COMPOSITE: 495240733568222\n",
            "1193439598216233 COMPOSITE: 303427658149260\n",
            "2715783938382591 COMPOSITE: 1998681130379602\n",
            "1623179381912237 COMPOSITE: 506702534787550\n",
            "1625038487849617 PRIME\n",
            "1625038487849617 PRIME\n",
            "3087875323520839 COMPOSITE: 1148999860247045\n",
            "3122634178712815 COMPOSITE: 2000202686951189\n",
            "3295406631593089 COMPOSITE: 2685406737139014\n",
            "1272243863839467 COMPOSITE: 509052811899448\n",
            "1465266648557531 COMPOSITE: 482670661025736\n",
            "2817357411661051 COMPOSITE: 44096519442075\n",
            "1297587081588365 COMPOSITE: 968358458299343\n",
            "1239455843545671 COMPOSITE: 590218663291086\n",
            "2824339498812023 COMPOSITE: 462965375366016\n",
            "1199907443879773 COMPOSITE: 726110204700876\n",
            "1228463391369263 COMPOSITE: 302791818464126\n",
            "1710025534537781 COMPOSITE: 323174742488039\n",
            "2444730427515959 COMPOSITE: 1582019895565465\n",
            "1603107885310891 COMPOSITE: 1117289166142781\n",
            "2187149532570475 COMPOSITE: 955064690435597\n",
            "1847965186366255 COMPOSITE: 645329550606988\n",
            "2822855867880129 COMPOSITE: 2641504891369602\n",
            "2724832422315147 COMPOSITE: 2306490498406047\n",
            "2914074682309975 COMPOSITE: 2092056668245575\n",
            "1547003121600439 COMPOSITE: 909471002641595\n",
            "1813867454932313 COMPOSITE: 1734893149309986\n",
            "2700989284810395 COMPOSITE: 1611513805607353\n",
            "1989379176913265 COMPOSITE: 1787557309254554\n",
            "1646226160679305 COMPOSITE: 685651573501624\n",
            "1954008474412181 COMPOSITE: 144053935378955\n",
            "1786822771355785 COMPOSITE: 776895275575960\n",
            "2631944116467481 COMPOSITE: 379716867175267\n",
            "2130718392707377 COMPOSITE: 2121144926232786\n",
            "1146882636432601 COMPOSITE: 255812594410850\n",
            "3366407113140915 COMPOSITE: 532571246684620\n",
            "1512173933651081 COMPOSITE: 1233703456933261\n",
            "2483381966571615 COMPOSITE: 2231022004281132\n",
            "3052077727497845 COMPOSITE: 492140305746591\n",
            "1943444358046721 COMPOSITE: 507700884629337\n",
            "1847077145193429 COMPOSITE: 1717958905518347\n",
            "1281239411577199 COMPOSITE: 528291213078501\n",
            "2800047405720047 COMPOSITE: 1466483544228761\n",
            "2331099734358253 COMPOSITE: 388730983965134\n",
            "1936833566890653 COMPOSITE: 976956102656390\n",
            "2911032405683833 PRIME\n",
            "2911032405683833 PRIME\n",
            "1625038487849617 2911032405683833\n"
          ],
          "name": "stdout"
        }
      ]
    },
    {
      "cell_type": "code",
      "metadata": {
        "id": "GhSeTj5DLA-w",
        "colab_type": "code",
        "outputId": "eab87773-215a-4b37-c876-e44c728ebf22",
        "colab": {
          "base_uri": "https://localhost:8080/",
          "height": 67
        }
      },
      "source": [
        "p1 = 2038144922166511\n",
        "q1 = 3032058867739061\n",
        "phiN = (p-1)*(q-1)\n",
        "eS = [i for i in range(3, 100) if GCD(i,phiN)==1]\n",
        "e1 = 101\n",
        "e = eS[0]\n",
        "keys = GetKeys(p, q, e)\n",
        "print (keys)"
      ],
      "execution_count": 19,
      "outputs": [
        {
          "output_type": "stream",
          "text": [
            "4730539698613688798100552141961 4730539698613684262029658608512 1892215879445473704811863443405\n",
            "5 1892215879445473704811863443405 4730539698613684262029658608512 1\n",
            "((5, 4730539698613688798100552141961), (1892215879445473704811863443405, 4730539698613688798100552141961))\n"
          ],
          "name": "stdout"
        }
      ]
    },
    {
      "cell_type": "code",
      "metadata": {
        "id": "cQkR-5rwLX_v",
        "colab_type": "code",
        "outputId": "f2b63a64-8799-417e-da6c-ffba635044bf",
        "colab": {
          "base_uri": "https://localhost:8080/",
          "height": 67
        }
      },
      "source": [
        "message = 12345678901234567890\n",
        "c = ME(message,keys[0][0], keys[0][1])\n",
        "decrypted = ME(c,keys[1][0], keys[1][1])\n",
        "print (\"MESSAGE: \", message)\n",
        "print (\"ENCRYPTED: \", c)\n",
        "print (\"DECRYPTED: \", decrypted)"
      ],
      "execution_count": 20,
      "outputs": [
        {
          "output_type": "stream",
          "text": [
            "MESSAGE:  12345678901234567890\n",
            "ENCRYPTED:  3363714656731319409692822426246\n",
            "DECRYPTED:  12345678901234567890\n"
          ],
          "name": "stdout"
        }
      ]
    },
    {
      "cell_type": "code",
      "metadata": {
        "id": "_IWFZqmiBX55",
        "colab_type": "code",
        "outputId": "9ec4b836-6f8e-4a0c-a1da-a6d898383702",
        "colab": {
          "base_uri": "https://localhost:8080/",
          "height": 168
        }
      },
      "source": [
        "# Block Encryption Example\n",
        "blockSize = 64\n",
        "strSize = 8\n",
        "x=\"David Ruby\"\n",
        "#x=\"ABCDEFGHIJKLMNOPQRSTUVWXYZ\"\n",
        "\n",
        "x = x+\" \"*(strSize-len(x)%strSize)  #Pad string to match Block Size\n",
        "\n",
        "y=[ \"{0:{fill}8b}\".format(ord(c), fill='0') for c in x]\n",
        "m = \"\".join(y)\n",
        "\n",
        "#mPad =m + \"0\"*(blockSize-len(m)%blockSize)\n",
        "mPad = m\n",
        "\n",
        "#mPad is full message in binary\n",
        "\n",
        "mPadList = [mPad[i:i+blockSize] for i in range(0,len(mPad),blockSize)]\n",
        "print (m, '\\n', len(m))\n",
        "print (mPad, '\\n', len(mPad))\n",
        "MessageList = [int(a,2) for a in mPadList ]\n",
        "print (MessageList)\n",
        "\n",
        "#MessageList is now a list of integers derived from blocks\n",
        "\n",
        "EncryptedList = [ME(message,keys[0][0], keys[0][1]) for message in MessageList]\n",
        "print (EncryptedList)\n",
        "\n",
        "DecryptedList = [ME(c,keys[1][0], keys[1][1]) for c in EncryptedList]\n",
        "print (DecryptedList)\n",
        "\n",
        "f = \"{0:{fill}\"+str(blockSize)+\"b}\"\n",
        "y=[ f.format(c, fill='0') for c in DecryptedList]\n",
        "m = \"\".join(y)\n",
        "print (m)\n",
        "\n",
        "# Convert each bits to a single character\n",
        "print (\"\".join( [chr(int(m[i:i+8],2)) for i in range(0,len(m),8)] ) )\n"
      ],
      "execution_count": 21,
      "outputs": [
        {
          "output_type": "stream",
          "text": [
            "01000100011000010111011001101001011001000010000001010010011101010110001001111001001000000010000000100000001000000010000000100000 \n",
            " 128\n",
            "01000100011000010111011001101001011001000010000001010010011101010110001001111001001000000010000000100000001000000010000000100000 \n",
            " 128\n",
            "[4927349662343516789, 7095738010248945696]\n",
            "[3047784318798521174154733150254, 4496072859094955006380041540842]\n",
            "[4927349662343516789, 7095738010248945696]\n",
            "01000100011000010111011001101001011001000010000001010010011101010110001001111001001000000010000000100000001000000010000000100000\n",
            "David Ruby      \n"
          ],
          "name": "stdout"
        }
      ]
    },
    {
      "cell_type": "code",
      "metadata": {
        "id": "moi8NwtlOpfa",
        "colab_type": "code",
        "outputId": "2c45217e-bac3-46a6-f000-faead8561d16",
        "colab": {
          "base_uri": "https://localhost:8080/",
          "height": 104
        }
      },
      "source": [
        "def Encrypt(message, key, blockSize):\n",
        "  encryptedBlockSize = len(bin(key[1]))\n",
        "  strSize = blockSize // 8 # 8 bits per character\n",
        "  message = message if len(message)%strSize==0 else message +\" \"*(strSize-len(message)%strSize)  #Pad string to match Block Size\n",
        "  messageBinaryList=[ \"{0:{fill}8b}\".format(ord(c), fill='0') for c in message]  # One long binary string\n",
        "  messageBinary = \"\".join(messageBinaryList)\n",
        "  messageBlockBinaryList = [messageBinary[i:i+blockSize] for i in range(0,len(messageBinary),blockSize)]  # List of Block size Binary Strings\n",
        "  messageIntList = [int(a,2) for a in messageBlockBinaryList ]  # Integer list of blocks\n",
        "\n",
        "  encryptedIntegerList = [ME(message,key[0], key[1]) for message in messageIntList]\n",
        "  f = \"{0:{fill}\"+str(encryptedBlockSize)+\"b}\" \n",
        "  encryptedBinaryList=[ f.format(c, fill='0') for c in encryptedIntegerList]\n",
        "  pList = [(cv, len(cv)) for cv in encryptedBinaryList]\n",
        "  e = \"\".join(encryptedBinaryList)\n",
        "  return e\n",
        "\n",
        "def Decrypt(message, key, blockSize):\n",
        "  encryptedBlockSize = len(bin(key[1]))\n",
        "  messageBinaryList = [message[i:i+encryptedBlockSize] for i in range(0,len(message),encryptedBlockSize)]\n",
        "  MessageIntList = [int(a,2) for a in messageBinaryList ]  \n",
        "\n",
        "  DecryptedList = [ME(c,key[0], key[1]) for c in MessageIntList]\n",
        "\n",
        "  f = \"{0:{fill}\"+str(blockSize)+\"b}\"\n",
        "  y=[ f.format(c, fill='0') for c in DecryptedList]\n",
        "  m = \"\".join(y)\n",
        "\n",
        "  # Convert each bits to a single character\n",
        "  originalMessage =  \"\".join( [chr(int(m[i:i+8],2)) for i in range(0,len(m),8)] ) \n",
        "  return originalMessage\n",
        "\n",
        "\n",
        "myMessage = \"ABCDEFGHIJKLMNOPQRSTUVWXYZ\"\n",
        "cip1 = Encrypt(myMessage, keys[0], blockSize) \n",
        "print (cip1, len(cip1))\n",
        "\n",
        "out1 = Decrypt(cip1, keys[1], blockSize )\n",
        "\n",
        "print (out1)\n",
        "\n",
        "myMessage = \"David Ruby\"\n",
        "cip2 = Encrypt(myMessage, keys[0], blockSize) \n",
        "print (cip2, len(cip2))\n",
        "\n",
        "out2 = Decrypt(cip2, keys[1], blockSize )\n",
        "\n",
        "print (out2)\n"
      ],
      "execution_count": 22,
      "outputs": [
        {
          "output_type": "stream",
          "text": [
            "00101011000100111010110111111101001110010001011100000100011001001001000111000110000110111111010011111110000010000010110110000101100000101111110011100011101011111111000111011000101011111100010110011100111010010001001000000000101010000001010001101001000101000000111100100101001101100110010000000101000000010001011000001100111001100001111000110111100001011010000011111101100010001110111001011000101010011011100110001100 416\n",
            "ABCDEFGHIJKLMNOPQRSTUVWXYZ      \n",
            "0010011001110111111011000001100110001001011011100011010011100001100110101010001101110011111000000010111000111000101111111001100001001101001110100011000101110011110110101010011101101010001100111001010011101010 208\n",
            "David Ruby      \n"
          ],
          "name": "stdout"
        }
      ]
    },
    {
      "cell_type": "code",
      "metadata": {
        "id": "0A66am9Q9l6s",
        "colab_type": "code",
        "outputId": "5a39a2d8-5ba0-4104-ca4d-8745e1b83836",
        "colab": {
          "base_uri": "https://localhost:8080/",
          "height": 437
        }
      },
      "source": [
        "def PrintEncrypted(m):\n",
        "  lineLength = 30\n",
        "  messageBlockBinaryList = [m[i:i+lineLength] for i in range(0,len(m),lineLength)]\n",
        "  for b in messageBlockBinaryList:\n",
        "    print (b)\n",
        "    \n",
        "PrintEncrypted(cip1)\n",
        "print(Decrypt(cip1, keys[1], blockSize ), '\\n')\n",
        "\n",
        "PrintEncrypted(cip2)\n",
        "print(Decrypt(cip2, keys[1], blockSize ), '\\n')"
      ],
      "execution_count": 23,
      "outputs": [
        {
          "output_type": "stream",
          "text": [
            "001010110001001110101101111111\n",
            "010011100100010111000001000110\n",
            "010010010001110001100001101111\n",
            "110100111111100000100000101101\n",
            "100001011000001011111100111000\n",
            "111010111111110001110110001010\n",
            "111111000101100111001110100100\n",
            "010010000000001010100000010100\n",
            "011010010001010000001111001001\n",
            "010011011001100100000001010000\n",
            "000100010110000011001110011000\n",
            "011110001101111000010110100000\n",
            "111111011000100011101110010110\n",
            "00101010011011100110001100\n",
            "ABCDEFGHIJKLMNOPQRSTUVWXYZ       \n",
            "\n",
            "001001100111011111101100000110\n",
            "011000100101101110001101001110\n",
            "000110011010101000110111001111\n",
            "100000001011100011100010111111\n",
            "100110000100110100111010001100\n",
            "010111001111011010101001110110\n",
            "1010001100111001010011101010\n",
            "David Ruby       \n",
            "\n"
          ],
          "name": "stdout"
        }
      ]
    },
    {
      "cell_type": "code",
      "metadata": {
        "id": "KKe9p8etamIv",
        "colab_type": "code",
        "outputId": "4abaf6e7-dcf8-46c2-b93d-687e233bb08d",
        "colab": {
          "base_uri": "https://localhost:8080/",
          "height": 118
        }
      },
      "source": [
        "p = FindPrime(8)\n",
        "q = FindPrime(8)\n",
        "print (p, q)\n",
        "phiN = (p-1)*(q-1)\n",
        "eS = [i for i in range(3, 20) if GCD(i,phiN)==1]\n",
        "print (eS)\n",
        "e = eS[0]"
      ],
      "execution_count": 24,
      "outputs": [
        {
          "output_type": "stream",
          "text": [
            "277 PRIME\n",
            "277 PRIME\n",
            "487 PRIME\n",
            "487 PRIME\n",
            "277 487\n",
            "[5, 7, 11, 13, 17, 19]\n"
          ],
          "name": "stdout"
        }
      ]
    },
    {
      "cell_type": "code",
      "metadata": {
        "id": "SJDKavcVazVS",
        "colab_type": "code",
        "outputId": "bb63daeb-9a81-493c-ad35-b2e37defbe66",
        "colab": {
          "base_uri": "https://localhost:8080/",
          "height": 252
        }
      },
      "source": [
        "rawKey1=(5, 673, 547)\n",
        "rawKey2=(7, 569, 271)\n",
        "rawKey2b=(7, 271, 569)\n",
        "e, p, q = rawKey2b\n",
        "\n",
        "blockSize = 8\n",
        "keys = GetKeys(p, q, e)\n",
        "print (keys)\n",
        "\n",
        "cip3 = Encrypt(\"DR\", keys[0], blockSize)\n",
        "PrintEncrypted(cip3)\n",
        "out = Decrypt(cip3, keys[1], blockSize )\n",
        "print (int(cip3,2))\n",
        "print(out, len(out),'\\n')\n",
        "\n",
        "cip4 = Encrypt(\"BIO\", keys[0], blockSize)\n",
        "PrintEncrypted(cip4)\n",
        "out = Decrypt(cip4, keys[1], blockSize )\n",
        "print (int(cip4,2))\n",
        "print(out, len(out),'\\n')\n",
        "\n",
        "xout=386398478110\n",
        "bxout = \"000101100111110111001001001101111100011110\"\n",
        "print(int(bxout, 2))"
      ],
      "execution_count": 25,
      "outputs": [
        {
          "output_type": "stream",
          "text": [
            "154199 153360 109543\n",
            "7 109543 153360 1\n",
            "((7, 154199), (109543, 154199))\n",
            "000000001101100010000001101001\n",
            "1001110001\n",
            "3632375409\n",
            "DR 2 \n",
            "\n",
            "000100011110001011100000111000\n",
            "100001000000010000010010101111\n",
            "80552481557382319\n",
            "BIO 3 \n",
            "\n",
            "386398478110\n"
          ],
          "name": "stdout"
        }
      ]
    }
  ]
}