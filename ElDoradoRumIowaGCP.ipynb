{
  "nbformat": 4,
  "nbformat_minor": 0,
  "metadata": {
    "colab": {
      "name": "ElDoradoRumIowaGCP.ipynb",
      "provenance": [],
      "include_colab_link": true
    },
    "kernelspec": {
      "name": "python3",
      "display_name": "Python 3"
    }
  },
  "cells": [
    {
      "cell_type": "markdown",
      "metadata": {
        "id": "view-in-github",
        "colab_type": "text"
      },
      "source": [
        "<a href=\"https://colab.research.google.com/github/everestso/47.53.59/blob/master/ElDoradoRumIowaGCP.ipynb\" target=\"_parent\"><img src=\"https://colab.research.google.com/assets/colab-badge.svg\" alt=\"Open In Colab\"/></a>"
      ]
    },
    {
      "cell_type": "markdown",
      "metadata": {
        "id": "8Kf3PyLZyN8B",
        "colab_type": "text"
      },
      "source": [
        "# Exploring El Dorado Rum Sales in Iowa w/ GCP\n"
      ]
    },
    {
      "cell_type": "code",
      "metadata": {
        "id": "tz9gaUpwGrXl",
        "colab_type": "code",
        "colab": {
          "base_uri": "https://localhost:8080/",
          "height": 136
        },
        "outputId": "f4707bdb-545e-4dcc-bec1-9858291f7dc0"
      },
      "source": [
        "from google.colab import drive\n",
        "drive.mount('/content/gdrive')\n",
        "\n",
        "#ensure the file is accessible\n",
        "!ls /content/gdrive/'My Drive'/'csuf'/'projects'/'GCP'\n",
        "\n",
        "import os\n",
        "os.environ[\"GOOGLE_APPLICATION_CREDENTIALS\"]=\"/content/gdrive/My Drive/csuf/projects/GCP/c264s20-557a598add94.json\"\n",
        "\n",
        "#ensure the path is set correctly\n",
        "!echo $GOOGLE_APPLICATION_CREDENTIALS"
      ],
      "execution_count": 21,
      "outputs": [
        {
          "output_type": "stream",
          "text": [
            "Drive already mounted at /content/gdrive; to attempt to forcibly remount, call drive.mount(\"/content/gdrive\", force_remount=True).\n",
            "c264s20-557a598add94.json  GCP.BigData.ML.Wk1Links.gdoc\n",
            "GCP.BigData.ML.gdoc\t   GCP.CoreInfrastructure.gdoc\n",
            "GCP.BigData.ML.Lab2.gdoc   GCP.ML.Special.gdoc\n",
            "GCP.BigData.ML.Lab3.gdoc   GCP.Notes.gdoc\n",
            "GCP.BigData.ML.Lab4.gdoc   public_datasets_one_pager.pdf\n",
            "/content/gdrive/My Drive/csuf/projects/GCP/c264s20-557a598add94.json\n"
          ],
          "name": "stdout"
        }
      ]
    },
    {
      "cell_type": "code",
      "metadata": {
        "id": "g3aljc8-JOc9",
        "colab_type": "code",
        "colab": {}
      },
      "source": [
        "from google.cloud import bigquery\n",
        "client = bigquery.Client()"
      ],
      "execution_count": 22,
      "outputs": []
    },
    {
      "cell_type": "code",
      "metadata": {
        "id": "E3P7Bnp0bujx",
        "colab_type": "code",
        "colab": {}
      },
      "source": [
        "from tabulate import tabulate\n",
        "pdtabulate=lambda df:tabulate(df,headers='keys')\n",
        "dfprint = lambda df:print(pdtabulate(df))"
      ],
      "execution_count": 23,
      "outputs": []
    },
    {
      "cell_type": "code",
      "metadata": {
        "id": "LvpEwXsUaEEz",
        "colab_type": "code",
        "colab": {}
      },
      "source": [
        "sql = \"\"\"\n",
        "SELECT \n",
        "  item_description\n",
        "  ,ROUND(SUM(volume_sold_gallons),2) AS gallons_sold\n",
        "FROM `bigquery-public-data.iowa_liquor_sales.sales` \n",
        "WHERE item_description like \"%El Dorado%\"\n",
        "GROUP BY 1\n",
        "ORDER BY 2 DESC\n",
        "\"\"\"\n",
        "df = client.query(sql).to_dataframe()"
      ],
      "execution_count": 24,
      "outputs": []
    },
    {
      "cell_type": "code",
      "metadata": {
        "id": "jevBMkPtbdZk",
        "colab_type": "code",
        "colab": {
          "base_uri": "https://localhost:8080/",
          "height": 153
        },
        "outputId": "82ce3f5d-cbd1-422c-9c73-38e528b5bb2b"
      },
      "source": [
        "dfprint(df)"
      ],
      "execution_count": 25,
      "outputs": [
        {
          "output_type": "stream",
          "text": [
            "    item_description                             gallons_sold\n",
            "--  -----------------------------------------  --------------\n",
            " 0  El Dorado Special Reserve 12YR                      27.29\n",
            " 1  El Dorado 15 Year Old Special Reserve Rum           22.5\n",
            " 2  El Dorado 8YR                                       20.15\n",
            " 3  El Dorado Special Reserve Rum                       13.09\n",
            " 4  El Dorado 21YR Special Reserve Rum                   3.55\n",
            " 5  El Dorado 3 Year Old Rum                             2.37\n"
          ],
          "name": "stdout"
        }
      ]
    },
    {
      "cell_type": "code",
      "metadata": {
        "id": "gbzcVYYNFAmB",
        "colab_type": "code",
        "colab": {}
      },
      "source": [
        "sql = \"\"\"\n",
        "SELECT \n",
        "  store_number\n",
        "  , city\n",
        "  , extract(year from date) as year\n",
        "  , sum( volume_sold_gallons )\n",
        "FROM `bigquery-public-data.iowa_liquor_sales.sales` \n",
        "where item_description like \"%El Dorado%\" \n",
        "group by 1, 2, 3\n",
        "order by 4\n",
        "\"\"\"\n",
        "df = client.query(sql).to_dataframe()"
      ],
      "execution_count": 26,
      "outputs": []
    },
    {
      "cell_type": "code",
      "metadata": {
        "id": "Sh__0hhGJ96U",
        "colab_type": "code",
        "colab": {
          "base_uri": "https://localhost:8080/",
          "height": 425
        },
        "outputId": "0ef048cf-ab17-4a69-ef8b-615cd85a260e"
      },
      "source": [
        "dfprint(df)"
      ],
      "execution_count": 27,
      "outputs": [
        {
          "output_type": "stream",
          "text": [
            "      store_number  city            year    f0_\n",
            "--  --------------  ------------  ------  -----\n",
            " 0            5444  Marshalltown    2020   0.59\n",
            " 1            3820  Sioux City      2019   1.18\n",
            " 2            2248  Des Moines      2019   1.18\n",
            " 3            5251  Mason City      2019   1.18\n",
            " 4            4129  AMES            2016   1.19\n",
            " 5            3896  Iowa City       2018   1.19\n",
            " 6            3896  Iowa City       2016   1.19\n",
            " 7            2285  IOWA CITY       2013   1.19\n",
            " 8            4129  Ames            2020   2.36\n",
            " 9            3773  Cedar Rapids    2017   2.38\n",
            "10            4129  AMES            2012   2.38\n",
            "11            5463  Decorah         2019   3.55\n",
            "12            5463  Decorah         2018   3.55\n",
            "13            4129  AMES            2013   3.57\n",
            "14            4129  Ames            2016   3.57\n",
            "15            4129  Ames            2017   4.76\n",
            "16            4129  Ames            2018   4.76\n",
            "17            4129  Ames            2019   7.11\n",
            "18            2190  Des Moines      2018   7.12\n",
            "19            2190  Des Moines      2017   7.14\n",
            "20            2190  Des Moines      2020  13.62\n",
            "21            2190  Des Moines      2019  14.19\n"
          ],
          "name": "stdout"
        }
      ]
    },
    {
      "cell_type": "code",
      "metadata": {
        "id": "S4LKY8oeKBNQ",
        "colab_type": "code",
        "colab": {}
      },
      "source": [
        "sql = \"\"\"\n",
        "SELECT distinct\n",
        "  store_number\n",
        "  , store_name\n",
        "  , address\n",
        "  , city\n",
        "FROM `bigquery-public-data.iowa_liquor_sales.sales` \n",
        "#where extract(year from date) = 2019 and extract(month from date)=11\n",
        "where store_number in unnest([\n",
        "\"5251\", \"3820\",\n",
        "\"2285\", \"3896\",\n",
        "\"3773\", \"5463\",\n",
        "\"4129\", \"2190\"\n",
        "])\n",
        "\"\"\"\n",
        "df = client.query(sql).to_dataframe()"
      ],
      "execution_count": 28,
      "outputs": []
    },
    {
      "cell_type": "code",
      "metadata": {
        "id": "uwD7KD-XKYCV",
        "colab_type": "code",
        "colab": {
          "base_uri": "https://localhost:8080/",
          "height": 357
        },
        "outputId": "041f735c-2567-485c-eff1-970517ff40cf"
      },
      "source": [
        "dfprint(df.sort_values(by=['store_number','address']))"
      ],
      "execution_count": 29,
      "outputs": [
        {
          "output_type": "stream",
          "text": [
            "      store_number  store_name                                   address               city\n",
            "--  --------------  -------------------------------------------  --------------------  ------------\n",
            " 0            2190  Central City Liquor, Inc.                    1460 2ND AVE          Des Moines\n",
            " 2            2190  Central City Liquor, Inc.                    1460 2ND AVE          DES MOINES\n",
            "16            2190  Central City Liquor, Inc.                    1460 2nd Ave          Des Moines\n",
            " 3            2285  John's Grocery                               401 EAST MARKET ST    IOWA CITY\n",
            " 9            2285  John's Grocery                               401 East Market St    Iowa City\n",
            " 1            3773  Benz Distributing                            501 7TH AVE SE        CEDAR RAPIDS\n",
            " 5            3773  Benz Distributing                            501 7th Ave SE        Cedar Rapids\n",
            "10            3820  Charlie's Wine and Spirits,                  507 W 19th St         SIOUX CITY\n",
            "14            3820  Charlie's Wine and Spirits,                  507 W 19th St         Sioux City\n",
            "15            3896  Smokin' Joe's #18 Tobacco and Liquor         1901 BROADWAY ST      IOWA CITY\n",
            " 8            3896  Smokin' Joe's #18 Tobacco and Liquor Outlet  1901 Broadway St      Iowa City\n",
            "11            3896  Smokin' Joe's #18 Tobacco and Liquor         1901 Broadway St      Iowa City\n",
            " 4            4129  Cyclone Liquors                              626 LINCOLN WAY       AMES\n",
            " 6            4129  Cyclone Liquors                              626 Lincoln Way       Ames\n",
            " 7            5251  Northside Liquor                             1303 North Federal    Mason City\n",
            "12            5251  Northside Liquor                             1303, North Federal   Mason City\n",
            "17            5251  Northside Liquor\n",
            "13            5463  Backwater Spirits and More                   116 W Water St Ste D  Decorah\n"
          ],
          "name": "stdout"
        }
      ]
    }
  ]
}